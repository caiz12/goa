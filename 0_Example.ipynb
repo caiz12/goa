{
 "cells": [
  {
   "cell_type": "markdown",
   "metadata": {},
   "source": [
    "## Example application\n",
    "\n",
    "The following notebook runs through the application of the pipeline in [Lovell et al. 17](https://arxiv.org/abs/1710.02148v1) to an observed overdensity. Here we look at BOSS1441 from [Cai et al. 17](https://arxiv.org/abs/1609.02913).\n",
    "\n",
    "First, load some standard modules."
   ]
  },
  {
   "cell_type": "code",
   "execution_count": 1,
   "metadata": {
    "collapsed": true
   },
   "outputs": [],
   "source": [
    "import pandas as pd\n",
    "import numpy as np\n",
    "import pickle as pcl\n",
    "\n",
    "%matplotlib inline\n",
    "import matplotlib.pyplot as plt\n",
    "import matplotlib.gridspec as gridspec\n",
    "import matplotlib.patches as mpatches\n",
    "from matplotlib import rc\n",
    "rc('font',**{'family':'sans-serif','sans-serif':['Helvetica']})\n",
    "rc('text', usetex=True)"
   ]
  },
  {
   "cell_type": "markdown",
   "metadata": {},
   "source": [
    "Before we start we need to download galaxy catalogues from a cosmological simulation. Here, as in Lovell+17, we use the L-Galaxies SAM results from the nearest snapshot (29). An example query script is shown in the `queries/` folder."
   ]
  },
  {
   "cell_type": "code",
   "execution_count": 2,
   "metadata": {
    "collapsed": true
   },
   "outputs": [],
   "source": [
    "h = 0.673\n",
    "L = 480.279 / h # box side length\n",
    "\n",
    "directory = '/lustre/scratch/astro/cl478/protoclusters_data/'\n",
    "out_directory = 'output/'\n",
    "\n",
    "redshifts = ['2p25', '2p44']\n",
    "zees = [float(z.replace('p','.')) for z in redshifts]"
   ]
  },
  {
   "cell_type": "markdown",
   "metadata": {},
   "source": [
    "Import catalogues, apply z-distortion and h factor correction"
   ]
  },
  {
   "cell_type": "code",
   "execution_count": 3,
   "metadata": {
    "collapsed": true
   },
   "outputs": [],
   "source": [
    "from methods import z_distort, factor_h\n",
    "\n",
    "gals_z2p25 = z_distort(factor_h(pd.read_csv('%shenriques2015a_z%s_sfr_r200.csv'%(directory,redshifts[0]), \n",
    "                                skiprows=122, skipfooter=1, engine='python'), h), zees[0], L)"
   ]
  },
  {
   "cell_type": "markdown",
   "metadata": {},
   "source": [
    "MAMMOTH overdensities"
   ]
  },
  {
   "cell_type": "code",
   "execution_count": 4,
   "metadata": {},
   "outputs": [
    {
     "data": {
      "text/html": [
       "<div>\n",
       "<style>\n",
       "    .dataframe thead tr:only-child th {\n",
       "        text-align: right;\n",
       "    }\n",
       "\n",
       "    .dataframe thead th {\n",
       "        text-align: left;\n",
       "    }\n",
       "\n",
       "    .dataframe tbody tr th {\n",
       "        vertical-align: top;\n",
       "    }\n",
       "</style>\n",
       "<table border=\"1\" class=\"dataframe\">\n",
       "  <thead>\n",
       "    <tr style=\"text-align: right;\">\n",
       "      <th></th>\n",
       "      <th>D</th>\n",
       "      <th>R</th>\n",
       "      <th>delta_g</th>\n",
       "      <th>delta_g_err</th>\n",
       "      <th>dz</th>\n",
       "      <th>name</th>\n",
       "      <th>window</th>\n",
       "      <th>z</th>\n",
       "    </tr>\n",
       "  </thead>\n",
       "  <tbody>\n",
       "    <tr>\n",
       "      <th>0</th>\n",
       "      <td>57.9</td>\n",
       "      <td>5.0</td>\n",
       "      <td>11.8</td>\n",
       "      <td>2.0</td>\n",
       "      <td>0.045</td>\n",
       "      <td>BOSS1441 (A)</td>\n",
       "      <td>36.0</td>\n",
       "      <td>2.32</td>\n",
       "    </tr>\n",
       "    <tr>\n",
       "      <th>1</th>\n",
       "      <td>57.9</td>\n",
       "      <td>9.9</td>\n",
       "      <td>9.3</td>\n",
       "      <td>1.6</td>\n",
       "      <td>0.045</td>\n",
       "      <td>BOSS1441 (B)</td>\n",
       "      <td>140.0</td>\n",
       "      <td>2.32</td>\n",
       "    </tr>\n",
       "    <tr>\n",
       "      <th>2</th>\n",
       "      <td>57.8</td>\n",
       "      <td>9.9</td>\n",
       "      <td>15.9</td>\n",
       "      <td>2.5</td>\n",
       "      <td>0.045</td>\n",
       "      <td>BOSS1542</td>\n",
       "      <td>140.0</td>\n",
       "      <td>2.25</td>\n",
       "    </tr>\n",
       "    <tr>\n",
       "      <th>3</th>\n",
       "      <td>57.9</td>\n",
       "      <td>9.9</td>\n",
       "      <td>13.3</td>\n",
       "      <td>2.3</td>\n",
       "      <td>0.045</td>\n",
       "      <td>BOSS1244</td>\n",
       "      <td>140.0</td>\n",
       "      <td>2.32</td>\n",
       "    </tr>\n",
       "  </tbody>\n",
       "</table>\n",
       "</div>"
      ],
      "text/plain": [
       "      D    R  delta_g  delta_g_err     dz          name  window     z\n",
       "0  57.9  5.0     11.8          2.0  0.045  BOSS1441 (A)    36.0  2.32\n",
       "1  57.9  9.9      9.3          1.6  0.045  BOSS1441 (B)   140.0  2.32\n",
       "2  57.8  9.9     15.9          2.5  0.045      BOSS1542   140.0  2.25\n",
       "3  57.9  9.9     13.3          2.3  0.045      BOSS1244   140.0  2.32"
      ]
     },
     "execution_count": 4,
     "metadata": {},
     "output_type": "execute_result"
    }
   ],
   "source": [
    "obs = pd.DataFrame()\n",
    "\n",
    "obs = obs.append({'name': 'BOSS1441 (A)', 'z': 2.32, 'dz': 0.045, 'window': 36, 'R': 5.0, \n",
    "                  'delta_g': 11.8, 'delta_g_err': 2.0, 'D': 57.9}, ignore_index=True)\n",
    "\n",
    "obs = obs.append({'name': 'BOSS1441 (B)', 'z': 2.32, 'dz': 0.045, 'window': 140, 'R': 9.9, \n",
    "                  'delta_g': 9.3, 'delta_g_err': 1.6, 'D': 57.9}, ignore_index=True)\n",
    "\n",
    "obs = obs.append({'name': 'BOSS1542', 'z': 2.25, 'dz': 0.045, 'window': 140, 'R': 9.9, \n",
    "                  'delta_g': 15.9, 'delta_g_err': 2.5, 'D': 57.8}, ignore_index=True)\n",
    "\n",
    "obs = obs.append({'name': 'BOSS1244', 'z': 2.32, 'dz': 0.045, 'window': 140, 'R': 9.9, \n",
    "                  'delta_g': 13.3, 'delta_g_err': 2.3, 'D': 57.9}, ignore_index=True)\n",
    "\n",
    "obs"
   ]
  },
  {
   "cell_type": "markdown",
   "metadata": {},
   "source": [
    "Choose a candidate"
   ]
  },
  {
   "cell_type": "code",
   "execution_count": 5,
   "metadata": {
    "collapsed": true
   },
   "outputs": [],
   "source": [
    "candidate = obs.loc[1]"
   ]
  },
  {
   "cell_type": "markdown",
   "metadata": {},
   "source": [
    "### Find protocluster coordinates. \n",
    "\n",
    "The `get_protoclusters` method returns coordinates, central subhalo Id's and  descendant $M_{200}$ masses for all objects above `cluster_lim`. Here, we choose all group mass objects."
   ]
  },
  {
   "cell_type": "code",
   "execution_count": 6,
   "metadata": {
    "collapsed": true
   },
   "outputs": [],
   "source": [
    "from methods import get_protoclusters\n",
    "\n",
    "group_coods = get_protoclusters(gals_z2p25, L, cluster_lim=1e3)"
   ]
  },
  {
   "cell_type": "markdown",
   "metadata": {},
   "source": [
    "### Find limiting completeness and purity\n",
    "\n",
    "The method `overdensity_cylinder` finds the completeness and purity of the galaxy population surrounding each protocluster, which can be used to define $C_{lim}$ and $P_{lim}$."
   ]
  },
  {
   "cell_type": "code",
   "execution_count": 7,
   "metadata": {
    "collapsed": true
   },
   "outputs": [],
   "source": [
    "from methods import overdensity_cylinder\n",
    "\n",
    "pc_mask = group_coods['clusters']['z0_central_mcrit200'].values > 1e4\n",
    "\n",
    "c_p = overdensity_cylinder(gals_z2p25, group_coods['coods'], \n",
    "                        R=candidate['R'], dc=candidate['D'] / 2, L=L, pc_stats=True)"
   ]
  },
  {
   "cell_type": "code",
   "execution_count": 8,
   "metadata": {},
   "outputs": [
    {
     "name": "stdout",
     "output_type": "stream",
     "text": [
      "Clim (5th, median, 95th): [ 1.     1.     0.879] \n",
      "Plim (5th, median, 95th): [ 0.573  0.295  0.144]\n"
     ]
    }
   ],
   "source": [
    "clim = np.round(np.percentile(c_p[pc_mask,1], [95,50,5]),3)\n",
    "plim = np.round(np.percentile(c_p[pc_mask,2], [95,50,5]),3)\n",
    "\n",
    "print \"Clim (5th, median, 95th):\", clim, \"\\nPlim (5th, median, 95th):\", plim\n",
    "\n",
    "dgal = c_p[:,0]\n",
    "cmass = group_coods['clusters']['z0_central_mcrit200'].values"
   ]
  },
  {
   "cell_type": "markdown",
   "metadata": {},
   "source": [
    "### Random region stats\n",
    "\n",
    "Generate `N` random coordinates within the simulation volume."
   ]
  },
  {
   "cell_type": "code",
   "execution_count": 9,
   "metadata": {
    "collapsed": true
   },
   "outputs": [],
   "source": [
    "N = 100000   # number of random regions\n",
    "coods = pd.DataFrame(np.random.rand(N,3) * L, columns=['zn_x','zn_y','zn_z'])"
   ]
  },
  {
   "cell_type": "markdown",
   "metadata": {},
   "source": [
    "Calculate overdensity and completeness / purity of each random region.\n",
    "\n",
    "The `overdensity_cylinder` method takes a dataframe of galaxy properties, and a dataframe of coordinates, and calculates $\\delta_{g}$, $C_{lim}$ and $P_{lim}$ for each region.\n",
    "\n",
    "**Warning:** can take a while for > 10000 regions"
   ]
  },
  {
   "cell_type": "code",
   "execution_count": 10,
   "metadata": {
    "collapsed": true
   },
   "outputs": [],
   "source": [
    "stats = overdensity_cylinder(gals_z2p25, coods, R=candidate['R'], dc=candidate['D'] / 2, L=L, pc_stats=True)"
   ]
  },
  {
   "cell_type": "markdown",
   "metadata": {},
   "source": [
    "Label each random region based on the 5th percentile of the completeness and purity of the protocluster population (`clim` and `plim` calculated previously)."
   ]
  },
  {
   "cell_type": "code",
   "execution_count": 29,
   "metadata": {
    "collapsed": true
   },
   "outputs": [],
   "source": [
    "from methods import label\n",
    "\n",
    "labs, labels = label(stats, clim=clim[2], plim=plim[2])"
   ]
  },
  {
   "cell_type": "markdown",
   "metadata": {},
   "source": [
    "Bin labels by overdensity"
   ]
  },
  {
   "cell_type": "code",
   "execution_count": 30,
   "metadata": {
    "collapsed": true
   },
   "outputs": [],
   "source": [
    "from methods import binit\n",
    "\n",
    "n = 18\n",
    "minimum = 10\n",
    "\n",
    "bins, binLimits, agg, agg_total, fracs = binit(stats, labs, labels, N=n, minimum=minimum)"
   ]
  },
  {
   "cell_type": "markdown",
   "metadata": {},
   "source": [
    "### Protocluster probability\n",
    "\n",
    "Calculate protocluster probability for the observational overdensity by finding the ratio of Proto + PartProto regions to Field +  ProtoField regions with that overdensity."
   ]
  },
  {
   "cell_type": "code",
   "execution_count": 54,
   "metadata": {},
   "outputs": [
    {
     "data": {
      "text/plain": [
       "0.5"
      ]
     },
     "execution_count": 54,
     "metadata": {},
     "output_type": "execute_result"
    }
   ],
   "source": [
    "bin_idx = np.where(candidate['delta_g'] > bins)[0].max()\n",
    "\n",
    "protocluster_labels = labels[:4]\n",
    "\n",
    "proto_fractions = np.nansum([fracs[l] for l in protocluster_labels], axis=0)\n",
    "\n",
    "Pdgal = proto_fractions[bin_idx]\n",
    "Pdgal"
   ]
  },
  {
   "cell_type": "markdown",
   "metadata": {},
   "source": [
    "### Descendant mass\n",
    "\n",
    "Estimate descendant mass from overdensity fit, and quote coefficient of determination.\n",
    "\n",
    "`dgal_threshold` defines the threshold overdensity above which to fit. This is chosen rather arbitrarily, but should be sufficiently far from the bulk of the overdensity measurements below the cluster mass threshold."
   ]
  },
  {
   "cell_type": "code",
   "execution_count": 69,
   "metadata": {},
   "outputs": [
    {
     "name": "stdout",
     "output_type": "stream",
     "text": [
      "R2: 0.117 \n",
      "Mdesc: 14.69\n"
     ]
    }
   ],
   "source": [
    "from scipy.optimize import curve_fit\n",
    "from methods import fit_func, r2\n",
    "\n",
    "dgal_threshold =np.mean(dgal[cmass > 1e4]) + 1.5\n",
    "\n",
    "fit_mask = dgal > dgal_threshold\n",
    "\n",
    "x = np.zeros((dgal.shape[0], 2))  # create feature array\n",
    "\n",
    "x[:,0] = dgal\n",
    "x[:,1] = candidate['z']\n",
    "\n",
    "popt, pcov = curve_fit(fit_func, x[fit_mask,:].T, cmass[fit_mask], maxfev=20000)\n",
    "\n",
    "R2 = r2(cmass[fit_mask], fit_func(x[fit_mask,:].T, popt[0], popt[1], popt[2], popt[3]))\n",
    "Mdesc = np.log10(fit_func(np.array([candidate['delta_g'], candidate['z']]), \n",
    "                  popt[0], popt[1], popt[2], popt[3]) * 1e10)\n",
    "\n",
    "print \"R2:\", round(R2, 3), \"\\nMdesc:\", round(Mdesc, 3)"
   ]
  },
  {
   "cell_type": "markdown",
   "metadata": {},
   "source": [
    "## Plot\n",
    "\n",
    "Plot of the probability distribution for the labelled random regions, and the fitted overdensity-descendant mass relation"
   ]
  },
  {
   "cell_type": "code",
   "execution_count": 70,
   "metadata": {},
   "outputs": [
    {
     "data": {
      "image/png": "[encoded data removed]",
      "text/plain": [
       "<matplotlib.figure.Figure at 0x2aab1dc43b90>"
      ]
     },
     "metadata": {},
     "output_type": "display_data"
    }
   ],
   "source": [
    "from methods import plotit\n",
    "\n",
    "fig = plt.figure(figsize=(5,8))\n",
    "\n",
    "gs = gridspec.GridSpec(2,1)\n",
    "gs.update(hspace=0, wspace=0)\n",
    "\n",
    "ax1 = fig.add_subplot(gs[0,0])\n",
    "ax2 = fig.add_subplot(gs[1,0])\n",
    "\n",
    "textsize=18\n",
    "\n",
    "plotit(ax1, stats, axb=None, N=n, clim=clim[2], plim=plim[2], minimum=minimum);\n",
    "\n",
    "ax2.plot(dgal + 1, np.log10(cmass * 1e10), '.', markersize=1);\n",
    "\n",
    "ax2.set_ylim(13., 15.9)\n",
    "\n",
    "for ax in [ax1,ax2]:\n",
    "    \n",
    "    ax.vlines(candidate['delta_g'] + 1, ax.get_ylim()[0], ax.get_ylim()[1], linestyle='dotted', color='red', zorder=10)\n",
    "    \n",
    "    ax.axvspan(candidate['delta_g'] - candidate['delta_g_err']+1, \n",
    "               candidate['delta_g'] + candidate['delta_g_err']+1, \n",
    "               color='red', alpha=0.1, zorder=10)\n",
    "\n",
    "\n",
    "ax2.hlines(14, 0, ax2.get_xlim()[1], linestyle='dashed', alpha=0.5, zorder=10);\n",
    "\n",
    "## Plot fit\n",
    "\n",
    "def scale(x):\n",
    "    return np.log10(x * 1e10)\n",
    "\n",
    "dgal_range = np.linspace(dgal_threshold, dgal.max(), 100)\n",
    "\n",
    "ax.vlines(dgal_threshold + 1, ax.get_ylim()[0], ax.get_ylim()[1], linestyle='dotted')\n",
    "\n",
    "ax.plot(dgal_range+1, scale(fit_func(np.vstack([dgal_range, np.full(len(dgal_range), x[0,1])]),\n",
    "                             popt[0], popt[1], popt[2], popt[3])))\n",
    "\n",
    "\n",
    "ax1.set_xticklabels([])\n",
    "ax2.set_xlabel('$\\delta_{g} + 1$', size=textsize)\n",
    "\n",
    "ax1.set_ylabel('$f$', size=textsize)\n",
    "ax2.set_ylabel('$\\mathrm{log_{10}}(M_{200} / M_{\\odot})$', size=textsize)\n",
    "\n",
    "ax1.text(0.05, 0.88, candidate['name'], transform=ax1.transAxes, size=textsize, alpha=0.6)\n",
    "\n",
    "for ax in [ax1, ax2]:\n",
    "        ax.set_xlim(0, max(candidate['delta_g'] + 2, np.max(dgal) + 1))\n"
   ]
  },
  {
   "cell_type": "code",
   "execution_count": null,
   "metadata": {
    "collapsed": true
   },
   "outputs": [],
   "source": []
  }
 ],
 "metadata": {
  "kernelspec": {
   "display_name": "Python 2",
   "language": "python",
   "name": "python2"
  },
  "language_info": {
   "codemirror_mode": {
    "name": "ipython",
    "version": 2
   },
   "file_extension": ".py",
   "mimetype": "text/x-python",
   "name": "python",
   "nbconvert_exporter": "python",
   "pygments_lexer": "ipython2",
   "version": "2.7.12"
  }
 },
 "nbformat": 4,
 "nbformat_minor": 2
}
