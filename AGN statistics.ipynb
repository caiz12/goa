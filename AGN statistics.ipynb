{
 "cells": [
  {
   "cell_type": "markdown",
   "metadata": {},
   "source": [
    "# AGN selections\n",
    "\n",
    "Plots and stats for AGN section of the paper."
   ]
  },
  {
   "cell_type": "code",
   "execution_count": 2,
   "metadata": {
    "collapsed": true
   },
   "outputs": [],
   "source": [
    "import pandas as pd\n",
    "import numpy as np\n",
    "import pickle as pcl\n",
    "\n",
    "from scipy.stats import binned_statistic\n",
    "\n",
    "%matplotlib inline\n",
    "import matplotlib.pyplot as plt\n",
    "import matplotlib.gridspec as gridspec\n",
    "import matplotlib.patches as mpatches\n",
    "from matplotlib import rc\n",
    "rc('font',**{'family':'sans-serif','sans-serif':['Helvetica']})\n",
    "rc('text', usetex=True)\n",
    "\n",
    "from palettable.tableau import GreenOrange_12\n",
    "cmap = GreenOrange_12.hex_colors\n",
    "\n",
    "from astropy.cosmology import Planck13, z_at_value\n",
    "import astropy.units as u\n",
    "\n",
    "from methods import normalise_coods\n",
    "from methods import z_distort\n",
    "from methods import factor_h\n",
    "from methods import bhattacharyya\n",
    "\n",
    "from overdensity_cylinder import overdensity_cylinder\n",
    "\n",
    "h = 0.673\n",
    "L = 480.279 / h\n",
    "\n",
    "c = 2.97e8 # m s^-1\n",
    "\n",
    "directory = '/lustre/scratch/astro/cl478/protoclusters_data/'\n",
    "# directory = '/cosma/home/dp004/dc-love2/gpfs/protoclusters_data/'"
   ]
  },
  {
   "cell_type": "code",
   "execution_count": 3,
   "metadata": {
    "collapsed": true
   },
   "outputs": [],
   "source": [
    "redshifts = ['2p07','3p10','3p95','5p03','5p92','6p97','8p22','8p93','9p72']\n",
    "zees = [float(z.replace('p','.')) for z in redshifts]"
   ]
  },
  {
   "cell_type": "markdown",
   "metadata": {
    "collapsed": true
   },
   "source": [
    "Load data"
   ]
  },
  {
   "cell_type": "code",
   "execution_count": 11,
   "metadata": {
    "scrolled": true
   },
   "outputs": [
    {
     "name": "stderr",
     "output_type": "stream",
     "text": [
      "/mnt/pact/cl478/protoclusters/protoclusters/lib/python2.7/site-packages/ipykernel_launcher.py:11: DeprecationWarning: \n",
      ".ix is deprecated. Please use\n",
      ".loc for label based indexing or\n",
      ".iloc for positional indexing\n",
      "\n",
      "See the documentation here:\n",
      "http://pandas.pydata.org/pandas-docs/stable/indexing.html#ix-indexer-is-deprecated\n",
      "  # This is added back by InteractiveShellApp.init_path()\n"
     ]
    }
   ],
   "source": [
    "gals_sfr = [None] * len(redshifts)\n",
    "gals_mstar = [None] * len(redshifts)\n",
    "\n",
    "for i, (z, zed) in enumerate(zip(redshifts,zees)):  \n",
    "    gals_sfr[i] = z_distort(factor_h(pd.read_csv('%shenriques2015a_z%s_sfr_r200.csv'%(directory,z), \\\n",
    "                              skiprows=122, skipfooter=1, engine='python'), h), zed, L)\n",
    "    \n",
    "    gals_mstar[i] = z_distort(factor_h(pd.read_csv('%shenriques2015a_z%s_stellarMass_r200.csv'%(directory,z), \\\n",
    "                                skiprows=122, skipfooter=1, engine='python'), h), zed, L)\n",
    "    \n",
    "    for gals in [gals_sfr, gals_mstar]:\n",
    "#         print \"Filling in NaN values...\"\n",
    "        gals[i].ix[np.isnan(gals[i]['z0_haloId']), 'z0_haloId'] = -1\n",
    "        gals[i].ix[np.isnan(gals[i]['z0_centralId']), 'z0_centralId'] = -1\n",
    "        gals[i].ix[np.isnan(gals[i]['z0_central_mcrit200']), 'z0_central_mcrit200'] = 0"
   ]
  },
  {
   "cell_type": "markdown",
   "metadata": {},
   "source": [
    "Quasar / HzRG accretion limits"
   ]
  },
  {
   "cell_type": "code",
   "execution_count": 285,
   "metadata": {},
   "outputs": [
    {
     "name": "stdout",
     "output_type": "stream",
     "text": [
      "quasar limits: 0.00359737971146 0.0179868985573\n",
      "radio limits: 0.001 0.04\n"
     ]
    }
   ],
   "source": [
    "def luminosity_to_accretion(lum, epsilon=0.1):    \n",
    "    acc = lum / epsilon / c**2\n",
    "    acc /= 1.989e30\n",
    "    acc *= (365.25*24*60*60)\n",
    "    acc /= 1e7\n",
    "    return acc\n",
    "\n",
    "quasar_lim = luminosity_to_accretion(2e43)\n",
    "cons_quasar_lim = luminosity_to_accretion(1e44)\n",
    "\n",
    "radio_lim = 0.001\n",
    "cons_radio_lim = 0.04 # .005\n",
    "\n",
    "print \"quasar limits:\", quasar_lim, cons_quasar_lim\n",
    "print \"radio limits:\", radio_lim, cons_radio_lim"
   ]
  },
  {
   "cell_type": "code",
   "execution_count": 286,
   "metadata": {
    "collapsed": true
   },
   "outputs": [],
   "source": [
    "def accr_to_lbol(accr, sol=True, epsilon=0.1):\n",
    "    lbol = accr / (365.25*24*60*60) * c**2 * epsilon * 1.989e30 * 1e7\n",
    "    if sol: lbol /= 3.9e33\n",
    "    return lbol"
   ]
  },
  {
   "cell_type": "markdown",
   "metadata": {},
   "source": [
    "### Number densities"
   ]
  },
  {
   "cell_type": "code",
   "execution_count": 287,
   "metadata": {
    "collapsed": true
   },
   "outputs": [],
   "source": [
    "def H06(x, z=0, hubble_units=0, **kwargs):\n",
    "    \"\"\"\n",
    "    Inputs: xmin, xmax - range along x-axis\n",
    "            z - redshift\n",
    "            *args - optional plotting arguments\n",
    "    \"\"\"\n",
    "\n",
    "    h100=0.7\n",
    "    phi_star=10.**(-4.825) #/h100**3\n",
    "    zref=2.\n",
    "    log10L_star0=13.036  # L_star is in Lsun\n",
    "    kL1=0.632\n",
    "    kL2=-11.76\n",
    "    kL3=-14.25\n",
    "    gamma10=0.417\n",
    "    kg1=-0.623\n",
    "    gamma20=2.174\n",
    "    kg21=1.460\n",
    "    kg22=-0.793\n",
    "    \n",
    "    eps=np.log10((1+z)/(1+zref))\n",
    "    x_star=log10L_star0+kL1*eps+kL2*eps**2+kL3*eps**3\n",
    "    if hubble_units==2: x_star=x_star+2*np.log10(h100)\n",
    "    xx=10.**(x-x_star)\n",
    "    gamma1=gamma10*10.**(eps*kg1)\n",
    "    gamma2=2.*gamma20/(10.**(eps*kg21)+10.**(eps*kg22))\n",
    "    y=phi_star/(xx**gamma1+xx**gamma2)\n",
    "    if hubble_units==1 or hubble_units==2: y=y/h100**3\n",
    "    return y\n"
   ]
  },
  {
   "cell_type": "code",
   "execution_count": 288,
   "metadata": {
    "collapsed": true
   },
   "outputs": [],
   "source": [
    "def Wall(z):\n",
    "    return -12.49 + 2.704*z - 1.145*z**2 + 0.1796*z**3 - 0.01019*z**4\n"
   ]
  },
  {
   "cell_type": "code",
   "execution_count": 289,
   "metadata": {
    "collapsed": true
   },
   "outputs": [],
   "source": [
    "from scipy.integrate import quad"
   ]
  },
  {
   "cell_type": "code",
   "execution_count": 290,
   "metadata": {
    "collapsed": true
   },
   "outputs": [],
   "source": [
    "numbden = np.zeros((2, len(redshifts[:5])))\n",
    "\n",
    "for i, z in enumerate(redshifts[:5]):\n",
    "    numbden[0, i] = np.sum(gals[i]['zn_radioAccretionRate'] >= radio_lim) / L**3  # Mpc^-3\n",
    "    numbden[1, i] = np.sum(gals[i]['zn_quasarAccretionRate'] >= quasar_lim) / L**3  # Mpc^-3"
   ]
  },
  {
   "cell_type": "code",
   "execution_count": null,
   "metadata": {
    "collapsed": true
   },
   "outputs": [],
   "source": []
  },
  {
   "cell_type": "code",
   "execution_count": 299,
   "metadata": {},
   "outputs": [
    {
     "name": "stderr",
     "output_type": "stream",
     "text": [
      "/mnt/pact/cl478/protoclusters/protoclusters/lib/python2.7/site-packages/ipykernel_launcher.py:27: RuntimeWarning: overflow encountered in double_scalars\n",
      "/mnt/pact/cl478/protoclusters/protoclusters/lib/python2.7/site-packages/ipykernel_launcher.py:24: RuntimeWarning: overflow encountered in double_scalars\n"
     ]
    },
    {
     "data": {
      "text/plain": [
       "<matplotlib.text.Text at 0x2aac4748d6d0>"
      ]
     },
     "execution_count": 299,
     "metadata": {},
     "output_type": "execute_result"
    },
    {
     "data": {
      "image/png": "[encoded data removed]",
      "text/plain": [
       "<matplotlib.figure.Figure at 0x2aac47732250>"
      ]
     },
     "metadata": {},
     "output_type": "display_data"
    }
   ],
   "source": [
    "fig = plt.figure(figsize=(5, 4))\n",
    "\n",
    "plt.plot(zees[:5], np.log10(numbden[0]), label='HzRGs');\n",
    "plt.plot(zees[:5], np.log10(numbden[1]), label='QSOs', color='orange');\n",
    "\n",
    "# use cut off equivalent to 1e44 Lbol erg s^-1\n",
    "plt.plot(zees[:5], np.log10([quad(H06, np.log10(1e11 / 3), np.inf, z)[0] for z in zees[:5]]), label='HRH+06', color='orange', linestyle='dashed')\n",
    "\n",
    "plt.legend(frameon=False, prop={'size': 14});\n",
    "plt.xlabel('$z$', size=16)\n",
    "plt.ylabel('$\\mathrm{log_{10}(\\phi \\;\\; Mpc^{-3})}$', size=16)\n",
    "\n",
    "# plt.savefig('output/AGN_number_densities.png', bbox_inches='tight', dpi=300)"
   ]
  },
  {
   "cell_type": "markdown",
   "metadata": {},
   "source": [
    "## Average host halo mass\n",
    "\n",
    "must adjust cuts to include lower accretion rate AGN"
   ]
  },
  {
   "cell_type": "code",
   "execution_count": 300,
   "metadata": {},
   "outputs": [
    {
     "name": "stdout",
     "output_type": "stream",
     "text": [
      "0.001 42.7450437147\n",
      "0.00359737971146 43.3010299957\n"
     ]
    }
   ],
   "source": [
    "print radio_lim, np.log10(accr_to_lbol(radio_lim, sol=False))\n",
    "print quasar_lim, np.log10(accr_to_lbol(quasar_lim, sol=False))"
   ]
  },
  {
   "cell_type": "code",
   "execution_count": 304,
   "metadata": {},
   "outputs": [
    {
     "name": "stdout",
     "output_type": "stream",
     "text": [
      "0.00018 42.0003162198\n",
      "0.00018 42.0003162198\n"
     ]
    }
   ],
   "source": [
    "radio_lim_all = 1.8e-4\n",
    "quasar_lim_all = 1.8e-4\n",
    "\n",
    "print radio_lim_all, np.log10(accr_to_lbol(radio_lim_all, sol=False))\n",
    "print quasar_lim_all, np.log10(accr_to_lbol(quasar_lim_all, sol=False))"
   ]
  },
  {
   "cell_type": "code",
   "execution_count": 305,
   "metadata": {
    "collapsed": true
   },
   "outputs": [],
   "source": [
    "from scipy.stats import binned_statistic\n",
    "from matplotlib.colors import LogNorm\n",
    "\n",
    "my_cmap = plt.cm.viridis\n",
    "my_cmap.set_under('w',1)"
   ]
  },
  {
   "cell_type": "code",
   "execution_count": null,
   "metadata": {
    "collapsed": true
   },
   "outputs": [],
   "source": []
  },
  {
   "cell_type": "code",
   "execution_count": 306,
   "metadata": {},
   "outputs": [
    {
     "name": "stdout",
     "output_type": "stream",
     "text": [
      "2.07\n",
      "3.1\n",
      "3.95\n",
      "5.03\n"
     ]
    },
    {
     "data": {
      "text/plain": [
       "<matplotlib.colorbar.Colorbar at 0x2aac4924d9d0>"
      ]
     },
     "execution_count": 306,
     "metadata": {},
     "output_type": "execute_result"
    },
    {
     "data": {
      "image/png": "[encoded data removed]",
      "text/plain": [
       "<matplotlib.figure.Figure at 0x2aac478de350>"
      ]
     },
     "metadata": {},
     "output_type": "display_data"
    }
   ],
   "source": [
    "fig = plt.figure(figsize=(5, 8))\n",
    "\n",
    "gs1 = gridspec.GridSpec(15, 2)\n",
    "gs1.update(hspace=0, wspace=0) # bottom = 0.57, top = 1,\n",
    "\n",
    "ax1 = fig.add_subplot(gs1[2:7,0])\n",
    "ax2 = fig.add_subplot(gs1[2:7,1])\n",
    "ax3 = fig.add_subplot(gs1[10:15,0])\n",
    "ax4 = fig.add_subplot(gs1[10:15,1])\n",
    "\n",
    "ax1t = fig.add_subplot(gs1[0:2,0])\n",
    "ax2t = fig.add_subplot(gs1[0:2,1])\n",
    "ax3t = fig.add_subplot(gs1[8:10,0])\n",
    "ax4t = fig.add_subplot(gs1[8:10,1])\n",
    "\n",
    "axes = [ax1,ax2,ax3,ax4]\n",
    "axest = [ax1t,ax2t,ax3t,ax4t]\n",
    "\n",
    "xbins = np.linspace(10,15,51)\n",
    "ybins = np.linspace(42,47,51)\n",
    "\n",
    "for i, (ax, axt, z) in enumerate(zip(axes, axest, zees)):\n",
    "    \n",
    "    print z\n",
    "    \n",
    "    ax.text(0.1, 0.85, '$z = %s$'%z, transform = ax.transAxes, size=15, alpha=0.8)\n",
    "\n",
    "    \n",
    "    # histograms\n",
    "    axt.hist(np.log10(gals[i]['zn_mvir'][gals[i]['zn_radioAccretionRate'] >= radio_lim_all] * 1e10), \n",
    "             alpha=.3, label='HzRG', color='red', bins=xbins)\n",
    "    \n",
    "    axt.hist(np.log10(gals[i]['zn_mvir'][gals[i]['zn_quasarAccretionRate'] >= quasar_lim_all] * 1e10), \n",
    "             alpha=.3, label='Quasar', color='blue', bins=xbins)\n",
    "    \n",
    "    axt.hist(np.log10(gals[i]['zn_mvir'][gals[i]['zn_radioAccretionRate'] >= radio_lim] * 1e10), \n",
    "             histtype='step', color='red', bins=xbins)\n",
    "    \n",
    "    axt.hist(np.log10(gals[i]['zn_mvir'][gals[i]['zn_quasarAccretionRate'] >= quasar_lim] * 1e10), \n",
    "             histtype='step', color='blue', bins=xbins)\n",
    "\n",
    "    axt.set_yscale(\"log\")\n",
    "    \n",
    "    # medians\n",
    "    quasar_stat = binned_statistic(np.log10(accr_to_lbol(gals[i]['zn_quasarAccretionRate'][gals[i]['zn_quasarAccretionRate'] > quasar_lim_all], sol=False)),\n",
    "                                  np.log10(gals[i]['zn_mvir'][gals[i]['zn_quasarAccretionRate'] > quasar_lim_all] * 1e10), statistic='median')\n",
    "\n",
    "    ax.plot(quasar_stat[0], quasar_stat[1][1:] - (quasar_stat[1][1] - quasar_stat[1][0]), \n",
    "            linestyle='dashed', color='white')\n",
    "\n",
    "\n",
    "    radio_stat = binned_statistic(np.log10(accr_to_lbol(gals[i]['zn_radioAccretionRate'][gals[i]['zn_radioAccretionRate'] > radio_lim_all], sol=False)),\n",
    "                                 np.log10(gals[i]['zn_mvir'][gals[i]['zn_radioAccretionRate'] > radio_lim_all] * 1e10), statistic='median')\n",
    "\n",
    "    ax.plot(radio_stat[0], radio_stat[1][1:] - (radio_stat[1][1] - radio_stat[1][0]), \n",
    "            linestyle='-.', color='white')\n",
    "\n",
    "    # 2d hist\n",
    "#     temp_gals = np.array(gals[i][['zn_mvir','zn_quasarAccretionRate']][gals[i]['zn_quasarAccretionRate'] > quasar_lim])\n",
    "#     temp_gals = np.vstack([temp_gals, gals[i][['zn_mvir','zn_radioAccretionRate']][gals[i]['zn_radioAccretionRate'] > radio_lim]])\n",
    "\n",
    "    # combined accretion rate, for all galaxies above either accretion cut\n",
    "    temp_gals = gals[i][['zn_mvir','zn_quasarAccretionRate',\n",
    "         'zn_radioAccretionRate']][(gals[i]['zn_radioAccretionRate'] > radio_lim_all) \\\n",
    "          | (gals[i]['zn_quasarAccretionRate'] > quasar_lim_all)]\n",
    "\n",
    "    temp_gals['accr'] = temp_gals['zn_quasarAccretionRate'] + temp_gals['zn_radioAccretionRate']\n",
    "\n",
    "    \n",
    "    \n",
    "    if i == 0:\n",
    "        p = ax.hist2d(np.log10(temp_gals['zn_mvir'] * 1e10), np.log10(accr_to_lbol(temp_gals['accr'], sol=False)),\n",
    "                   bins=[xbins,ybins], cmap=my_cmap, vmin=1,  norm=LogNorm());\n",
    "    else:\n",
    "        ax.hist2d(np.log10(temp_gals['zn_mvir'] * 1e10), np.log10(accr_to_lbol(temp_gals['accr'], sol=False)),\n",
    "               bins=[xbins,ybins], cmap=my_cmap, vmin=1,  norm=LogNorm());\n",
    "    \n",
    "\n",
    "    ax.set_ylim(42, 46.9);\n",
    "    ax.set_xlim(10.6, 14.3);\n",
    "    axt.set_xlim(10.6, 14.3);\n",
    "    \n",
    "    axt.set_xticklabels([])\n",
    "    \n",
    "    ax.yaxis.set_ticks_position('both')\n",
    "    \n",
    "    ax.tick_params('both', which='both')\n",
    "    axt.set_ylim(1, 5e5)\n",
    "    \n",
    "    ax.hlines(np.log10(accr_to_lbol(radio_lim, sol=False)), 10, 15, color='red', linestyle='dotted', alpha=.5)\n",
    "    ax.hlines(np.log10(accr_to_lbol(quasar_lim, sol=False)), 10, 15, color='blue', linestyle='dotted', alpha=.5)\n",
    "    \n",
    "    \n",
    "# for ax in [ax1,ax2]:\n",
    "#     ax.tick_params(labeltop=True, top=True, labelbottom=False)\n",
    "    \n",
    "for ax in [ax2,ax4,ax2t,ax4t]:\n",
    "    ax.tick_params(labelright=True, labelleft=False)\n",
    "    \n",
    "\n",
    "fig.text(0.41, 0.06, '$\\mathrm{log_{10}} \\, (M_{*} \\,/\\, M_{\\odot})$', transform=fig.transFigure, size=15)\n",
    "\n",
    "for ax, axt in zip([ax1,ax3], [ax1t,ax3t]):\n",
    "    ax.set_ylabel('$L_{\\mathrm{bol}} \\,/\\, (\\mathrm{erg \\;\\; s^{-1}})$', size=15)\n",
    "    axt.set_ylabel('$N$', size=15)\n",
    "    \n",
    "    \n",
    "## Legend\n",
    "\n",
    "# Legend 2\n",
    "patchA = mpatches.Patch(color='red',alpha=.3,label='HzRG')\n",
    "patchB = mpatches.Patch(color='blue',alpha=.3,label='Quasar')\n",
    "\n",
    "patch1 = mpatches.Patch(color='lightgrey',label='All')\n",
    "line1 = plt.Line2D((0,1.5),(0,0), color='black', linestyle='solid', linewidth=3, label='Selection')\n",
    "\n",
    "legend = ax4t.legend(handles = [patchB, patchA, patch1, line1], ncol=4, prop={'size': 9}, \n",
    "                     labelspacing=.2, frameon=False, bbox_to_anchor=(1., 0.99)).set_zorder(10)\n",
    "\n",
    "\n",
    "# colorbar\n",
    "cax = fig.add_axes([0.81, 0.14, 0.02, 0.2])\n",
    "fig.colorbar(p[3], cax, orientation = 'vertical') \n",
    "\n",
    "# plt.savefig('output/AGN_luminosities.png', bbox_inches='tight', dpi=300)"
   ]
  },
  {
   "cell_type": "code",
   "execution_count": null,
   "metadata": {
    "collapsed": true
   },
   "outputs": [],
   "source": []
  },
  {
   "cell_type": "markdown",
   "metadata": {
    "collapsed": true
   },
   "source": [
    "### Quasar / HzRG distance from protocluster centre"
   ]
  },
  {
   "cell_type": "code",
   "execution_count": 283,
   "metadata": {},
   "outputs": [
    {
     "name": "stdout",
     "output_type": "stream",
     "text": [
      "z: 2p07 n(radio): 756 \n",
      "mean: 3.33 median: 2.64 std: 2.52 \n",
      "\n",
      "z: 3p10 n(radio): 154 \n",
      "mean: 3.77 median: 3.23 std: 2.55 \n",
      "\n",
      "z: 3p95 n(radio): 16 \n",
      "mean: 5.79 median: 5.01 std: 3.42 \n",
      "\n",
      "z: 5p03 n(radio): 1 \n",
      "mean: 5.44 median: 5.44 std: 0.0 \n",
      "\n",
      "z: 5p92 n(radio): 0 \n",
      "mean: nan median: nan std: nan \n",
      "\n"
     ]
    }
   ],
   "source": [
    "gals = gals_sfr\n",
    "\n",
    "for i, redshift in enumerate(redshifts[:5]):\n",
    "    \n",
    "    agn = gals[i][gals[i]['zn_radioAccretionRate'] >= radio_lim].reset_index(drop=True) # find all agn    \n",
    "    agn = agn[agn['z0_central_mcrit200'] >= 1.48e4].reset_index(drop=True) # agn in protoclusters\n",
    "    \n",
    "    distances = [None] * len(agn)\n",
    "\n",
    "    for idx, q in agn.iterrows():\n",
    "        \n",
    "        # subset coordinates of descendant halo\n",
    "        subset_gals = gals[i][gals[i]['z0_centralId'] == q['z0_centralId']]\n",
    "        \n",
    "        coods = normalise_coods(np.array(subset_gals[['zn_x','zn_y','zn_z']]), L)  # normalise coordinates\n",
    "        center = np.median(coods,axis=0) # find descendant halo center\n",
    "        quasar_location = coods[subset_gals['zn_galaxyId'] == q['zn_galaxyId']]\n",
    "        \n",
    "        # distance between agn and descendant halo progenitor centre\n",
    "        distances[idx] = float(np.sqrt(np.sum((quasar_location - center)**2, axis=1)))  \n",
    "    \n",
    "    \n",
    "    print \"z:\", redshift, \"n(radio):\", len(agn), \"\\nmean:\", round(np.mean(distances),2),\\\n",
    "    \"median:\", round(np.median(distances),2), \"std:\", round(np.std(distances),2),\"\\n\"\n",
    "    "
   ]
  },
  {
   "cell_type": "code",
   "execution_count": 284,
   "metadata": {},
   "outputs": [
    {
     "name": "stdout",
     "output_type": "stream",
     "text": [
      "z: 2p07 n(quasar): 2044 \n",
      "mean: 5.06 median: 4.51 std: 3.07 \n",
      "\n",
      "z: 3p10 n(quasar): 1315 \n",
      "mean: 5.18 median: 4.56 std: 3.18 \n",
      "\n",
      "z: 3p95 n(quasar): 662 \n",
      "mean: 5.35 median: 4.78 std: 3.18 \n",
      "\n",
      "z: 5p03 n(quasar): 192 \n",
      "mean: 5.57 median: 4.97 std: 3.32 \n",
      "\n",
      "z: 5p92 n(quasar): 44 \n",
      "mean: 5.35 median: 4.08 std: 3.8 \n",
      "\n"
     ]
    }
   ],
   "source": [
    "gals = gals_sfr\n",
    "\n",
    "for i, redshift in enumerate(redshifts[:5]):\n",
    "    \n",
    "    agn = gals[i][gals[i]['zn_quasarAccretionRate'] >= radio_lim].reset_index(drop=True) # find all agn    \n",
    "    agn = agn[agn['z0_central_mcrit200'] >= 1.48e4].reset_index(drop=True) # agn in protoclusters\n",
    "    \n",
    "    distances = [None] * len(agn)\n",
    "\n",
    "    for idx, q in agn.iterrows():\n",
    "        \n",
    "        # subset coordinates of descendant halo\n",
    "        subset_gals = gals[i][gals[i]['z0_centralId'] == q['z0_centralId']]\n",
    "        \n",
    "        coods = normalise_coods(np.array(subset_gals[['zn_x','zn_y','zn_z']]), L)  # normalise coordinates\n",
    "        center = np.median(coods,axis=0) # find descendant halo center\n",
    "        quasar_location = coods[subset_gals['zn_galaxyId'] == q['zn_galaxyId']]\n",
    "        \n",
    "        # distance between agn and descendant halo progenitor centre\n",
    "        distances[idx] = float(np.sqrt(np.sum((quasar_location - center)**2, axis=1)))  \n",
    "    \n",
    "    \n",
    "    print \"z:\", redshift, \"n(quasar):\", len(agn), \"\\nmean:\", round(np.mean(distances),2),\\\n",
    "    \"median:\", round(np.median(distances),2), \"std:\", round(np.std(distances),2),\"\\n\"\n",
    "    "
   ]
  },
  {
   "cell_type": "markdown",
   "metadata": {},
   "source": [
    "#### Find average galaxy distance from protocluster centre"
   ]
  },
  {
   "cell_type": "code",
   "execution_count": null,
   "metadata": {
    "collapsed": true
   },
   "outputs": [],
   "source": [
    "gals = gals_sfr\n",
    "\n",
    "distances = [None] * len(redshifts)\n",
    "centres = [None] * len(redshifts)\n",
    "\n",
    "for i, redshift in enumerate(redshifts):\n",
    "    \n",
    "    clusters = pd.unique(gals[i][gals[i]['z0_central_mcrit200'] > 1.48e4]['z0_centralId'])\n",
    "    \n",
    "    distances[i] = [None] * len(clusters)\n",
    "    centres[i] = [None] * len(clusters)\n",
    "\n",
    "    for idx, c in enumerate(clusters):\n",
    "\n",
    "        subset_gals = gals[i][gals[i]['z0_centralId'] == q['z0_centralId']]  # subset coordinates of descendant halo\n",
    "        coods = norm_coods(np.array(subset_gals[['zn_x','zn_y','zn_z']]), L)  # normalise coordinates\n",
    "        center = np.median(coods,axis=0) # find descendant halo center\n",
    "        \n",
    "        centres[i][idx] = center\n",
    "        distances[i][idx] = np.mean(np.sqrt(np.sum(pow(coods - center, 2.),axis=1)))\n"
   ]
  },
  {
   "cell_type": "code",
   "execution_count": 110,
   "metadata": {},
   "outputs": [
    {
     "name": "stdout",
     "output_type": "stream",
     "text": [
      "[ -6.4425    37.62117   60.228027]\n",
      "[ 474.093445    37.616228    59.7259385]\n"
     ]
    }
   ],
   "source": [
    "print centres_sfr[0][858]\n",
    "print centres_sm[0][858]"
   ]
  },
  {
   "cell_type": "code",
   "execution_count": 89,
   "metadata": {},
   "outputs": [
    {
     "data": {
      "text/plain": [
       "array([ 0.17565368,  0.22326523,  0.32186496,  0.57394775,  1.16955296])"
      ]
     },
     "execution_count": 89,
     "metadata": {},
     "output_type": "execute_result"
    }
   ],
   "source": [
    "np.array([np.mean(d) for d in distances_sfr]) - np.array([np.mean(d) for d in distances])"
   ]
  },
  {
   "cell_type": "code",
   "execution_count": 91,
   "metadata": {},
   "outputs": [
    {
     "data": {
      "text/plain": [
       "[3.1805097815790466,\n",
       " 3.638861706029783,\n",
       " 3.7562005969792125,\n",
       " 3.6596361549541809,\n",
       " 3.127022526595276]"
      ]
     },
     "execution_count": 91,
     "metadata": {},
     "output_type": "execute_result"
    }
   ],
   "source": [
    "[np.mean(d) for d in distances]"
   ]
  },
  {
   "cell_type": "code",
   "execution_count": 92,
   "metadata": {},
   "outputs": [
    {
     "data": {
      "text/plain": [
       "[3.3561634645848688,\n",
       " 3.8621269365137061,\n",
       " 4.0780655571072018,\n",
       " 4.2335839075303445,\n",
       " 4.2965754889552787]"
      ]
     },
     "execution_count": 92,
     "metadata": {},
     "output_type": "execute_result"
    }
   ],
   "source": [
    "[np.mean(d) for d in distances_sfr]"
   ]
  },
  {
   "cell_type": "markdown",
   "metadata": {
    "collapsed": true
   },
   "source": [
    "!!!!\n",
    "\n",
    "Need to calculate overdensity surrounding quasars in the model..."
   ]
  },
  {
   "cell_type": "code",
   "execution_count": 12,
   "metadata": {
    "collapsed": true
   },
   "outputs": [],
   "source": [
    "R = [3, 6, 10, 14, 20]\n",
    "\n",
    "quasar_stats = {z: {'cstats': {r: None for r in R}, 'clusters': None} for z in zees[:5]}\n",
    "hzrg_stats = {z: {'cstats': {r: None for r in R}, 'clusters': None} for z in zees[:5]}"
   ]
  },
  {
   "cell_type": "code",
   "execution_count": 3,
   "metadata": {
    "collapsed": true,
    "scrolled": true
   },
   "outputs": [],
   "source": [
    "# for i, z in enumerate(zees[:5]):\n",
    "    \n",
    "#     print z\n",
    "    \n",
    "#     # find all agn\n",
    "#     hzrgs = gals[i][gals[i]['zn_radioAccretionRate'] >= radio_lim].reset_index(drop=True) \n",
    "#     quasars = gals[i][gals[i]['zn_quasarAccretionRate'] >= quasar_lim].reset_index(drop=True) \n",
    "    \n",
    "#     # save cluster mass data\n",
    "#     hzrg_stats[z]['clusters'] = hzrgs['z0_central_mcrit200']\n",
    "#     quasar_stats[z]['clusters'] = quasars['z0_central_mcrit200']\n",
    "    \n",
    "#     for r in R:  # loop through aperture sizes\n",
    "#         print r\n",
    "    \n",
    "#         quasar_stats[z]['cstats'][r] = overdensity_cylinder(gals_mstar[i], quasars[['zn_x','zn_y','zn_z']],\n",
    "#                                                             L=L, R=r, dc=r)\n",
    "        \n",
    "#         hzrg_stats[z]['cstats'][r] = overdensity_cylinder(gals_mstar[i], hzrgs[['zn_x','zn_y','zn_z']],\n",
    "#                                                           L=L, R=r, dc=r)\n",
    "\n",
    "    \n",
    "# pcl.dump([quasar_stats, hzrg_stats], open('agn_stats.p', 'w'))\n",
    "quasar_stats, hzrg_stats = pcl.load(open('agn_stats.p', 'r'))"
   ]
  },
  {
   "cell_type": "markdown",
   "metadata": {},
   "source": [
    "Quasar overdensity / descendant mass plot, figure 9"
   ]
  },
  {
   "cell_type": "code",
   "execution_count": 14,
   "metadata": {},
   "outputs": [
    {
     "name": "stdout",
     "output_type": "stream",
     "text": [
      "[ -1.   -0.5   0.    0.5   1.    1.5   2.    2.5   3.    3.5   4.    4.5\n",
      "   5.    5.5   6.    6.5   7.    7.5   8.    8.5   9.    9.5  10.   10.5\n",
      "  11.   11.5  12.   12.5  13.   13.5  14.   14.5  15.   15.5  16.   16.5\n",
      "  17. ]\n",
      "[ -0.75  -0.25   0.25   0.75   1.25   1.75   2.25   2.75   3.25   3.75\n",
      "   4.25   4.75   5.25   5.75   6.25   6.75   7.25   7.75   8.25   8.75\n",
      "   9.25   9.75  10.25  10.75  11.25  11.75  12.25  12.75  13.25  13.75\n",
      "  14.25  14.75  15.25  15.75  16.25  16.75]\n"
     ]
    }
   ],
   "source": [
    "BinLimits = [np.linspace(-1, 39, 21), \n",
    "             np.linspace(-1, 17, 37),\n",
    "             np.linspace(-1, 11, 25)]\n",
    "\n",
    "Bins = [np.linspace(0, 38, 20),\n",
    "        np.linspace(-0.75, 16.75, 36), \n",
    "        np.linspace(-0.75, 10.75, 24)]\n",
    "\n",
    "print BinLimits[1]\n",
    "print Bins[1]"
   ]
  },
  {
   "cell_type": "code",
   "execution_count": 19,
   "metadata": {},
   "outputs": [
    {
     "data": {
      "text/plain": [
       "array([ 14.27765216,  14.41904247,  14.68450769,  14.96018932,\n",
       "        15.20405544,  15.41356672,  15.59442327,  15.75247346,\n",
       "        15.89237027,  16.01763427,  16.13092118,  16.23425669,\n",
       "        16.3292096 ,  16.41701413,  16.49865598,  16.5749334 ,\n",
       "        16.64650099,  16.71390173,  16.7775907 ,  16.83795288])"
      ]
     },
     "execution_count": 19,
     "metadata": {},
     "output_type": "execute_result"
    }
   ],
   "source": [
    "def func(x, a, b, c, d, C):\n",
    "    return a * (x[1]+1)**b * (x[0]+1)**c + C\n",
    "\n",
    "\n",
    "def scale(x):\n",
    "    return np.log10(x * 1e3 * 1e10)\n",
    "\n",
    "\n",
    "args=[1.45145241, -1.104172, 2.64782728, 1., 18.53122657]\n",
    "\n",
    "scale(func(np.vstack([Bins[0], [2.07] * len(Bins[0])]), args[0], args[1], args[2], args[3],args[4]))"
   ]
  },
  {
   "cell_type": "code",
   "execution_count": null,
   "metadata": {
    "collapsed": true
   },
   "outputs": [],
   "source": []
  },
  {
   "cell_type": "code",
   "execution_count": 21,
   "metadata": {
    "scrolled": false
   },
   "outputs": [
    {
     "name": "stdout",
     "output_type": "stream",
     "text": [
      "0 2.07\n",
      "1 3.1\n",
      "2 3.95\n",
      "3 5.03\n"
     ]
    },
    {
     "data": {
      "image/png": "[encoded data removed]",
      "text/plain": [
       "<matplotlib.figure.Figure at 0x8e75f90>"
      ]
     },
     "metadata": {},
     "output_type": "display_data"
    }
   ],
   "source": [
    "fig = plt.figure(figsize=(15,10))\n",
    "\n",
    "gs1 = gridspec.GridSpec(32, 26)\n",
    "\n",
    "gs1.update(bottom = 0.57, top = 1, hspace=0, wspace=0)\n",
    "\n",
    "ax1 = fig.add_subplot(gs1[0:26,0:8])\n",
    "ax5 = fig.add_subplot(gs1[26:32,0:8])\n",
    "ax2 = fig.add_subplot(gs1[0:26,8:16])\n",
    "ax6 = fig.add_subplot(gs1[26:32,8:16])\n",
    "ax3 = fig.add_subplot(gs1[0:26,16:24])\n",
    "ax7 = fig.add_subplot(gs1[26:32,16:24])\n",
    "ax9 = fig.add_subplot(gs1[16:23,20:24])\n",
    "\n",
    "Bhatta =[[] for i in range(len(zees[:4]))]\n",
    "\n",
    "radii = [6,10,14]\n",
    "\n",
    "for i, z in enumerate(zees[:4]):\n",
    "    print i, z\n",
    "    \n",
    "    for axt, axb, R, binLimits, bins in zip([ax1,ax2,ax3], [ax5,ax6,ax7], radii, BinLimits, Bins):\n",
    "        \n",
    "        cluster_mask = quasar_stats[z]['clusters'] >= 1.48e4\n",
    "        nan_mask = ~np.isinf(1 / quasar_stats[z]['clusters'])\n",
    "        \n",
    "        # Subplot\n",
    "        phiB, mass = np.histogram(quasar_stats[z]['cstats'][R][~cluster_mask,0] + 1, bins=binLimits, normed=True)\n",
    "        phiA, mass = np.histogram(quasar_stats[z]['cstats'][R][cluster_mask,0] + 1, bins=binLimits, normed=True)\n",
    "        \n",
    "        DB, BC = bhattacharyya(phiA*np.diff(binLimits), phiB*np.diff(binLimits))\n",
    "        \n",
    "        Bhatta[i].append(DB)\n",
    "\n",
    "        # Main Plot\n",
    "        median = binned_statistic(quasar_stats[z]['cstats'][R][nan_mask,0] + 1, \n",
    "                          np.log10(quasar_stats[z]['clusters'][nan_mask] * 1e10),\n",
    "                          bins=binLimits, statistic='median')[0]\n",
    "\n",
    "        count = binned_statistic(quasar_stats[z]['cstats'][R][nan_mask,0] + 1, \n",
    "                                 np.log10(quasar_stats[z]['clusters'][nan_mask] * 1e10),\n",
    "                                 bins=binLimits, statistic='count')[0]\n",
    "\n",
    "        std = binned_statistic(quasar_stats[z]['cstats'][R][nan_mask,0] + 1, \n",
    "                               np.log10(quasar_stats[z]['clusters'][nan_mask] * 1e10),\n",
    "                               bins=binLimits, statistic='std')[0]\n",
    "\n",
    "        cmask = (count > 10)\n",
    "        \n",
    "        if i==0:\n",
    "            axt.fill_between(bins[cmask], median[cmask]+std[cmask], median[cmask]-std[cmask], alpha=0.15, linewidth=0, color=cmap[i*2])\n",
    "\n",
    "        axt.plot(bins[cmask], median[cmask], color=cmap[i*2], label='$z = %.2f$'%z)\n",
    "        \n",
    "        dgal_mask = quasar_stats[z]['cstats'][R][:,0] > max(bins[cmask])\n",
    "        \n",
    "        axt.scatter(quasar_stats[z]['cstats'][R][nan_mask & dgal_mask,0] + 1,\n",
    "            np.log10(quasar_stats[z]['clusters'][nan_mask & dgal_mask] * 1e10),\n",
    "            marker='.', s=8, c=cmap[i], lw=0, label=None)\n",
    "\n",
    "        axb.set_xlim(0, binLimits[-1])\n",
    "        axt.set_xlim(0, binLimits[-1])\n",
    "\n",
    "        axt.hlines(14, -10, 60, linestyle='--', color='grey')\n",
    "        \n",
    "        axt.set_xticklabels([])\n",
    "        \n",
    "        # plot fitted mass\n",
    "        if R == 10:\n",
    "            axt.plot(bins[bins>4.5] + 1, scale(func(np.vstack([bins[bins>4.5], [z] * len(bins[bins>4.5])]), \n",
    "                     args[0],args[1],args[2],args[3],args[4])), color=cmap[i*2], \n",
    "                     linestyle='dashed', alpha=0.6)\n",
    "\n",
    "        axb.step(bins, phiA, color=cmap[i*2], alpha=1)# + i*0.1)\n",
    "        axb.step(bins, phiB, color=cmap[i*2], linestyle='dotted', alpha=1)# + i*0.1)\n",
    "\n",
    "        if(i==0):\n",
    "            axt.text(0.05, 0.92, '$R = D/2 = %s \\; \\mathrm{cMpc}$'%R, transform=axt.transAxes, size=13)\n",
    "\n",
    "\n",
    "# Calculate R = 20 & 3 Bhattacharya distance, but don't plot\n",
    "for i, z in enumerate(zees[:4]):\n",
    "    \n",
    "    for R, switch, binLimits, bins in zip([3,20],[True,False], BinLimits, Bins):\n",
    "        \n",
    "        cluster_mask = quasar_stats[z]['clusters'] >= 1.48e4\n",
    "        \n",
    "        # Subplot\n",
    "        phiB, mass = np.histogram(quasar_stats[z]['cstats'][R][~cluster_mask,0] + 1, bins=binLimits, normed=True)\n",
    "        phiA, mass = np.histogram(quasar_stats[z]['cstats'][R][cluster_mask,0] + 1, bins=binLimits, normed=True)\n",
    "        \n",
    "        DB, BC = bhattacharyya(phiA*np.diff(binLimits), phiB*np.diff(binLimits))\n",
    "        \n",
    "        if switch:\n",
    "            Bhatta[i] = [DB] + Bhatta[i]\n",
    "        else:\n",
    "            Bhatta[i].append(DB)\n",
    "        \n",
    "\n",
    "for i,z in enumerate(zees[:4]):\n",
    "    ax9.plot([3] + radii + [20], Bhatta[i], color=cmap[i*2])\n",
    "    \n",
    "    \n",
    "ax9.set_xlabel('$R$')\n",
    "ax9.set_ylabel('$D_{B}$')\n",
    "ax9.set_yticks([])\n",
    "\n",
    "# ax9.set_xticklabels([4,6,8,10,12,14,16,18,''])\n",
    "ax9.set_yticklabels(['',0.2,0.3,0.4,0.5,0.6,0.7,''])\n",
    "\n",
    "ax9.vlines(10, 0, 0.7, colors='grey', linestyles='dotted')\n",
    "\n",
    "for ax in [ax1, ax2, ax3]:\n",
    "    ax.set_ylim(12.5,15.8)\n",
    "    \n",
    "\n",
    "## Legend\n",
    "line1 = plt.Line2D((0,1),(0,0), color='black', linestyle='solid')\n",
    "line2 = plt.Line2D((0,1),(0,0), color='black', linestyle='dotted')\n",
    "\n",
    "ax5.legend(handles=[line1, line2], \n",
    "           labels=[r'$M_{200} \\, h^{-1} / M_{\\odot} \\, \\geq \\, 10^{14}$',\n",
    "                   r'$M_{200} \\, h^{-1} / M_{\\odot} \\, < \\, 10^{14}$'], \n",
    "           loc=1, prop={'size':10}, frameon=False)\n",
    "\n",
    "ax1.legend(loc=4, frameon=False, prop={'size':13})\n",
    "\n",
    "for ax in [ax2,ax3,ax6,ax7]:\n",
    "    ax.set_yticklabels([])\n",
    "\n",
    "    \n",
    "for ax in [ax5,ax6,ax7]:\n",
    "    ax.set_xlabel('$\\delta + 1$', size=16, ha='center')\n",
    "\n",
    "ax1.set_ylabel('$\\mathrm{log_{10}}(M_{200} / M_{\\odot})$',va='center',size=15,rotation='vertical',labelpad=8)  \n",
    "\n",
    "# plt.savefig('output/quasar_select.png', bbox_inches='tight', dpi=300)"
   ]
  },
  {
   "cell_type": "markdown",
   "metadata": {},
   "source": [
    "HzRG overdensity / descendant mass plot, figure 10"
   ]
  },
  {
   "cell_type": "code",
   "execution_count": 40,
   "metadata": {},
   "outputs": [
    {
     "name": "stdout",
     "output_type": "stream",
     "text": [
      "[ -1.   0.   1.   2.   3.   4.   5.   6.   7.   8.   9.  10.  11.]\n",
      "[ -0.5   0.5   1.5   2.5   3.5   4.5   5.5   6.5   7.5   8.5   9.5  10.5]\n"
     ]
    }
   ],
   "source": [
    "BinLimits = [np.linspace(-1, 38, 14), \n",
    "             np.linspace(-1, 17, 19),\n",
    "             np.linspace(-1, 11, 13)]\n",
    "\n",
    "Bins = [np.linspace(0.5, 36.5, 13),\n",
    "        np.linspace(-0.5, 16.5, 18), \n",
    "        np.linspace(-0.5, 10.5, 12)]\n",
    "\n",
    "print BinLimits[2]\n",
    "print Bins[2]"
   ]
  },
  {
   "cell_type": "code",
   "execution_count": null,
   "metadata": {
    "collapsed": true
   },
   "outputs": [],
   "source": []
  },
  {
   "cell_type": "code",
   "execution_count": 20,
   "metadata": {},
   "outputs": [
    {
     "name": "stdout",
     "output_type": "stream",
     "text": [
      "0 2.07\n"
     ]
    },
    {
     "ename": "NameError",
     "evalue": "name 'BinLimits' is not defined",
     "output_type": "error",
     "traceback": [
      "\u001b[0;31m---------------------------------------------------------------------------\u001b[0m",
      "\u001b[0;31mNameError\u001b[0m                                 Traceback (most recent call last)",
      "\u001b[0;32m<ipython-input-20-5ade9dc2a3f3>\u001b[0m in \u001b[0;36m<module>\u001b[0;34m()\u001b[0m\n\u001b[1;32m     20\u001b[0m     \u001b[0;32mprint\u001b[0m \u001b[0mi\u001b[0m\u001b[0;34m,\u001b[0m \u001b[0mz\u001b[0m\u001b[0;34m\u001b[0m\u001b[0m\n\u001b[1;32m     21\u001b[0m \u001b[0;34m\u001b[0m\u001b[0m\n\u001b[0;32m---> 22\u001b[0;31m     \u001b[0;32mfor\u001b[0m \u001b[0maxt\u001b[0m\u001b[0;34m,\u001b[0m \u001b[0maxb\u001b[0m\u001b[0;34m,\u001b[0m \u001b[0mR\u001b[0m\u001b[0;34m,\u001b[0m \u001b[0mbinLimits\u001b[0m\u001b[0;34m,\u001b[0m \u001b[0mbins\u001b[0m \u001b[0;32min\u001b[0m \u001b[0mzip\u001b[0m\u001b[0;34m(\u001b[0m\u001b[0;34m[\u001b[0m\u001b[0max1\u001b[0m\u001b[0;34m,\u001b[0m\u001b[0max2\u001b[0m\u001b[0;34m,\u001b[0m\u001b[0max3\u001b[0m\u001b[0;34m]\u001b[0m\u001b[0;34m,\u001b[0m \u001b[0;34m[\u001b[0m\u001b[0max5\u001b[0m\u001b[0;34m,\u001b[0m\u001b[0max6\u001b[0m\u001b[0;34m,\u001b[0m\u001b[0max7\u001b[0m\u001b[0;34m]\u001b[0m\u001b[0;34m,\u001b[0m \u001b[0mradii\u001b[0m\u001b[0;34m,\u001b[0m \u001b[0mBinLimits\u001b[0m\u001b[0;34m,\u001b[0m \u001b[0mBins\u001b[0m\u001b[0;34m)\u001b[0m\u001b[0;34m:\u001b[0m\u001b[0;34m\u001b[0m\u001b[0m\n\u001b[0m\u001b[1;32m     23\u001b[0m \u001b[0;34m\u001b[0m\u001b[0m\n\u001b[1;32m     24\u001b[0m         \u001b[0mcluster_mask\u001b[0m \u001b[0;34m=\u001b[0m \u001b[0mhzrg_stats\u001b[0m\u001b[0;34m[\u001b[0m\u001b[0mz\u001b[0m\u001b[0;34m]\u001b[0m\u001b[0;34m[\u001b[0m\u001b[0;34m'clusters'\u001b[0m\u001b[0;34m]\u001b[0m \u001b[0;34m>=\u001b[0m \u001b[0;36m1.48e4\u001b[0m\u001b[0;34m\u001b[0m\u001b[0m\n",
      "\u001b[0;31mNameError\u001b[0m: name 'BinLimits' is not defined"
     ]
    },
    {
     "data": {
      "image/png": "[encoded data removed]",
      "text/plain": [
       "<matplotlib.figure.Figure at 0x2aabba4cbe90>"
      ]
     },
     "metadata": {},
     "output_type": "display_data"
    }
   ],
   "source": [
    "fig = plt.figure(figsize=(15,10))\n",
    "\n",
    "gs1 = gridspec.GridSpec(32, 26)\n",
    "\n",
    "gs1.update(bottom = 0.57, top = 1, hspace=0, wspace=0)\n",
    "\n",
    "ax1 = fig.add_subplot(gs1[0:26,0:8])\n",
    "ax5 = fig.add_subplot(gs1[26:32,0:8])\n",
    "ax2 = fig.add_subplot(gs1[0:26,8:16])\n",
    "ax6 = fig.add_subplot(gs1[26:32,8:16])\n",
    "ax3 = fig.add_subplot(gs1[0:26,16:24])\n",
    "ax7 = fig.add_subplot(gs1[26:32,16:24])\n",
    "ax9 = fig.add_subplot(gs1[16:23,20:24])\n",
    "\n",
    "Bhatta =[[] for i in range(len(zees[:4]))]\n",
    "\n",
    "radii = [6,10,14]\n",
    "\n",
    "for i, z in enumerate(zees[:4]):\n",
    "    print i, z\n",
    "    \n",
    "    for axt, axb, R, binLimits, bins in zip([ax1,ax2,ax3], [ax5,ax6,ax7], radii, BinLimits, Bins):\n",
    "        \n",
    "        cluster_mask = hzrg_stats[z]['clusters'] >= 1.48e4\n",
    "        nan_mask = ~np.isinf(1 / hzrg_stats[z]['clusters'])\n",
    "        \n",
    "        # Subplot\n",
    "        phiB, mass = np.histogram(hzrg_stats[z]['cstats'][R][~cluster_mask,0] + 1, bins=binLimits, normed=True)\n",
    "        phiA, mass = np.histogram(hzrg_stats[z]['cstats'][R][cluster_mask,0] + 1, bins=binLimits, normed=True)\n",
    "        \n",
    "        DB, BC = bhattacharyya(phiA*np.diff(binLimits), phiB*np.diff(binLimits))\n",
    "        \n",
    "        Bhatta[i].append(DB)\n",
    "\n",
    "        # Main Plot\n",
    "        median = binned_statistic(hzrg_stats[z]['cstats'][R][nan_mask,0] + 1, \n",
    "                          np.log10(hzrg_stats[z]['clusters'][nan_mask] * 1e10),\n",
    "                          bins=binLimits, statistic='median')[0]\n",
    "\n",
    "        count = binned_statistic(hzrg_stats[z]['cstats'][R][nan_mask,0] + 1, \n",
    "                                 np.log10(hzrg_stats[z]['clusters'][nan_mask] * 1e10),\n",
    "                                 bins=binLimits, statistic='count')[0]\n",
    "\n",
    "        std = binned_statistic(hzrg_stats[z]['cstats'][R][nan_mask,0] + 1, \n",
    "                               np.log10(hzrg_stats[z]['clusters'][nan_mask] * 1e10),\n",
    "                               bins=binLimits, statistic='std')[0]\n",
    "\n",
    "        cmask = (count > 0)\n",
    "        \n",
    "        if np.sum(cmask) == 0:\n",
    "            print 'not enough radio galaxies...'\n",
    "        else:\n",
    "        \n",
    "            if i==0:\n",
    "                axt.fill_between(bins[cmask], median[cmask]+std[cmask], median[cmask]-std[cmask], \n",
    "                                 alpha=0.15, linewidth=0, color=cmap[i*2])\n",
    "\n",
    "            axt.plot(bins[cmask], median[cmask], color=cmap[i*2], label='$z = %.2f$'%z)\n",
    "\n",
    "            dgal_mask = hzrg_stats[z]['cstats'][R][:,0] > max(bins[cmask])\n",
    "\n",
    "            axt.scatter(hzrg_stats[z]['cstats'][R][nan_mask & dgal_mask,0] + 1,\n",
    "                np.log10(hzrg_stats[z]['clusters'][nan_mask & dgal_mask] * 1e10),\n",
    "                marker='.', s=8, c=cmap[i], lw=0, label=None)\n",
    "\n",
    "            \n",
    "        # plot fitted mass\n",
    "        if R == 10:\n",
    "            axt.plot(bins[bins>4.5] + 1, scale(func(np.vstack([bins[bins>4.5], [z] * len(bins[bins>4.5])]), \n",
    "                     args[0],args[1],args[2],args[3],args[4])), color=cmap[i*2], \n",
    "                     linestyle='dashed', alpha=0.6)\n",
    "\n",
    "        \n",
    "        axb.set_xlim(0, binLimits[-1])\n",
    "        axt.set_xlim(0, binLimits[-1])\n",
    "\n",
    "        axt.hlines(14, -10, 60, linestyle='--', color='grey')\n",
    "\n",
    "        axt.set_xticklabels([])\n",
    "\n",
    "        axb.step(bins, phiA, color=cmap[i*2], alpha=1)# + i*0.1)\n",
    "        axb.step(bins, phiB, color=cmap[i*2], linestyle='dotted', alpha=1)# + i*0.1)\n",
    "\n",
    "        if(i==0):\n",
    "            axt.text(0.05, 0.92, '$R = D/2 = %s \\; \\mathrm{cMpc}$'%R, transform=axt.transAxes, size=13)\n",
    "\n",
    "\n",
    "# Calculate R = 20 & 3 Bhattacharya distance, but don't plot\n",
    "for i, z in enumerate(zees[:4]):\n",
    "    \n",
    "    for R, switch, binLimits, bins in zip([3,20],[True,False], BinLimits, Bins):\n",
    "        \n",
    "        cluster_mask = hzrg_stats[z]['clusters'] >= 1.48e4\n",
    "        \n",
    "        phiB, mass = np.histogram(hzrg_stats[z]['cstats'][R][~cluster_mask,0] + 1, bins=binLimits, normed=True)\n",
    "        phiA, mass = np.histogram(hzrg_stats[z]['cstats'][R][cluster_mask,0] + 1, bins=binLimits, normed=True)\n",
    "        \n",
    "        DB, BC = bhattacharyya(phiA*np.diff(binLimits), phiB*np.diff(binLimits))\n",
    "        \n",
    "        if switch:\n",
    "            Bhatta[i] = [DB] + Bhatta[i]\n",
    "        else:\n",
    "            Bhatta[i].append(DB)\n",
    "        \n",
    "\n",
    "for i,z in enumerate(zees[:3]):\n",
    "    ax9.plot([3] + radii + [20], Bhatta[i], color=cmap[i*2])\n",
    "    \n",
    "    \n",
    "ax9.set_xlabel('$R$')\n",
    "ax9.set_ylabel('$D_{B}$')\n",
    "ax9.set_yticks([])\n",
    "\n",
    "ax9.set_yticklabels(['',0.2,0.3,0.4,0.5,0.6,0.7,''])\n",
    "\n",
    "ax9.vlines(10, 0, 0.7, colors='grey', linestyles='dotted')\n",
    "\n",
    "for ax in [ax1, ax2, ax3]:\n",
    "    ax.set_ylim(12.5,15.8)\n",
    "    \n",
    "\n",
    "## Legend\n",
    "line1 = plt.Line2D((0,1),(0,0), color='black', linestyle='solid')\n",
    "line2 = plt.Line2D((0,1),(0,0), color='black', linestyle='dotted')\n",
    "\n",
    "ax5.legend(handles=[line1, line2], \n",
    "           labels=[r'$M_{200} \\, h^{-1} / M_{\\odot} \\, \\geq \\, 10^{14}$',\n",
    "                   r'$M_{200} \\, h^{-1} / M_{\\odot} \\, < \\, 10^{14}$'], \n",
    "           loc=1, prop={'size':10}, frameon=False)\n",
    "\n",
    "ax1.legend(loc=4, frameon=False, prop={'size':13})\n",
    "\n",
    "for ax in [ax2,ax3,ax6,ax7]:\n",
    "    ax.set_yticklabels([])\n",
    "\n",
    "    \n",
    "for ax in [ax5,ax6,ax7]:\n",
    "    ax.set_xlabel('$\\delta + 1$', size=16, ha='center')\n",
    "\n",
    "ax1.set_ylabel('$\\mathrm{log_{10}}(M_{200} / M_{\\odot})$',va='center',size=15,rotation='vertical',labelpad=8)  \n",
    "\n",
    "# plt.savefig('output/radio_select.png', bbox_inches='tight', dpi=300)"
   ]
  },
  {
   "cell_type": "code",
   "execution_count": null,
   "metadata": {
    "collapsed": true
   },
   "outputs": [],
   "source": []
  },
  {
   "cell_type": "code",
   "execution_count": null,
   "metadata": {
    "collapsed": true
   },
   "outputs": [],
   "source": []
  },
  {
   "cell_type": "markdown",
   "metadata": {
    "collapsed": true
   },
   "source": [
    "AGN fractions, figure 11"
   ]
  },
  {
   "cell_type": "code",
   "execution_count": 21,
   "metadata": {
    "collapsed": true
   },
   "outputs": [],
   "source": [
    "def calc_agn_frac(gals, L, quasar_lim, radio_lim):\n",
    "\n",
    "    cluster_ids = pd.unique(gals[gals['z0_central_mcrit200'] > 1.48e4]['z0_centralId'])\n",
    "    \n",
    "    N_quasar = [None] * len(cluster_ids)\n",
    "    N_radio = [None] * len(cluster_ids)\n",
    "\n",
    "    # print \"Looping through clusters...\"    \n",
    "    for i, cluster in enumerate(cluster_ids):\n",
    "        \n",
    "        quasar_mask = gals[gals['z0_centralId']==cluster]['zn_quasarAccretionRate'] > quasar_lim\n",
    "        radio_mask = gals[gals['z0_centralId']==cluster]['zn_radioAccretionRate'] > radio_lim\n",
    "        \n",
    "        N_quasar[i] = np.sum(quasar_mask)\n",
    "        N_radio[i] = np.sum(radio_mask)\n",
    "        \n",
    "    return N_quasar, N_radio, len(cluster_ids)"
   ]
  },
  {
   "cell_type": "code",
   "execution_count": 22,
   "metadata": {
    "collapsed": true
   },
   "outputs": [],
   "source": [
    "n_quasar = [None] * len(redshifts)\n",
    "n_radio = [None] * len(redshifts)\n",
    "\n",
    "n_quasar_cons = [None] * len(redshifts)\n",
    "n_radio_cons = [None] * len(redshifts)\n",
    "\n",
    "n_clust = [None] * len(redshifts)\n",
    "\n",
    "for i,z in enumerate(redshifts):\n",
    "    n_quasar[i], n_radio[i], n_clust[i] = calc_agn_frac(gals[i], L, quasar_lim, radio_lim)\n",
    "    n_quasar_cons[i], n_radio_cons[i], n_clust[i] = calc_agn_frac(gals[i], L, cons_quasar_lim, cons_radio_lim)"
   ]
  },
  {
   "cell_type": "code",
   "execution_count": 23,
   "metadata": {
    "collapsed": true
   },
   "outputs": [],
   "source": [
    "quasar_in_pcs = [None] * len(gals)\n",
    "radio_in_pcs = [None] * len(gals)\n",
    "\n",
    "all_quasar = [None] * len(gals)\n",
    "all_radio = [None] * len(gals)\n",
    "\n",
    "quasar_in_pcs_cons = [None] * len(gals)\n",
    "radio_in_pcs_cons = [None] * len(gals)\n",
    "\n",
    "all_quasar_cons = [None] * len(gals)\n",
    "all_radio_cons = [None] * len(gals)\n",
    "\n",
    "for i in range(len(gals)):\n",
    "    clust = gals[i]['z0_central_mcrit200'] > 1.48e4\n",
    "\n",
    "    quasar_mask = gals[i]['zn_quasarAccretionRate'] > quasar_lim\n",
    "    radio_mask = gals[i]['zn_radioAccretionRate'] > radio_lim\n",
    "\n",
    "    quasar_in_pcs[i] = float(np.sum((quasar_mask & clust)))\n",
    "    radio_in_pcs[i] = float(np.sum((radio_mask & clust)))\n",
    "    \n",
    "    all_quasar[i] = np.sum(quasar_mask)\n",
    "    all_radio[i] = np.sum(radio_mask)\n",
    "    \n",
    "    quasar_mask = gals[i]['zn_quasarAccretionRate'] > cons_quasar_lim\n",
    "    radio_mask = gals[i]['zn_radioAccretionRate'] > cons_radio_lim\n",
    "\n",
    "    quasar_in_pcs_cons[i] = float(np.sum((quasar_mask & clust)))\n",
    "    radio_in_pcs_cons[i] = float(np.sum((radio_mask & clust)))\n",
    "    \n",
    "    all_quasar_cons[i] = np.sum(quasar_mask)\n",
    "    all_radio_cons[i] = np.sum(radio_mask)\n",
    "    "
   ]
  },
  {
   "cell_type": "code",
   "execution_count": 24,
   "metadata": {},
   "outputs": [
    {
     "data": {
      "text/plain": [
       "array([2154, 2154, 2154, 2154, 2149, 1902,  904,  380,  126])"
      ]
     },
     "execution_count": 24,
     "metadata": {},
     "output_type": "execute_result"
    }
   ],
   "source": [
    "n_clust = np.array(n_clust)\n",
    "n_clust"
   ]
  },
  {
   "cell_type": "code",
   "execution_count": 27,
   "metadata": {
    "collapsed": true
   },
   "outputs": [],
   "source": [
    "ages = np.array([4, 3, 2.5, 2.1, 1.8, 1.6, 1.4, 1.25, 1.1, 1.0, 0.9])*u.Gyr\n",
    "ageticks = [z_at_value(Planck13.age, age) for age in ages]"
   ]
  },
  {
   "cell_type": "code",
   "execution_count": 26,
   "metadata": {
    "scrolled": false
   },
   "outputs": [
    {
     "name": "stderr",
     "output_type": "stream",
     "text": [
      "/mnt/pact/cl478/protoclusters/protoclusters/lib/python2.7/site-packages/ipykernel_launcher.py:26: RuntimeWarning: invalid value encountered in divide\n"
     ]
    },
    {
     "data": {
      "text/plain": [
       "<matplotlib.legend.Legend at 0x2aabc4b49390>"
      ]
     },
     "execution_count": 26,
     "metadata": {},
     "output_type": "execute_result"
    },
    {
     "data": {
      "image/png": "[encoded data removed]",
      "text/plain": [
       "<matplotlib.figure.Figure at 0x2aabc49579d0>"
      ]
     },
     "metadata": {},
     "output_type": "display_data"
    }
   ],
   "source": [
    "fig, (ax1, ax2) = plt.subplots(2,1, figsize=(4.5,4.5))\n",
    "\n",
    "plt.subplots_adjust(hspace=0)\n",
    "\n",
    "z_lim = 5\n",
    "\n",
    "ax1.plot(zees[:z_lim], np.array([float(np.sum([x > 0 for x in y])) for y in n_quasar[:z_lim]]) / n_clust[:z_lim], \n",
    "        c=cmap[1], lw=4, linestyle='dashed')\n",
    "\n",
    "ax1.plot(zees[:z_lim], np.array([float(np.sum([x > 0 for x in y])) for y in n_radio[:z_lim]]) / n_clust[:z_lim], \n",
    "          c=cmap[4], lw=4, linestyle='dashed')\n",
    "\n",
    "# cons\n",
    "ax2.plot(zees[:z_lim], np.array([float(np.sum([x > 0 for x in y])) for y in n_radio_cons[:z_lim]]) / n_clust[:z_lim], \n",
    "         c=cmap[4], lw=4, linestyle='dashed')\n",
    "\n",
    "ax2.plot(zees[:z_lim], np.array([float(np.sum([x > 0 for x in y])) for y in n_quasar_cons[:z_lim]]) / n_clust[:z_lim], \n",
    "         c=cmap[1], lw=4, linestyle='dashed')\n",
    "\n",
    "\n",
    "ax1.plot(zees[:z_lim], np.array(quasar_in_pcs[:z_lim])/np.array(all_quasar[:z_lim]), c=cmap[1], lw=5)\n",
    "ax1.plot(zees[:z_lim], np.array(radio_in_pcs[:z_lim])/np.array(all_radio[:z_lim]), c=cmap[4], lw=5)\n",
    "\n",
    "#cons\n",
    "ax2.plot(zees[:z_lim], np.array(quasar_in_pcs_cons[:z_lim])/np.array(all_quasar_cons[:z_lim]), c=cmap[1], lw=5)\n",
    "ax2.plot(zees[:z_lim], np.array(radio_in_pcs_cons[:z_lim])/np.array(all_radio_cons[:z_lim]), c=cmap[4], lw=5)\n",
    "\n",
    "\n",
    "ax2.set_xlabel('$z$', size=13)\n",
    "\n",
    "for ax in [ax1,ax2]:\n",
    "    ax.set_ylim(0, 1)\n",
    "    ax.grid()\n",
    "    #ax.set_ylabel('$f$', rotation=0, size=20)\n",
    "    \n",
    "axt = ax1.twiny()\n",
    "axt.set_xticks(ageticks)\n",
    "axt.set_xticklabels([\"$%.2f$\"%age for age in ages.value]);\n",
    "\n",
    "axt.set_xlabel('$t (Gyr)$', size=11, labelpad=12)\n",
    "\n",
    "ax1.set_xticklabels([])\n",
    "ax1.set_yticklabels(['','$0.2$','$0.4$','$0.6$','$0.8$','$1.0$'])\n",
    "\n",
    "ax1.set_xlim(2.05, 5.7)\n",
    "ax2.set_xlim(2.05, 5.7)\n",
    "axt.set_xlim(2.05, 5.7)\n",
    "\n",
    "line1 = plt.Line2D((0,1),(0,0), color=cmap[4], linestyle='solid')\n",
    "line2 = plt.Line2D((0,1),(0,0), color=cmap[1], linestyle='solid')\n",
    "\n",
    "line3 = plt.Line2D((0,1),(0,0), color='black', linestyle='solid')\n",
    "line4 = plt.Line2D((0,1),(0,0), color='black', linestyle='dashed')\n",
    "\n",
    "ax2.legend(handles=[line1, line2, line3, line4], \n",
    "           labels=['HzRGs','Quasars',r'$f(AGN)$',r'$f(pcs)$'], \n",
    "           loc=(-0.06, -0.4), prop={'size':9}, frameon=False, ncol=4)\n",
    "\n",
    "\n",
    "# plt.savefig('output/agn_stats.png', bbox_inches='tight', dpi=300)"
   ]
  },
  {
   "cell_type": "code",
   "execution_count": null,
   "metadata": {
    "collapsed": true
   },
   "outputs": [],
   "source": []
  }
 ],
 "metadata": {
  "kernelspec": {
   "display_name": "Python 2",
   "language": "python",
   "name": "python2"
  },
  "language_info": {
   "codemirror_mode": {
    "name": "ipython",
    "version": 2
   },
   "file_extension": ".py",
   "mimetype": "text/x-python",
   "name": "python",
   "nbconvert_exporter": "python",
   "pygments_lexer": "ipython2",
   "version": "2.7.12"
  }
 },
 "nbformat": 4,
 "nbformat_minor": 1
}
