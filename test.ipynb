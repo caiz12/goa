{
 "cells": [
  {
   "cell_type": "code",
   "execution_count": 79,
   "metadata": {
    "collapsed": true
   },
   "outputs": [],
   "source": [
    "from astropy.cosmology import Planck13 as cosmo\n",
    "from astropy.constants import G\n",
    "import numpy as np"
   ]
  },
  {
   "cell_type": "code",
   "execution_count": 83,
   "metadata": {
    "collapsed": false
   },
   "outputs": [
    {
     "data": {
      "text/latex": [
       "$1.2743083 \\times 10^{11} \\; \\mathrm{\\frac{M_{\\odot}}{Mpc^{3}}}$"
      ],
      "text/plain": [
       "<Quantity 127430827576.2064 solMass / Mpc3>"
      ]
     },
     "execution_count": 83,
     "metadata": {},
     "output_type": "execute_result"
    }
   ],
   "source": [
    "((3 * (cosmo.H(0)**2)) / (8 * np.pi * G)).to(u.solMass * u.Mpc**-3)"
   ]
  },
  {
   "cell_type": "code",
   "execution_count": 58,
   "metadata": {
    "collapsed": false
   },
   "outputs": [
    {
     "data": {
      "text/latex": [
       "$2.016463 \\times 10^{10} \\; \\mathrm{M_{\\odot}}$"
      ],
      "text/plain": [
       "<Quantity 20164630000.0 solMass>"
      ]
     },
     "execution_count": 58,
     "metadata": {},
     "output_type": "execute_result"
    }
   ],
   "source": [
    "Mvir = 2.016463 * 10**10 * u.solMass\n",
    "Mvir"
   ]
  },
  {
   "cell_type": "code",
   "execution_count": 59,
   "metadata": {
    "collapsed": false
   },
   "outputs": [
    {
     "data": {
      "text/latex": [
       "$0.04425956 \\; \\mathrm{Mpc}$"
      ],
      "text/plain": [
       "<Quantity 0.04425956 Mpc>"
      ]
     },
     "execution_count": 59,
     "metadata": {},
     "output_type": "execute_result"
    }
   ],
   "source": [
    "Rvir = 0.04425956 * u.Mpc\n",
    "Rvir"
   ]
  },
  {
   "cell_type": "code",
   "execution_count": 77,
   "metadata": {
    "collapsed": false
   },
   "outputs": [
    {
     "data": {
      "text/latex": [
       "$2.7761976 \\times 10^{11} \\; \\mathrm{\\frac{M_{\\odot}}{Mpc^{3}}}$"
      ],
      "text/plain": [
       "<Quantity 277619761116.8498 solMass / Mpc3>"
      ]
     },
     "execution_count": 77,
     "metadata": {},
     "output_type": "execute_result"
    }
   ],
   "source": [
    "(((3 * Mvir) / (4 * np.pi * Rvir**3)) / 200) #.decompose()"
   ]
  },
  {
   "cell_type": "code",
   "execution_count": 84,
   "metadata": {
    "collapsed": false
   },
   "outputs": [
    {
     "data": {
      "text/plain": [
       "0.03138276448652702"
      ]
     },
     "execution_count": 84,
     "metadata": {},
     "output_type": "execute_result"
    }
   ],
   "source": [
    "((3 * 2.016463) / (4 * np.pi * 1.246 * 10**11))**(1./3) * 200"
   ]
  },
  {
   "cell_type": "code",
   "execution_count": null,
   "metadata": {
    "collapsed": true
   },
   "outputs": [],
   "source": []
  },
  {
   "cell_type": "code",
   "execution_count": null,
   "metadata": {
    "collapsed": true
   },
   "outputs": [],
   "source": []
  },
  {
   "cell_type": "code",
   "execution_count": null,
   "metadata": {
    "collapsed": true
   },
   "outputs": [],
   "source": []
  },
  {
   "cell_type": "code",
   "execution_count": 1,
   "metadata": {
    "collapsed": false
   },
   "outputs": [
    {
     "name": "stdout",
     "output_type": "stream",
     "text": [
      "Reading galaxy data...\n",
      "Filling in NaN values...\n",
      "Copying galaxy coordinates...\n"
     ]
    }
   ],
   "source": [
    "random = False\n",
    "\n",
    "import pandas as pd\n",
    "import numpy as np\n",
    "import itertools as it\n",
    "from scipy.spatial.distance import cdist\n",
    "\n",
    "from hightolowz import distance\n",
    "\n",
    "\n",
    "print \"Reading galaxy data...\"\n",
    "\n",
    "gals = pd.read_csv('data/henriques2015a_z3p10_sfr.csv', skiprows=104, skipfooter=1, engine='python')\n",
    "\n",
    "n = 100\n",
    "selection_str = 'mstar9'\n",
    "redshift_str = '3p95'\n",
    "\n",
    "print \"Filling in NaN values...\"\n",
    "gals.ix[np.isnan(gals['z0_haloId']), 'z0_haloId'] = -1\n",
    "gals.ix[np.isnan(gals['z0_centralId']), 'z0_centralId'] = -1\n",
    "gals.ix[np.isnan(gals['z0_central_mcrit200']), 'z0_central_mcrit200'] = 0\n",
    "\n",
    "\n",
    "L = 480.279\n",
    "\n",
    "if random:\n",
    "    print \"Initialising random regions...\"\n",
    "    N = 30000\n",
    "    coods = pd.DataFrame(np.random.rand(N,3) * L, columns=['zn_x','zn_y','zn_z'])\n",
    "    location_str = 'random'\n",
    "else:\n",
    "    print \"Copying galaxy coordinates...\"\n",
    "    coods = gals[['zn_x','zn_y','zn_z']].copy()\n",
    "    location_str = 'gals'\n",
    "\n",
    "dimensions = np.array([L, L, L])\n",
    "\n",
    "r = [20, 12.5, 7.5, 5]\n",
    "r_str = ['20', '12.5', '7.5', '5']\n"
   ]
  },
  {
   "cell_type": "code",
   "execution_count": 2,
   "metadata": {
    "collapsed": true
   },
   "outputs": [],
   "source": [
    "ngal = {'20': [None] * len(coods), '12.5': [None] * len(coods), '7.5': [None] * len(coods), '5': [None] * len(coods)}\n",
    "dgal = {'20': [None] * len(coods), '12.5': [None] * len(coods), '7.5': [None] * len(coods), '5': [None] * len(coods)}\n",
    "max_fraction = {'20': [None] * len(coods), '12.5': [None] * len(coods), '7.5': [None] * len(coods), '5': [None] * len(coods)}\n",
    "max_fraction_mass = {'20': [None] * len(coods), '12.5': [None] * len(coods), '7.5': [None] * len(coods), '5': [None] * len(coods)}\n",
    "n_cluster_desc = {'20': [None] * len(coods), '12.5': [None] * len(coods), '7.5': [None] * len(coods), '5': [None] * len(coods)}\n",
    "\n"
   ]
  },
  {
   "cell_type": "code",
   "execution_count": null,
   "metadata": {
    "collapsed": true
   },
   "outputs": [],
   "source": []
  },
  {
   "cell_type": "code",
   "execution_count": 30,
   "metadata": {
    "collapsed": false
   },
   "outputs": [],
   "source": [
    "c = gals[10000:20000][['zn_x','zn_y','zn_z']].copy()"
   ]
  },
  {
   "cell_type": "code",
   "execution_count": 9,
   "metadata": {
    "collapsed": false,
    "scrolled": true
   },
   "outputs": [
    {
     "name": "stdout",
     "output_type": "stream",
     "text": [
      "1 loops, best of 3: 11.8 s per loop\n"
     ]
    }
   ],
   "source": [
    "%timeit c.apply(lambda x: distance(x, gals[['zn_x','zn_y','zn_z']], dimensions), axis=1)"
   ]
  },
  {
   "cell_type": "code",
   "execution_count": 51,
   "metadata": {
    "collapsed": true
   },
   "outputs": [],
   "source": [
    "from periodic_kdtree import PeriodicCKDTree"
   ]
  },
  {
   "cell_type": "code",
   "execution_count": 52,
   "metadata": {
    "collapsed": true
   },
   "outputs": [],
   "source": [
    "T = PeriodicCKDTree(dimensions, gals[['zn_x','zn_y','zn_z']])"
   ]
  },
  {
   "cell_type": "code",
   "execution_count": 53,
   "metadata": {
    "collapsed": false
   },
   "outputs": [],
   "source": [
    "gal_index = T.query_ball_point(c, r=20)"
   ]
  },
  {
   "cell_type": "code",
   "execution_count": 54,
   "metadata": {
    "collapsed": false
   },
   "outputs": [
    {
     "data": {
      "text/plain": [
       "(10000,)"
      ]
     },
     "execution_count": 54,
     "metadata": {},
     "output_type": "execute_result"
    }
   ],
   "source": [
    "gal_index.shape"
   ]
  },
  {
   "cell_type": "code",
   "execution_count": 99,
   "metadata": {
    "collapsed": false
   },
   "outputs": [
    {
     "name": "stdout",
     "output_type": "stream",
     "text": [
      "100 loops, best of 3: 2.81 ms per loop\n"
     ]
    }
   ],
   "source": [
    "%timeit gals.ix[gal_index[0]].groupby('z0_centralId', sort=False).mean()['z0_central_mcrit200']\n",
    "agg_mvir = gals.ix[gal_index[0]].groupby('z0_centralId', sort=False).mean()['z0_central_mcrit200']"
   ]
  },
  {
   "cell_type": "code",
   "execution_count": 98,
   "metadata": {
    "collapsed": false,
    "scrolled": true
   },
   "outputs": [
    {
     "name": "stdout",
     "output_type": "stream",
     "text": [
      "100 loops, best of 3: 1.25 ms per loop\n"
     ]
    }
   ],
   "source": [
    "%timeit np.unique(gals.ix[gal_index[0]]['z0_central_mcrit200'])"
   ]
  },
  {
   "cell_type": "code",
   "execution_count": 214,
   "metadata": {
    "collapsed": false
   },
   "outputs": [
    {
     "name": "stdout",
     "output_type": "stream",
     "text": [
      "100 loops, best of 3: 1.63 ms per loop\n"
     ]
    }
   ],
   "source": [
    "%timeit Counter(gals.ix[gal_index[0]]['z0_central_mcrit200']).most_common()\n",
    "c = Counter(gals.ix[gal_index[0]]['z0_central_mcrit200']).most_common()"
   ]
  },
  {
   "cell_type": "code",
   "execution_count": 216,
   "metadata": {
    "collapsed": false
   },
   "outputs": [
    {
     "name": "stdout",
     "output_type": "stream",
     "text": [
      "10000 loops, best of 3: 13.1 µs per loop\n",
      "100000 loops, best of 3: 17.4 µs per loop\n",
      "The slowest run took 4.41 times longer than the fastest. This could mean that an intermediate result is being cached \n",
      "10000 loops, best of 3: 17.2 µs per loop\n",
      "10000 loops, best of 3: 22.6 µs per loop\n",
      "The slowest run took 15.25 times longer than the fastest. This could mean that an intermediate result is being cached \n",
      "1000000 loops, best of 3: 203 ns per loop\n"
     ]
    }
   ],
   "source": [
    "total = sum([x[1] for x in c])\n",
    "%timeit sum([x[1] for x in c])\n",
    "\n",
    "m_max = c[0][0]\n",
    "cluster_descendants = [(x[0] > 1e4) for x in c]\n",
    "%timeit [(x[0] > 1e4) for x in c]\n",
    "\n",
    "n_cd = np.sum(cluster_descendants)\n",
    "%timeit np.sum(cluster_descendants)\n",
    "\n",
    "f_cd = float(np.sum([x[1] for x in c if (x[0] > 1e4)])) / total\n",
    "%timeit float(np.sum([x[1] for x in c if (x[0] > 1e4)])) / total\n",
    "\n",
    "max_frac = float(c[0][1]) / total\n",
    "%timeit float(c[0][1]) / total"
   ]
  },
  {
   "cell_type": "code",
   "execution_count": 213,
   "metadata": {
    "collapsed": false
   },
   "outputs": [
    {
     "name": "stdout",
     "output_type": "stream",
     "text": [
      "1475 144049.45 3 0.637288135593 0.456271186441\n"
     ]
    }
   ],
   "source": [
    "print total, m_max, n_cd, f_cd, max_frac"
   ]
  },
  {
   "cell_type": "code",
   "execution_count": 178,
   "metadata": {
    "collapsed": false
   },
   "outputs": [],
   "source": []
  },
  {
   "cell_type": "code",
   "execution_count": null,
   "metadata": {
    "collapsed": true
   },
   "outputs": [],
   "source": []
  },
  {
   "cell_type": "code",
   "execution_count": null,
   "metadata": {
    "collapsed": true
   },
   "outputs": [],
   "source": []
  },
  {
   "cell_type": "code",
   "execution_count": null,
   "metadata": {
    "collapsed": true
   },
   "outputs": [],
   "source": []
  },
  {
   "cell_type": "code",
   "execution_count": 105,
   "metadata": {
    "collapsed": false
   },
   "outputs": [
    {
     "name": "stdout",
     "output_type": "stream",
     "text": [
      "100 loops, best of 3: 1.59 ms per loop\n"
     ]
    }
   ],
   "source": [
    "%timeit gals.ix[gal_index[0]].groupby('z0_centralId')['z0_centralId'].count()#.astype(float)\n",
    "agg_count = gals.ix[gal_index[0]].groupby('z0_centralId')['z0_centralId'].count().astype(float)"
   ]
  },
  {
   "cell_type": "code",
   "execution_count": 107,
   "metadata": {
    "collapsed": false
   },
   "outputs": [
    {
     "name": "stdout",
     "output_type": "stream",
     "text": [
      "100 loops, best of 3: 2.48 ms per loop\n"
     ]
    }
   ],
   "source": [
    "%timeit pd.DataFrame([agg_mvir, agg_count]).T\n",
    "agg = pd.DataFrame([agg_mvir, agg_count]).T"
   ]
  },
  {
   "cell_type": "code",
   "execution_count": 88,
   "metadata": {
    "collapsed": false
   },
   "outputs": [
    {
     "name": "stdout",
     "output_type": "stream",
     "text": [
      "1000 loops, best of 3: 188 µs per loop\n"
     ]
    }
   ],
   "source": [
    "%timeit agg.loc[agg['z0_centralId'].idxmax()]['z0_central_mcrit200'] # find mass of most common descendant\n",
    "m_max = agg.loc[agg['z0_centralId'].idxmax()]['z0_central_mcrit200'] # find mass of most common descendant"
   ]
  },
  {
   "cell_type": "code",
   "execution_count": 86,
   "metadata": {
    "collapsed": false
   },
   "outputs": [
    {
     "name": "stdout",
     "output_type": "stream",
     "text": [
      "1000 loops, best of 3: 362 µs per loop\n"
     ]
    }
   ],
   "source": [
    "%timeit sum(agg_mvir > 1e4)\n",
    "ncd = sum(agg_mvir > 1e4)"
   ]
  },
  {
   "cell_type": "code",
   "execution_count": 114,
   "metadata": {
    "collapsed": false
   },
   "outputs": [
    {
     "name": "stdout",
     "output_type": "stream",
     "text": [
      "10000 loops, best of 3: 111 µs per loop\n"
     ]
    }
   ],
   "source": [
    "%timeit agg_count.max() / agg_count.sum()\n",
    "max_frac = agg_count.max() / agg_count.sum()"
   ]
  },
  {
   "cell_type": "code",
   "execution_count": 129,
   "metadata": {
    "collapsed": true
   },
   "outputs": [],
   "source": [
    "from collections import Counter"
   ]
  },
  {
   "cell_type": "code",
   "execution_count": 130,
   "metadata": {
    "collapsed": true
   },
   "outputs": [],
   "source": [
    "gals.z0_centralId = gals.z0_centralId.astype(np.int64)"
   ]
  },
  {
   "cell_type": "code",
   "execution_count": 145,
   "metadata": {
    "collapsed": false,
    "scrolled": true
   },
   "outputs": [
    {
     "name": "stdout",
     "output_type": "stream",
     "text": [
      "100 loops, best of 3: 1.86 ms per loop\n"
     ]
    }
   ],
   "source": [
    "%timeit Counter(gals.loc[gal_index[0], 'z0_centralId']).most_common()"
   ]
  },
  {
   "cell_type": "code",
   "execution_count": null,
   "metadata": {
    "collapsed": true
   },
   "outputs": [],
   "source": []
  },
  {
   "cell_type": "code",
   "execution_count": 127,
   "metadata": {
    "collapsed": false
   },
   "outputs": [],
   "source": []
  },
  {
   "cell_type": "code",
   "execution_count": null,
   "metadata": {
    "collapsed": true
   },
   "outputs": [],
   "source": []
  },
  {
   "cell_type": "code",
   "execution_count": null,
   "metadata": {
    "collapsed": true
   },
   "outputs": [],
   "source": []
  },
  {
   "cell_type": "code",
   "execution_count": null,
   "metadata": {
    "collapsed": true
   },
   "outputs": [],
   "source": [
    "for i in range(len(gal_index)):\n",
    "\n",
    "    n_galaxy = len(gal_index[i])\n",
    "    ngal[R_str][j+i] = n_galaxy\n",
    "\n",
    "    if n_galaxy == 0:\n",
    "        m_max=0\n",
    "        ncd=0\n",
    "        agg_count=np.array([0])\n",
    "        max_frac=0\n",
    "    else:\n",
    "        agg_mvir = gals.ix[gal_index[i]].groupby('z0_centralId').mean()['z0_central_mcrit200']\n",
    "        agg_count = gals.ix[gal_index[i]].groupby('z0_centralId')['z0_centralId'].count().astype(float)\n",
    "\n",
    "        agg = pd.DataFrame([agg_mvir, agg_count]).T\n",
    "        \n",
    "        m_max = agg.loc[agg['z0_centralId'].idxmax()]['z0_central_mcrit200'] # find mass of most common descendant\n",
    "        ncd = sum(agg_mvir > 1e4)\n",
    "        max_frac = agg_count.max() / agg_count.sum()\n",
    "\n",
    "    max_fraction_mass[R_str][j+i] = m_max\n",
    "    max_fraction[R_str][j+i] = max_frac\n",
    "    n_cluster_desc[R_str][j+i] = ncd"
   ]
  },
  {
   "cell_type": "code",
   "execution_count": null,
   "metadata": {
    "collapsed": true
   },
   "outputs": [],
   "source": []
  },
  {
   "cell_type": "code",
   "execution_count": null,
   "metadata": {
    "collapsed": true
   },
   "outputs": [],
   "source": []
  },
  {
   "cell_type": "markdown",
   "metadata": {},
   "source": [
    "Old loop for reference"
   ]
  },
  {
   "cell_type": "code",
   "execution_count": null,
   "metadata": {
    "collapsed": true
   },
   "outputs": [],
   "source": [
    "# can't calculate distances all in one go, so need to chunk\n",
    "#for i,gals in z6_galaxies_mstar.groupby(np.arange(len(z6_galaxies_mstar))//n):\n",
    "for i,c in coods.groupby(np.arange(len(coods))//n):\n",
    "\n",
    "    if i % 5 == 0:\n",
    "        print round(float(c.shape[0] * (i+1)) / coods.shape[0] * 100, 2), '%'\n",
    "\n",
    "    # calculate distances\n",
    "    dist = np.vstack(c.apply(lambda x: distance(x, gals[['zn_x','zn_y','zn_z']], dimensions), axis=1))\n",
    "\n",
    "    for R, R_str in zip(r, r_str):\n",
    "\n",
    "        gal_index = dist < R\n",
    "\n",
    "        for i in range(len(gal_index)):\n",
    "\n",
    "            n_galaxy = np.sum(gal_index[i])\n",
    "            ngal[R_str].append(n_galaxy)\n",
    "\n",
    "            if n_galaxy == 0:\n",
    "                m_max=0\n",
    "                ncd=0\n",
    "                agg_count=np.array([0])\n",
    "                max_frac=0\n",
    "            else:\n",
    "                agg_mvir = gals.ix[gal_index[i]].groupby('z0_centralId').mean()['z0_central_mcrit200']\n",
    "                agg_count = gals.ix[gal_index[i]].groupby('z0_centralId')['z0_centralId'].count().astype(float)\n",
    "\n",
    "                agg = pd.DataFrame([agg_mvir, agg_count]).T\n",
    "\n",
    "                m_max = agg.loc[agg['z0_centralId'].idxmax()]['z0_central_mcrit200'] # find mass of most common descendant\n",
    "                ncd = sum(agg_mvir > 1e4)\n",
    "                max_frac = agg_count.max() / agg_count.sum()\n",
    "\n",
    "            max_fraction_mass[R_str].append(m_max)\n",
    "            max_fraction[R_str].append(max_frac)\n",
    "            n_cluster_desc[R_str].append(ncd)"
   ]
  }
 ],
 "metadata": {
  "kernelspec": {
   "display_name": "Python 2",
   "language": "python",
   "name": "python2"
  },
  "language_info": {
   "codemirror_mode": {
    "name": "ipython",
    "version": 2
   },
   "file_extension": ".py",
   "mimetype": "text/x-python",
   "name": "python",
   "nbconvert_exporter": "python",
   "pygments_lexer": "ipython2",
   "version": "2.7.11"
  }
 },
 "nbformat": 4,
 "nbformat_minor": 0
}
