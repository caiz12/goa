{
 "cells": [
  {
   "cell_type": "markdown",
   "metadata": {},
   "source": [
    "### Selection queries\n",
    "\n",
    "We use four different galaxy selections in the paper:\n",
    "\n",
    "- $\\mathrm{S_{SFR1}}$ \n",
    "- $\\mathrm{S_{SFR5}}$ \n",
    "- $\\mathrm{S_{MAS9}}$ \n",
    "- $\\mathrm{S_{MAS10}}$ \n",
    "\n",
    "Only need to query for the lower stellar mass and SFR selections since the remaining two are subsets.\n",
    "\n",
    "The galaxy selection script is within `queries.sh`. The output directory must be specified at the top of the file. It can then be run with:\n",
    "\n",
    "`./queries.sh`"
   ]
  },
  {
   "cell_type": "code",
   "execution_count": 1,
   "metadata": {
    "collapsed": false
   },
   "outputs": [],
   "source": [
    "%less queries.sh"
   ]
  },
  {
   "cell_type": "code",
   "execution_count": null,
   "metadata": {
    "collapsed": true
   },
   "outputs": [],
   "source": []
  }
 ],
 "metadata": {
  "kernelspec": {
   "display_name": "Python 2",
   "language": "python",
   "name": "python2"
  },
  "language_info": {
   "codemirror_mode": {
    "name": "ipython",
    "version": 2
   },
   "file_extension": ".py",
   "mimetype": "text/x-python",
   "name": "python",
   "nbconvert_exporter": "python",
   "pygments_lexer": "ipython2",
   "version": "2.7.5"
  }
 },
 "nbformat": 4,
 "nbformat_minor": 2
}
