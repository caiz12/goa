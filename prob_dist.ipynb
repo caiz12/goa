{
 "cells": [
  {
   "cell_type": "code",
   "execution_count": 1,
   "metadata": {
    "collapsed": true
   },
   "outputs": [],
   "source": [
    "%matplotlib inline\n",
    "import matplotlib.pyplot as plt\n",
    "import matplotlib.gridspec as gridspec\n",
    "import matplotlib.cm as cm\n",
    "\n",
    "from palettable.tableau import GreenOrange_12\n",
    "cmap = GreenOrange_12.hex_colors\n",
    "\n",
    "from matplotlib import rc\n",
    "rc('font',**{'family':'sans-serif','sans-serif':['Helvetica']})\n",
    "## for Palatino and other serif fonts use:\n",
    "#rc('font',**{'family':'serif','serif':['Palatino']})\n",
    "rc('text', usetex=True)\n",
    "\n",
    "from collections import Counter\n",
    "\n",
    "from mpl_toolkits.mplot3d import Axes3D"
   ]
  },
  {
   "cell_type": "code",
   "execution_count": 4,
   "metadata": {
    "collapsed": true
   },
   "outputs": [],
   "source": [
    "import sys\n",
    "\n",
    "import pandas as pd\n",
    "import numpy as np\n",
    "\n",
    "from collections import Counter\n",
    "\n",
    "# https://github.com/patvarilly/periodic_kdtree\n",
    "from periodic_kdtree import PeriodicCKDTree"
   ]
  },
  {
   "cell_type": "code",
   "execution_count": 5,
   "metadata": {
    "collapsed": true
   },
   "outputs": [],
   "source": [
    "import pickle as pcl"
   ]
  },
  {
   "cell_type": "code",
   "execution_count": 6,
   "metadata": {
    "collapsed": true
   },
   "outputs": [],
   "source": [
    "# gals = pd.read_csv('data/r200/henriques2015a_z6p97_stellarMass_r200.csv', skiprows=122, skipfooter=1, engine='python')"
   ]
  },
  {
   "cell_type": "code",
   "execution_count": 76,
   "metadata": {
    "collapsed": false
   },
   "outputs": [],
   "source": [
    "dgal_sfr_2p07_random = pcl.load(open('data/r200/dgal_sfr_2p07_random.pcl','rb'))\n",
    "dgal_sfr_3p95_random = pcl.load(open('data/r200/dgal_sfr_3p95_random.pcl','rb'))\n",
    "dgal_sfr_5p92_random = pcl.load(open('data/r200/dgal_sfr_5p92_random.pcl','rb'))"
   ]
  },
  {
   "cell_type": "code",
   "execution_count": 77,
   "metadata": {
    "collapsed": false
   },
   "outputs": [],
   "source": [
    "# dgal_stellarMass_2p07_random = pcl.load(open('data/r200/dgal_stellarMass_2p07_random.pcl','rb'))\n",
    "dgal_stellarMass10_2p07_random = pcl.load(open('data/r200/dgal_stellarMass10_2p07_random.pcl','rb'))"
   ]
  },
  {
   "cell_type": "code",
   "execution_count": 78,
   "metadata": {
    "collapsed": false
   },
   "outputs": [
    {
     "name": "stdout",
     "output_type": "stream",
     "text": [
      "(3, 3, 100000, 3)\n",
      "(1, 1, 100000, 3)\n",
      "(1, 1, 100000, 3)\n",
      "(1, 1, 100000, 3)\n"
     ]
    }
   ],
   "source": [
    "print dgal_sfr_3p95_random.shape\n",
    "print dgal_sfr_2p07_random.shape\n",
    "print dgal_sfr_5p92_random.shape\n",
    "# print dgal_stellarMass_2p07_random.shape\n",
    "print dgal_stellarMass10_2p07_random.shape"
   ]
  },
  {
   "cell_type": "code",
   "execution_count": 72,
   "metadata": {
    "collapsed": false
   },
   "outputs": [],
   "source": [
    "def plotit(ax, selection, rid, zid, clim = 0.5, plim = 0.5, N = 12):\n",
    "    \n",
    "    dgal = selection[rid,zid,:,0]\n",
    "    completeness = selection[rid,zid,:,1]\n",
    "    purity = selection[rid,zid,:,2]\n",
    "\n",
    "    label = np.zeros(100000)\n",
    "\n",
    "    label[(completeness >= clim) & (purity >= plim)] = 1\n",
    "    label[(completeness >= clim) & (purity < plim)] = 2\n",
    "    label[(completeness < clim) & (purity >= plim)] = 3\n",
    "    label[(completeness < clim) & (purity < plim)] = 0\n",
    "    \n",
    "    binLimits = np.linspace(-1, int(np.max(dgal)+1), N)\n",
    "\n",
    "    lower_bin = binLimits[1] + (binLimits[0]-binLimits[1])/2. \n",
    "    upper_bin = binLimits[-1] + (binLimits[0]-binLimits[1])/2.\n",
    "\n",
    "    bins = np.linspace(lower_bin, upper_bin, N-1)\n",
    "\n",
    "    agg_total = np.histogram(dgal, binLimits)[0]\n",
    "\n",
    "    agg_pc = np.histogram(dgal[label==1], binLimits)[0]\n",
    "    agg_pc_field = np.histogram(dgal[label==2], binLimits)[0]\n",
    "    agg_pc_part = np.histogram(dgal[label==3], binLimits)[0]\n",
    "    \n",
    "    # set empty bins to have max protocluster probability\n",
    "    agg_pc[np.where(agg_total==0)] = agg_total[np.where(agg_total==0)] = 1\n",
    "\n",
    "    width = binLimits[2] - binLimits[1]\n",
    "\n",
    "    ax.bar(bins, agg_pc / agg_total.astype(float), width=width, \n",
    "           label='protocluster', alpha=0.8, color='lightseagreen')\n",
    "\n",
    "    ax.bar(bins, agg_pc_part / agg_total.astype(float), \n",
    "            width=width, bottom=agg_pc / agg_total.astype(float), \n",
    "           label='part of a \\n protocluster', alpha=0.8, color='y') \n",
    "\n",
    "    ax.bar(bins, agg_pc_field / agg_total.astype(float), width=width, \n",
    "            bottom=(agg_pc+agg_pc_part) / agg_total.astype(float), label='protocuster \\n + field',\n",
    "           alpha=0.8, color='lightcoral')\n",
    "\n",
    "    ax.bar(bins, (agg_total-agg_pc-agg_pc_part-agg_pc_field) / agg_total.astype(float), width=width, \n",
    "            bottom=(agg_pc+agg_pc_field+agg_pc_part)/agg_total.astype(float), color='aliceblue', label='field')\n",
    "    \n",
    "    ax.set_xlim(binLimits[0], binLimits[-1])\n"
   ]
  },
  {
   "cell_type": "code",
   "execution_count": 74,
   "metadata": {
    "collapsed": false
   },
   "outputs": [
    {
     "data": {
      "image/png": "[encoded data removed]",
      "text/plain": [
       "<matplotlib.figure.Figure at 0x7f8906dd6410>"
      ]
     },
     "metadata": {},
     "output_type": "display_data"
    }
   ],
   "source": [
    "fig = plt.figure(figsize=(5, 8))\n",
    "\n",
    "gs = gridspec.GridSpec(3, 2)\n",
    "\n",
    "gs.update(wspace=0.1, hspace=0.4) # bottom = 0.57, top = 1, , wspace=0\n",
    "\n",
    "ax1 = fig.add_subplot(gs[0,0])\n",
    "ax2 = fig.add_subplot(gs[1,0])\n",
    "ax3 = fig.add_subplot(gs[2,0])\n",
    "\n",
    "Ridx = 1\n",
    "zidx = 1\n",
    "\n",
    "# R plots\n",
    "for Ridx, R, ax in zip([0,1,2], [5,10,15], [ax1,ax2,ax3]):\n",
    "    plotit(ax, dgal_sfr_3p95_random, Ridx, zidx)\n",
    "    ax.text(0.05,1.05,'$R = %s, \\Delta d\\' = 20$'%R, transform=ax.transAxes)\n",
    "    \n",
    "\n",
    "\n",
    "ax4 = fig.add_subplot(gs[0,1])\n",
    "ax5 = fig.add_subplot(gs[2,1])\n",
    "\n",
    "Ridx = 1\n",
    "zidx = 1\n",
    "\n",
    "# dz plots\n",
    "for zidx, deltaz, ax in zip([0,2], [5,15], [ax4,ax5]):\n",
    "    plotit(ax, dgal_sfr_3p95_random, Ridx, zidx)\n",
    "    ax.text(0.05,1.05,'$R = 10, \\Delta d\\' = %s$'%(2*deltaz), transform=ax.transAxes)\n",
    "    ax.yaxis.tick_right()\n",
    "\n",
    "\n",
    "for ax in [ax3, ax5]:\n",
    "    ax.set_xlabel('$\\delta$', size=15)\n",
    "    \n",
    "legend = ax4.legend(bbox_to_anchor=(0.9, -0.4), ncol=1, prop={'size': 11}, labelspacing=1)\n",
    "legend.get_frame().set_facecolor('white')\n",
    "legend.get_frame().set_edgecolor('white')\n",
    "\n",
    "for patch in legend.get_patches():\n",
    "    patch.set_edgecolor('black')\n",
    "\n",
    "# ax5.text(0.2, -0.95, \n",
    "#          '$R = 10 \\, h^{-1} \\, \\mathrm{cMpc}, \\; \\Delta z = 10 \\, h^{-1} \\mathrm{cMpc}$',\n",
    "#          transform=ax5.transAxes, size=14)\n",
    "\n",
    "# ax5.text(0.2, -1.15, \n",
    "#          '$z = 3.95, \\; \\mathrm{SFR} / M_{\\odot} \\mathrm{yr^{-1}} > 1$',\n",
    "#          transform=ax5.transAxes, size=14)\n",
    "\n",
    "# plt.savefig('../papers/protoclusters/images/probabilities_A.png', bbox_inches='tight', dpi=300)"
   ]
  },
  {
   "cell_type": "code",
   "execution_count": null,
   "metadata": {
    "collapsed": false
   },
   "outputs": [],
   "source": []
  },
  {
   "cell_type": "code",
   "execution_count": 84,
   "metadata": {
    "collapsed": false
   },
   "outputs": [
    {
     "data": {
      "image/png": "[encoded data removed]",
      "text/plain": [
       "<matplotlib.figure.Figure at 0x7f8902acaa50>"
      ]
     },
     "metadata": {},
     "output_type": "display_data"
    }
   ],
   "source": [
    "fig = plt.figure(figsize=(5, 4.5))\n",
    "\n",
    "gs = gridspec.GridSpec(2, 2)\n",
    "\n",
    "gs.update(wspace=0.2) # bottom = 0.57, top = 1, , wspace=0\n",
    "\n",
    "ax1 = fig.add_subplot(gs[0,0])\n",
    "ax2 = fig.add_subplot(gs[1,0])\n",
    "\n",
    "Ridx = zidx = 0\n",
    "\n",
    "# redshift plots\n",
    "for select, z, ax in zip([dgal_sfr_2p07_random, dgal_sfr_5p92_random], [2.07,5.92], [ax1, ax2]):\n",
    "    ax.text(0.7,0.05,'$z = %s$'%z, transform=ax.transAxes)\n",
    "    plotit(ax, select, Ridx, zidx)\n",
    "    \n",
    "\n",
    "ax3 = fig.add_subplot(gs[0,1])\n",
    "ax4 = fig.add_subplot(gs[1,1])\n",
    "\n",
    "Ridx = zidx = 0\n",
    "\n",
    "# # selection plots\n",
    "# for select, sm, ax in zip([dgal_stellarMass_2p07_random, dgal_stellarMass10_2p07_random], [9,10], [ax3, ax4]):\n",
    "#     plotit(ax, select, Ridx, zidx)\n",
    "#     ax.text(0.3,0.05,'$\\mathrm{log_{10}}(M_{*} / M_{\\odot}) > %s$'%sm, transform=ax.transAxes)\n",
    "#     ax.yaxis.tick_right()\n",
    "    \n",
    "\n",
    "for ax in [ax2, ax4]:\n",
    "    ax.set_xlabel('$\\delta$', size=15)\n",
    "\n",
    "\n",
    "# plt.savefig('../papers/hightolowz/images/probabilities_B.png', bbox_inches='tight', dpi=300)"
   ]
  },
  {
   "cell_type": "code",
   "execution_count": 334,
   "metadata": {
    "collapsed": false,
    "scrolled": true
   },
   "outputs": [
    {
     "data": {
      "image/png": "[encoded data removed]",
      "text/plain": [
       "<matplotlib.figure.Figure at 0x7f38ee777a50>"
      ]
     },
     "metadata": {},
     "output_type": "display_data"
    }
   ],
   "source": [
    "fig = plt.figure(figsize=(5, 6.5))\n",
    "\n",
    "gs = gridspec.GridSpec(3, 2)\n",
    "\n",
    "gs.update(wspace=0.1) # bottom = 0.57, top = 1, , wspace=0\n",
    "\n",
    "ax1 = fig.add_subplot(gs[0,0])\n",
    "ax2 = fig.add_subplot(gs[1,0])\n",
    "\n",
    "Ridx = zidx = 1\n",
    "\n",
    "# clim plots\n",
    "for clim, ax in zip([0.15, 0.5], [ax1,ax2]):\n",
    "    plotit(ax, dgal_sfr_3p95_random, Ridx, zidx, clim=clim)\n",
    "    ax.text(0.65,0.2,'$C = %s$'%clim, transform=ax.transAxes)\n",
    "    ax.text(0.65,0.05,'$P = 0.3$', transform=ax.transAxes)\n",
    "    \n",
    "\n",
    "ax3 = fig.add_subplot(gs[0,1])\n",
    "ax4 = fig.add_subplot(gs[1,1])\n",
    "\n",
    "Ridx = zidx = 1\n",
    "\n",
    "# selection plots\n",
    "for plim, ax in zip([0.15, 0.5], [ax3, ax4]):\n",
    "    plotit(ax, dgal_sfr_3p95_random, Ridx, zidx, plim=plim)\n",
    "    ax.text(0.65,0.05,'$P = %s$'%plim, transform=ax.transAxes)\n",
    "    ax.text(0.65,0.2,'$C = 0.3$', transform=ax.transAxes)\n",
    "    ax.yaxis.tick_right()\n",
    "    \n",
    "\n",
    "ax5 = fig.add_subplot(gs[2,0])\n",
    "ax6 = fig.add_subplot(gs[2,1])\n",
    "\n",
    "Ridx = zidx = 1\n",
    "\n",
    "for plim, clim, ax in zip([0.15, 0.5], [0.15, 0.5], [ax5, ax6]):\n",
    "    plotit(ax, dgal_sfr_3p95_random, Ridx, zidx, plim=plim, clim=clim)\n",
    "    ax.text(0.65,0.05,'$P = %s$'%plim, transform=ax.transAxes)\n",
    "    ax.text(0.65,0.2,'$C = %s$'%clim, transform=ax.transAxes)\n",
    "    ax.yaxis.tick_right()\n",
    "    \n",
    "    \n",
    "for ax in [ax2, ax4]:\n",
    "    ax.set_xlabel('$\\delta$', size=15)\n",
    "\n",
    "\n",
    "# plt.savefig('../papers/hightolowz/images/probabilities_C.png', bbox_inches='tight', dpi=300)"
   ]
  },
  {
   "cell_type": "code",
   "execution_count": null,
   "metadata": {
    "collapsed": true
   },
   "outputs": [],
   "source": []
  }
 ],
 "metadata": {
  "kernelspec": {
   "display_name": "Python [cosmo]",
   "language": "python",
   "name": "Python [cosmo]"
  },
  "language_info": {
   "codemirror_mode": {
    "name": "ipython",
    "version": 2
   },
   "file_extension": ".py",
   "mimetype": "text/x-python",
   "name": "python",
   "nbconvert_exporter": "python",
   "pygments_lexer": "ipython2",
   "version": "2.7.12"
  }
 },
 "nbformat": 4,
 "nbformat_minor": 0
}
