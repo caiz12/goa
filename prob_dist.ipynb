{
 "cells": [
  {
   "cell_type": "code",
   "execution_count": 3,
   "metadata": {
    "collapsed": false
   },
   "outputs": [],
   "source": [
    "%matplotlib inline\n",
    "import matplotlib.pyplot as plt\n",
    "import matplotlib.gridspec as gridspec\n",
    "import matplotlib.cm as cm\n",
    "import matplotlib.patches as mpatches\n",
    "\n",
    "from palettable.tableau import GreenOrange_12\n",
    "cmap = GreenOrange_12.hex_colors\n",
    "\n",
    "from matplotlib import rc\n",
    "rc('font',**{'family':'sans-serif','sans-serif':['Helvetica']})\n",
    "## for Palatino and other serif fonts use:\n",
    "#rc('font',**{'family':'serif','serif':['Palatino']})\n",
    "rc('text', usetex=True)\n",
    "\n",
    "from collections import Counter\n",
    "\n",
    "from mpl_toolkits.mplot3d import Axes3D"
   ]
  },
  {
   "cell_type": "code",
   "execution_count": 4,
   "metadata": {
    "collapsed": true
   },
   "outputs": [],
   "source": [
    "import hightolowz"
   ]
  },
  {
   "cell_type": "code",
   "execution_count": 5,
   "metadata": {
    "collapsed": false
   },
   "outputs": [],
   "source": [
    "import sys\n",
    "\n",
    "import pandas as pd\n",
    "import numpy as np\n",
    "\n",
    "from collections import Counter\n",
    "\n",
    "# https://github.com/patvarilly/periodic_kdtree\n",
    "from periodic_kdtree import PeriodicCKDTree"
   ]
  },
  {
   "cell_type": "code",
   "execution_count": 6,
   "metadata": {
    "collapsed": true
   },
   "outputs": [],
   "source": [
    "import pickle as pcl"
   ]
  },
  {
   "cell_type": "code",
   "execution_count": 18,
   "metadata": {
    "collapsed": true
   },
   "outputs": [],
   "source": [
    "directory = 'data/dgal/'\n",
    "out_directory ='../papers/protoclusters/images/'\n",
    "\n",
    "# directory = '/lustre/scratch/astro/cl478/protoclusters_data/'\n",
    "# out_directory ='../'"
   ]
  },
  {
   "cell_type": "code",
   "execution_count": 12,
   "metadata": {
    "collapsed": true
   },
   "outputs": [],
   "source": [
    "# gals = pd.read_csv('data/r200/henriques2015a_z6p97_stellarMass_r200.csv', skiprows=122, skipfooter=1, engine='python')"
   ]
  },
  {
   "cell_type": "code",
   "execution_count": 13,
   "metadata": {
    "collapsed": false
   },
   "outputs": [],
   "source": [
    "dgal_sfr_2p07_r7_random = pcl.load(open(directory+'dgal_sfr_z2p07_r7p0_random.pcl','rb'))\n",
    "dgal_sfr_3p10_r7_random = pcl.load(open(directory+'dgal_sfr_z3p10_r7p0_random.pcl','rb'))\n",
    "dgal_sfr_5p92_r7_random = pcl.load(open(directory+'dgal_sfr_z5p92_r7p0_random.pcl','rb'))"
   ]
  },
  {
   "cell_type": "code",
   "execution_count": 14,
   "metadata": {
    "collapsed": false
   },
   "outputs": [],
   "source": [
    "dgal_sfr_3p95_r4_random = pcl.load(open(directory+'dgal_sfr_z3p95_r4p0_random.pcl','rb'))\n",
    "dgal_sfr_3p95_r7_random = pcl.load(open(directory+'dgal_sfr_z3p95_r7p0_random.pcl','rb'))\n",
    "dgal_sfr_3p95_r10_random = pcl.load(open(directory+'dgal_sfr_z3p95_r10p0_random.pcl','rb'))"
   ]
  },
  {
   "cell_type": "code",
   "execution_count": 15,
   "metadata": {
    "collapsed": false
   },
   "outputs": [],
   "source": [
    "dgal_stellarMass_3p95__r7_random = pcl.load(open(directory+'dgal_stellarMass_z3p95_r7p0_random.pcl','rb'))\n",
    "dgal_stellarMass10_3p95_r7_random = pcl.load(open(directory+'dgal_stellarMass10_z3p95_r7p0_random.pcl','rb'))"
   ]
  },
  {
   "cell_type": "code",
   "execution_count": 16,
   "metadata": {
    "collapsed": false
   },
   "outputs": [
    {
     "name": "stdout",
     "output_type": "stream",
     "text": [
      "(1, 3, 200000, 4)\n",
      "(1, 3, 200000, 4)\n",
      "(1, 3, 200000, 4)\n",
      "(1, 3, 200000, 4)\n",
      "(1, 3, 200000, 4)\n",
      "(1, 3, 200000, 4)\n",
      "(1, 3, 200000, 4)\n",
      "(1, 3, 200000, 4)\n"
     ]
    }
   ],
   "source": [
    "print dgal_sfr_2p07_r7_random.shape\n",
    "print dgal_sfr_3p10_r7_random.shape\n",
    "print dgal_sfr_5p92_r7_random.shape\n",
    "print dgal_sfr_3p95_r4_random.shape\n",
    "print dgal_sfr_3p95_r7_random.shape\n",
    "print dgal_sfr_3p95_r10_random.shape\n",
    "print dgal_stellarMass_3p95__r7_random.shape\n",
    "print dgal_stellarMass10_3p95_r7_random.shape"
   ]
  },
  {
   "cell_type": "code",
   "execution_count": 152,
   "metadata": {
    "collapsed": false
   },
   "outputs": [],
   "source": [
    "def plotit(ax, selection, rid, zid, axb=None, clim = 0.5, plim = 0.5, N = 12, noplot=False):\n",
    "    \n",
    "    colors = ['dimgrey','lightseagreen','lightcoral', 'y']\n",
    "    \n",
    "    dgal = selection[rid,zid,:,0] + 1\n",
    "    completeness = selection[rid,zid,:,1]\n",
    "    purity = selection[rid,zid,:,2]\n",
    "    mass = selection[rid,zid,:,3]\n",
    "\n",
    "    # initialise empty label array\n",
    "    label = np.zeros(selection.shape[2])    \n",
    "    \n",
    "    labels = [0,11,12,21,22,31,32]\n",
    "    \n",
    "    mlim = 5e4\n",
    "\n",
    "    # assign labels. split by configuration and descendant mass\n",
    "    label[(completeness >= clim) & (purity >= plim) & (mass < mlim)] = labels[1]   # protocluster, M < M_lim\n",
    "    label[(completeness >= clim) & (purity >= plim) & (mass >= mlim)] = labels[2]  # protocluster, M >= M_lim\n",
    "    label[(completeness < clim) & (purity >= plim) & (mass >= mlim)] = labels[3]   # part protocluster, M < M_lim\n",
    "    label[(completeness < clim) & (purity >= plim) & (mass >= mlim)] = labels[4]   # part protocluster, M >= M_lim\n",
    "    label[(completeness >= clim) & (purity < plim) & (mass < mlim)] = labels[5]    # protocluster+field, M < M_lim\n",
    "    label[(completeness >= clim) & (purity < plim) & (mass >= mlim)] = labels[6]   # protocluster+field, M >= M_lim\n",
    "    label[(completeness < clim) & (purity < plim)] = labels[0]     # field\n",
    "    \n",
    "    # initialise bins and limits\n",
    "    binLimits = np.linspace(0, int(np.max(dgal)+1), N)\n",
    "\n",
    "    lower_bin = binLimits[1] + (binLimits[0]-binLimits[1])/2. \n",
    "    upper_bin = binLimits[-1] + (binLimits[0]-binLimits[1])/2.\n",
    "\n",
    "    bins = np.linspace(lower_bin, upper_bin, N-1)\n",
    "    \n",
    "    # save counts for each label\n",
    "    agg = [[] for x in labels]\n",
    "    \n",
    "    # agg[0] = np.histogram(dgal, binLimits)[0]    # total count\n",
    "    \n",
    "    for i, x in enumerate(labels):\n",
    "        agg[i] = np.histogram(dgal[label==x], binLimits)[0]\n",
    "    \n",
    "    agg_total = np.sum(agg,axis=0).astype(float)\n",
    "    \n",
    "    # truncate range to where there are at least a couple of samples\n",
    "    n_limit = 1\n",
    "    if (np.sum(agg_total < n_limit) > 0):\n",
    "        \n",
    "        mask = range(0,np.min(np.where(np.sum(agg,axis=0) < n_limit)))\n",
    "        \n",
    "        bins = bins[mask]\n",
    "        binLimits = binLimits[range(0, np.max(mask)+2)]\n",
    "        agg_total = agg_total[mask]\n",
    "    \n",
    "        for i in range(len(labels)):\n",
    "            agg[i] = agg[i][mask]\n",
    "        \n",
    "\n",
    "    \n",
    "    # probability density function\n",
    "    if axb != None:\n",
    "        \n",
    "        phiMax = 0.\n",
    "        \n",
    "        mask = (label==11) | (label==12) | (label==21) | (label==22)\n",
    "        phiA = np.histogram(dgal[mask], binLimits, normed=True)[0]\n",
    "\n",
    "        mask = (label==0)\n",
    "        phiB = np.histogram(dgal[mask], binLimits, normed=True)[0]\n",
    "        \n",
    "        phiMax = np.max(phiA)\n",
    "        \n",
    "        DB, BC = hightolowz.bhattacharyya(phiA*np.diff(binLimits), phiB*np.diff(binLimits))\n",
    "        # DB, BC = hightolowz.bhattacharyya(phiA, phiB)\n",
    "        \n",
    "        mask = (label==12) | (label==22)\n",
    "        phiC = np.histogram(dgal[mask], binLimits, normed=True)[0]\n",
    "        \n",
    "        DB_himass, BC_himass = hightolowz.bhattacharyya(phiC*np.diff(binLimits), phiB*np.diff(binLimits))\n",
    "\n",
    "        if noplot:\n",
    "            return round(DB, 2), round(DB_himass, 2)\n",
    "            exit\n",
    "        \n",
    "        #axb.text(0.6,0.8, '$D_{B} = %s$'%round(DB, 3), transform=axb.transAxes)\n",
    "\n",
    "        # axb.step(bins, phiA, color=colors[1], linestyle='dashed')\n",
    "        axb.step(bins, phiB, color=colors[0], linestyle='solid', linewidth=3)\n",
    "        \n",
    "        mask = (label==11)\n",
    "        if np.sum(mask) > 5:\n",
    "            phi = np.histogram(dgal[mask], binLimits, normed=True)[0]\n",
    "            axb.step(bins, phi, color=colors[1], linestyle='solid')\n",
    "            phiMax = np.max([phiMax, np.max(phi)])\n",
    "        \n",
    "        mask = (label==12)\n",
    "        if np.sum(mask) > 5:\n",
    "            phi = np.histogram(dgal[mask], binLimits, normed=True)[0]\n",
    "            axb.step(bins, phi, color=colors[1], linestyle='dashed')\n",
    "            phiMax = np.max([phiMax, np.max(phi)])\n",
    "        \n",
    "        mask = (label==21)\n",
    "        if np.sum(mask) > 5:\n",
    "            phi = np.histogram(dgal[mask], binLimits, normed=True)[0]\n",
    "            axb.step(bins, phi, color=colors[3], linestyle='solid')\n",
    "            phiMax = np.max([phiMax, np.max(phi)])\n",
    "        \n",
    "        mask = (label==22)\n",
    "        if np.sum(mask) > 5:\n",
    "            phi = np.histogram(dgal[mask], binLimits, normed=True)[0]\n",
    "            axb.step(bins, phi, color=colors[3], linestyle='dashed')\n",
    "            phiMax = np.max([phiMax, np.max(phi)])\n",
    "            \n",
    "            \n",
    "        axb.step(bins, phiA, color=colors[1], linestyle='solid', linewidth=3)\n",
    "        axb.step(bins, phiA, color=colors[3], linestyle='dotted', linewidth=3)\n",
    "        \n",
    "        axb.set_ylim(0, phiMax + 0.1)\n",
    "    \n",
    "\n",
    "    width = binLimits[2] - binLimits[1]\n",
    "    \n",
    "    plt.rcParams['hatch.color'] = 'black'\n",
    "    plt.rcParams['hatch.linewidth'] = 0.5\n",
    "    \n",
    "    ax.bar(bins, agg[1] / agg_total, width=width, \n",
    "           label='protocluster ($M<M_{lim}$)', alpha=0.6, color=colors[1])\n",
    "    \n",
    "    bar = ax.bar(bins, agg[2] / agg_total, width=width, bottom=agg[1] / agg_total,  \n",
    "           label='protocluster ($M>M_{lim}$)', alpha=0.8, color=colors[1], hatch='///')\n",
    "\n",
    "    ax.bar(bins, agg[3] / agg_total, width=width, bottom=np.sum(agg[1:3],axis=0) / agg_total, \n",
    "           label='part of a \\n protocluster', alpha=0.6, color=colors[3]) \n",
    "    \n",
    "    ax.bar(bins, agg[4] / agg_total, width=width, bottom=np.sum(agg[1:4],axis=0) / agg_total,\n",
    "           label='part of a \\n protocluster', alpha=0.8, color=colors[3], hatch='///') \n",
    "\n",
    "    ax.bar(bins, agg[5] / agg_total, width=width, bottom= np.sum(agg[1:5],axis=0) / agg_total,\n",
    "           label='protocluster \\n + field', alpha=0.6, color=colors[2])\n",
    "    \n",
    "    ax.bar(bins, agg[6] / agg_total, width=width, bottom= np.sum(agg[1:6],axis=0) / agg_total,\n",
    "           label='protocluster \\n + field', alpha=0.8, color=colors[2], hatch='///')\n",
    "\n",
    "    ax.bar(bins, agg[0] / agg_total, width=width, \n",
    "           bottom= np.sum(agg[1:],axis=0) / agg_total, color=colors[0], \n",
    "           label='field', alpha=0.2)\n",
    "    \n",
    "    ax.set_xlim(binLimits[0], binLimits[-1])\n",
    "    axb.set_xlim(binLimits[0], binLimits[-1])\n"
   ]
  },
  {
   "cell_type": "code",
   "execution_count": null,
   "metadata": {
    "collapsed": true
   },
   "outputs": [],
   "source": []
  },
  {
   "cell_type": "code",
   "execution_count": 153,
   "metadata": {
    "collapsed": false
   },
   "outputs": [
    {
     "name": "stdout",
     "output_type": "stream",
     "text": [
      "(0.94, 0.52)\n",
      "(0.8, 0.89)\n",
      "(0.51, 0.71) \n",
      "\n",
      "(0.84, 0.7)\n",
      "(0.68, 0.69) \n",
      "\n",
      "(0.73, 0.69)\n",
      "(0.82, 0.75) \n",
      "\n",
      "(0.72, 0.55)\n",
      "(0.3, 0.38) \n",
      "\n"
     ]
    }
   ],
   "source": [
    "N = 18\n",
    "\n",
    "print plotit(1, dgal_sfr_3p95_r4_random, 0, 0, axb=1, N=N, clim=0.3, plim=0.7, noplot=True)\n",
    "print plotit(1, dgal_sfr_3p95_r7_random, 0, 1, axb=1, N=N, clim=0.6, plim=0.6, noplot=True)\n",
    "print plotit(1, dgal_sfr_3p95_r10_random, 0, 2, axb=1, N=N, clim=0.7, plim=0.3, noplot=True), \"\\n\"\n",
    "\n",
    "print plotit(1, dgal_sfr_3p95_r4_random, 0, 2, axb=1, N=N, clim=0.4, plim=0.7, noplot=True)\n",
    "print plotit(1, dgal_sfr_3p95_r7_random, 0, 2, axb=1, N=N, clim=0.7, plim=0.45, noplot=True), \"\\n\"\n",
    "\n",
    "print plotit(1, dgal_sfr_3p10_r7_random, 0, 1, axb=1, N=N, clim=0.7, plim=0.5, noplot=True)\n",
    "print plotit(1, dgal_sfr_5p92_r7_random, 0, 1, axb=1, N=N, clim=0.6, plim=0.6, noplot=True), \"\\n\"\n",
    "\n",
    "print plotit(1, dgal_stellarMass_3p95__r7_random, 0, 1, axb=1, N=N, clim=0.7, plim=0.6, noplot=True)\n",
    "print plotit(1, dgal_stellarMass10_3p95_r7_random, 0, 1, axb=1, N=N, clim=0.7, plim=0.7, noplot=True), \"\\n\""
   ]
  },
  {
   "cell_type": "code",
   "execution_count": null,
   "metadata": {
    "collapsed": true
   },
   "outputs": [],
   "source": []
  },
  {
   "cell_type": "code",
   "execution_count": 90,
   "metadata": {
    "collapsed": false
   },
   "outputs": [
    {
     "data": {
      "image/png": "[encoded data removed]",
      "text/plain": [
       "<matplotlib.figure.Figure at 0x7fe6fa63c3d0>"
      ]
     },
     "metadata": {},
     "output_type": "display_data"
    }
   ],
   "source": [
    "fig, ax = plt.subplots(2,1, figsize=(3,5))\n",
    "\n",
    "plotit(ax[0], dgal_sfr_2p07_r7_random, 0, 1, axb=ax[1], N=18, clim=0.5, plim=0.5)"
   ]
  },
  {
   "cell_type": "code",
   "execution_count": null,
   "metadata": {
    "collapsed": true
   },
   "outputs": [],
   "source": []
  },
  {
   "cell_type": "code",
   "execution_count": 91,
   "metadata": {
    "collapsed": false
   },
   "outputs": [
    {
     "data": {
      "image/png": "[encoded data removed]",
      "text/plain": [
       "<matplotlib.figure.Figure at 0x7fe6fa8049d0>"
      ]
     },
     "metadata": {},
     "output_type": "display_data"
    }
   ],
   "source": [
    "fig, ax = plt.subplots(2,1, figsize=(3,5))\n",
    "\n",
    "plotit(ax[0], dgal_sfr_3p95_r7_random, 0, 1, axb=ax[1], N=18, clim=0.5, plim=0.5)"
   ]
  },
  {
   "cell_type": "code",
   "execution_count": null,
   "metadata": {
    "collapsed": true
   },
   "outputs": [],
   "source": []
  },
  {
   "cell_type": "code",
   "execution_count": 142,
   "metadata": {
    "collapsed": false
   },
   "outputs": [
    {
     "data": {
      "image/png": "[encoded data removed]",
      "text/plain": [
       "<matplotlib.figure.Figure at 0x7fe6fb9a0190>"
      ]
     },
     "metadata": {},
     "output_type": "display_data"
    }
   ],
   "source": [
    "fig = plt.figure(figsize=(9, 13))\n",
    "\n",
    "gs1 = gridspec.GridSpec(18, 3)\n",
    "gs1.update(wspace=0.1, hspace=0)\n",
    "\n",
    "ax1 = fig.add_subplot(gs1[0:3,0])\n",
    "ax1b = fig.add_subplot(gs1[3:5,0])\n",
    "\n",
    "ax4 = fig.add_subplot(gs1[0:3,1])\n",
    "ax4b = fig.add_subplot(gs1[3:5,1])\n",
    "\n",
    "ax2 = fig.add_subplot(gs1[0:3,2])\n",
    "ax2b = fig.add_subplot(gs1[3:5,2])\n",
    "\n",
    "# gs2 = gridspec.GridSpec(18, 2)\n",
    "# gs2.update(wspace=0.1, hspace=0)\n",
    "\n",
    "N = 19\n",
    "\n",
    "Ridx = zidx = 1\n",
    "\n",
    "plotit(ax4, dgal_sfr_3p95_r7_random, 0, 1, axb=ax4b, N=N, clim=0.6, plim=0.6)\n",
    "ax4.text(0.05,1.05,'$R = 7, D = 14 \\, (h^{-1} \\; \\mathrm{cMpc})$', transform=ax4.transAxes)\n",
    "\n",
    "plotit(ax1, dgal_sfr_3p95_r4_random, 0, 0, axb=ax1b, N=N, clim=0.3, plim=0.7)\n",
    "ax1.text(0.05,1.05,'$R = 4, D = 8 \\, (h^{-1} \\; \\mathrm{cMpc})$', transform=ax1.transAxes)\n",
    "\n",
    "plotit(ax2, dgal_sfr_3p95_r10_random, 0, 2, axb=ax2b, N=N, clim=0.7, plim=0.3)\n",
    "ax2.text(0.05,1.05,'$R = 10, D = 20 \\, (h^{-1} \\; \\mathrm{cMpc})$', transform=ax2.transAxes)\n",
    "\n",
    "ax2.yaxis.tick_right()\n",
    "ax2b.yaxis.tick_right()\n",
    "\n",
    "\n",
    "ax4.set_yticks([])\n",
    "for ax in ([ax1b,ax2b,ax4b]):\n",
    "    ax.set_yticks([])\n",
    "    ax.set_xlabel('$\\delta_{gal} + 1$', size=15)\n",
    "\n",
    "# Legend\n",
    "pat1 = mpatches.Patch(color='lightgrey',label='Field')\n",
    "pat2 = mpatches.Patch(color='lightseagreen',label='Proto')\n",
    "pat3 = mpatches.Patch(color='lightcoral',label='ProtoField')\n",
    "pat4 = mpatches.Patch(color='y',label='PartProto')\n",
    "patM1 = mpatches.Patch(color='white', hatch='///',label='$M_{200} / M_{\\odot}$ \\n $\\geq 5 \\\\times 10^{14}$')\n",
    "patM2 = mpatches.Patch(color='white', hatch='',label='$M_{200} / M_{\\odot}$ \\n $< 5 \\\\times 10^{14}$')\n",
    "colors = ['dimgrey','lightseagreen','lightcoral', 'y']\n",
    "    \n",
    "legend = ax2.legend(handles = [pat1,pat2,patM1,pat3,pat4,patM2], bbox_to_anchor=(1.3, 1.05),\n",
    "                    ncol=2, prop={'size': 12}, labelspacing=0.9)\n",
    "\n",
    "legend.get_frame().set_facecolor('white')\n",
    "legend.get_frame().set_edgecolor('white')\n",
    "\n",
    "for patch in legend.get_patches():\n",
    "    patch.set_edgecolor('black')\n",
    "\n",
    "# Legend\n",
    "\n",
    "line_field = plt.Line2D((0,1.5),(0,0), color='dimgrey', linestyle='solid', linewidth=1)\n",
    "line_proto1 = plt.Line2D((0,1.5),(0,0), color='lightseagreen', linestyle='solid', linewidth=1)\n",
    "line_proto2= plt.Line2D((0,1.5),(0,0), color='lightseagreen', linestyle='dashed', linewidth=1)\n",
    "line_part = plt.Line2D((0,1.5),(0,0), color='y', linestyle='dashed', linewidth=1)\n",
    "\n",
    "line_comb1 = plt.Line2D((0,1.5),(0,0), color='lightseagreen', linestyle='solid', linewidth=3)\n",
    "line_comb2 = plt.Line2D((0,1.5),(0,0), color='y', linestyle='dashed', linewidth=3)\n",
    "\n",
    "legend = ax2b.legend(handles = [line_field,line_proto1,line_proto2,(line_comb1, line_comb2),line_part],\n",
    "                     labels=['Field','Proto \\n $M_{200} / M_{\\odot}$\\n$< 5 \\\\times 10^{14}$',\n",
    "                             'Proto \\n$M_{200} / M_{\\odot}$\\n$\\geq 5 \\\\times 10^{14}$',\n",
    "                              'Proto + \\n PartProto',\n",
    "                            'PartProto \\n$M_{200} / M_{\\odot}$\\n$\\geq 5 \\\\times 10^{14}$)'],\n",
    "                     bbox_to_anchor=(1.3, 1.4), ncol=2, prop={'size': 12}, labelspacing=1.0)\n",
    "\n",
    "legend.get_frame().set_facecolor('white')\n",
    "legend.get_frame().set_edgecolor('white')\n",
    "\n",
    "\n",
    "# plt.savefig(out_directory+'probabilities_A.png', bbox_inches='tight', dpi=300)"
   ]
  },
  {
   "cell_type": "code",
   "execution_count": null,
   "metadata": {
    "collapsed": true
   },
   "outputs": [],
   "source": []
  },
  {
   "cell_type": "code",
   "execution_count": 122,
   "metadata": {
    "collapsed": false
   },
   "outputs": [
    {
     "data": {
      "image/png": "[encoded data removed]",
      "text/plain": [
       "<matplotlib.figure.Figure at 0x7fe6faa0b190>"
      ]
     },
     "metadata": {},
     "output_type": "display_data"
    }
   ],
   "source": [
    "fig = plt.figure(figsize=(5, 12))\n",
    "\n",
    "gs = gridspec.GridSpec(19, 2)\n",
    "gs.update(wspace=0.1, hspace=0)\n",
    "\n",
    "ax1 = fig.add_subplot(gs[0:3,0])\n",
    "ax1b = fig.add_subplot(gs[3:5,0])\n",
    "\n",
    "ax2 = fig.add_subplot(gs[0:3,1])\n",
    "ax2b = fig.add_subplot(gs[3:5,1])\n",
    "\n",
    "ax3 = fig.add_subplot(gs[7:10,0])\n",
    "ax3b = fig.add_subplot(gs[10:12,0])\n",
    "\n",
    "ax4 = fig.add_subplot(gs[7:10,1])\n",
    "ax4b = fig.add_subplot(gs[10:12,1])\n",
    "\n",
    "ax5 = fig.add_subplot(gs[14:17,0])\n",
    "ax5b = fig.add_subplot(gs[17:19,0])\n",
    "\n",
    "ax6 = fig.add_subplot(gs[14:17,1])\n",
    "ax6b = fig.add_subplot(gs[17:19,1])\n",
    "\n",
    "N = 19\n",
    "\n",
    "Ridx = zidx = 1\n",
    "\n",
    "plotit(ax1, dgal_sfr_3p95_r4_random, 0, 2, axb=ax1b, N=N, clim=0.4, plim=0.7)\n",
    "ax1.text(0.05,1.05,'$R = 4, D = 20 \\, (h^{-1} \\; \\mathrm{cMpc})$', transform=ax1.transAxes, size=10)\n",
    "\n",
    "plotit(ax2, dgal_sfr_3p95_r7_random, 0, 2, axb=ax2b, N=N, clim=0.7, plim=0.45)\n",
    "ax2.text(0.05,1.05,'$R = 7,  D = 20\\, (h^{-1} \\; \\mathrm{cMpc})$', transform=ax2.transAxes, size=10)\n",
    "\n",
    "plotit(ax3, dgal_sfr_3p10_r7_random, 0, 1, clim=0.7, plim=0.5, N=N, axb = ax3b)\n",
    "ax3.text(0.05,1.05,'$z = 3.10$', transform=ax3.transAxes, size=12)\n",
    "\n",
    "plotit(ax4, dgal_sfr_5p92_r7_random, 0, 1, clim=0.6, plim=0.6, N=N, axb = ax4b)\n",
    "ax4.text(0.05,1.05,'$z = 5.92$', transform=ax4.transAxes, size=12)\n",
    "\n",
    "plotit(ax5, dgal_stellarMass_3p95__r7_random, 0, 1, N=N, clim=0.7, plim=0.6, axb=ax5b)\n",
    "ax5.text(0.05,1.05,'$\\mathrm{S}_9$', transform=ax5.transAxes, size=12)\n",
    "\n",
    "plotit(ax6, dgal_stellarMass10_3p95_r7_random, 0, 1, N=N, clim=0.7, plim=0.7, axb=ax6b)\n",
    "ax6.text(0.05,1.05,'$\\mathrm{S}_{10}$', transform=ax6.transAxes, size=12)\n",
    "\n",
    "\n",
    "for ax in [ax2,ax4,ax6]:\n",
    "    ax.yaxis.tick_right()\n",
    "    \n",
    "for ax in [ax1b,ax2b,ax3b,ax4b,ax5b,ax6b]:\n",
    "    ax.set_yticks([])\n",
    "    ax.set_xlabel('$\\delta_{gal} + 1$', size=15)\n",
    "\n",
    "for ax in [ax1,ax2,ax3,ax4,ax5,ax6]:\n",
    "    ax.set_xticklabels([])\n",
    "\n",
    "\n",
    "# plt.savefig(out_directory+'probabilities_depth.png', bbox_inches='tight', dpi=300)"
   ]
  },
  {
   "cell_type": "code",
   "execution_count": null,
   "metadata": {
    "collapsed": false
   },
   "outputs": [],
   "source": []
  },
  {
   "cell_type": "code",
   "execution_count": null,
   "metadata": {
    "collapsed": true
   },
   "outputs": [],
   "source": []
  },
  {
   "cell_type": "code",
   "execution_count": 38,
   "metadata": {
    "collapsed": false
   },
   "outputs": [
    {
     "data": {
      "image/png": "[encoded data removed]",
      "text/plain": [
       "<matplotlib.figure.Figure at 0x8f1bed0>"
      ]
     },
     "metadata": {},
     "output_type": "display_data"
    }
   ],
   "source": [
    "fig = plt.figure(figsize=(5, 11))\n",
    "\n",
    "gs = gridspec.GridSpec(18, 2)\n",
    "\n",
    "gs.update(wspace=0.1, hspace=0) # bottom = 0.57, top = 1, , wspace=0\n",
    "\n",
    "ax1 = fig.add_subplot(gs[0:3,0])\n",
    "ax1b = fig.add_subplot(gs[3:5,0])\n",
    "\n",
    "ax2 = fig.add_subplot(gs[7:10,0])\n",
    "ax2b = fig.add_subplot(gs[10:12,0])\n",
    "\n",
    "\n",
    "N = 19\n",
    "\n",
    "ax1.text(0.05,1.05,'$z = 3.10$', transform=ax1.transAxes)\n",
    "plotit(ax1, dgal_sfr_3p10_r7_random, 0, 1, clim=0.7, plim=0.5, N=N, axb = ax1b)\n",
    "\n",
    "ax2.text(0.05,1.05,'$z = 5.92$', transform=ax2.transAxes)\n",
    "plotit(ax2, dgal_sfr_5p92_r7_random, 0, 1, clim=0.6, plim=0.6, N=N, axb = ax2b)\n",
    "\n",
    "\n",
    "ax3 = fig.add_subplot(gs[0:3,1])\n",
    "ax3b = fig.add_subplot(gs[3:5,1])\n",
    "\n",
    "ax4 = fig.add_subplot(gs[7:10,1])\n",
    "ax4b = fig.add_subplot(gs[10:12,1])\n",
    "\n",
    "plotit(ax3, dgal_stellarMass_3p95__r7_random, 0, 1, N=N, clim=0.7, plim=0.6, axb=ax3b)\n",
    "ax3.text(0.05,1.05,'$\\mathrm{S}_9$', transform=ax3.transAxes)\n",
    "\n",
    "plotit(ax4, dgal_stellarMass10_3p95_r7_random, 0, 1, N=N, clim=0.7, plim=0.7, axb=ax4b)\n",
    "ax4.text(0.05,1.05,'$\\mathrm{S}_{10}$', transform=ax4.transAxes)\n",
    "\n",
    "\n",
    "for ax in [ax3,ax4,ax3b,ax4b]:\n",
    "    ax.yaxis.tick_right()\n",
    "\n",
    "\n",
    "for ax in [ax2b, ax4b]:\n",
    "    ax.set_xlabel('$\\delta$', size=15)\n",
    "\n",
    "\n",
    "# plt.savefig(out_directory+'probabilities_B_modified.png', bbox_inches='tight', dpi=300)"
   ]
  },
  {
   "cell_type": "code",
   "execution_count": null,
   "metadata": {
    "collapsed": true
   },
   "outputs": [],
   "source": []
  },
  {
   "cell_type": "code",
   "execution_count": 41,
   "metadata": {
    "collapsed": false,
    "scrolled": false
   },
   "outputs": [
    {
     "data": {
      "image/png": "[encoded data removed]",
      "text/plain": [
       "<matplotlib.figure.Figure at 0xb0a4e90>"
      ]
     },
     "metadata": {},
     "output_type": "display_data"
    }
   ],
   "source": [
    "fig = plt.figure(figsize=(5, 8))\n",
    "\n",
    "gs = gridspec.GridSpec(3, 2)\n",
    "gs.update(wspace=0.1, hspace=0.4) # bottom = 0.57, top = 1, , wspace=0\n",
    "\n",
    "ax1 = fig.add_subplot(gs[0,0])\n",
    "ax2 = fig.add_subplot(gs[1,0])\n",
    "\n",
    "N = 19\n",
    "\n",
    "\n",
    "# clim plots\n",
    "for clim, ax in zip([0.3, 0.7], [ax1,ax2]):\n",
    "    plotit(ax, dgal_sfr_3p95_r7_random, 0, 1, clim=clim, N=N)\n",
    "    ax.text(0.05,1.05,'$P = 0.5$, $C = %s$'%clim, transform=ax.transAxes)\n",
    "    \n",
    "\n",
    "ax3 = fig.add_subplot(gs[0,1])\n",
    "ax4 = fig.add_subplot(gs[1,1])\n",
    "\n",
    "\n",
    "# selection plots\n",
    "for plim, ax in zip([0.3, 0.7], [ax3, ax4]):\n",
    "    plotit(ax, dgal_sfr_3p95_r7_random, 0, 1, plim=plim, N=N)\n",
    "    ax.text(0.05,1.05,'$P = %s$, $C = 0.5$'%plim, transform=ax.transAxes)\n",
    "    ax.yaxis.tick_right()\n",
    "    \n",
    "\n",
    "ax5 = fig.add_subplot(gs[2,0])\n",
    "ax6 = fig.add_subplot(gs[2,1])\n",
    "\n",
    "for plim, clim, ax in zip([0.25, 0.7], [0.25, 0.7], [ax5, ax6]):\n",
    "    plotit(ax, dgal_sfr_3p95_r7_random, 0, 1, plim=plim, clim=clim, N=N)\n",
    "    ax.text(0.05,1.05,'$P = %s$, $C = %s$'%(plim, clim), transform=ax.transAxes)\n",
    "    \n",
    "\n",
    "ax6.yaxis.tick_right()    \n",
    "    \n",
    "for ax in [ax5, ax6]:\n",
    "    ax.set_xlabel('$\\delta$', size=15)\n",
    "\n",
    "\n",
    "# plt.savefig(out_directory+'probabilities_C.png', bbox_inches='tight', dpi=300)"
   ]
  },
  {
   "cell_type": "markdown",
   "metadata": {
    "collapsed": true
   },
   "source": [
    "## DEPRECATED"
   ]
  },
  {
   "cell_type": "code",
   "execution_count": 48,
   "metadata": {
    "collapsed": false
   },
   "outputs": [
    {
     "ename": "NameError",
     "evalue": "name 'dgal_sfr_3p95_random' is not defined",
     "output_type": "error",
     "traceback": [
      "\u001b[1;31m---------------------------------------------------------------------------\u001b[0m",
      "\u001b[1;31mNameError\u001b[0m                                 Traceback (most recent call last)",
      "\u001b[1;32m<ipython-input-48-8b8de61cb9f6>\u001b[0m in \u001b[0;36m<module>\u001b[1;34m()\u001b[0m\n\u001b[0;32m     32\u001b[0m \u001b[1;31m# R plots\u001b[0m\u001b[1;33m\u001b[0m\u001b[1;33m\u001b[0m\u001b[0m\n\u001b[0;32m     33\u001b[0m \u001b[1;32mfor\u001b[0m \u001b[0mRidx\u001b[0m\u001b[1;33m,\u001b[0m \u001b[0mR\u001b[0m\u001b[1;33m,\u001b[0m \u001b[0max\u001b[0m\u001b[1;33m,\u001b[0m \u001b[0maxb\u001b[0m\u001b[1;33m,\u001b[0m \u001b[1;32min\u001b[0m \u001b[0mzip\u001b[0m\u001b[1;33m(\u001b[0m\u001b[1;33m[\u001b[0m\u001b[1;36m0\u001b[0m\u001b[1;33m,\u001b[0m\u001b[1;36m1\u001b[0m\u001b[1;33m,\u001b[0m\u001b[1;36m3\u001b[0m\u001b[1;33m]\u001b[0m\u001b[1;33m,\u001b[0m \u001b[1;33m[\u001b[0m\u001b[1;36m5\u001b[0m\u001b[1;33m,\u001b[0m\u001b[1;36m10\u001b[0m\u001b[1;33m,\u001b[0m\u001b[1;36m15\u001b[0m\u001b[1;33m]\u001b[0m\u001b[1;33m,\u001b[0m \u001b[1;33m[\u001b[0m\u001b[0max1\u001b[0m\u001b[1;33m,\u001b[0m\u001b[0max2\u001b[0m\u001b[1;33m,\u001b[0m\u001b[0max3\u001b[0m\u001b[1;33m]\u001b[0m\u001b[1;33m,\u001b[0m \u001b[1;33m[\u001b[0m\u001b[0max1b\u001b[0m\u001b[1;33m,\u001b[0m\u001b[0max2b\u001b[0m\u001b[1;33m,\u001b[0m\u001b[0max3b\u001b[0m\u001b[1;33m]\u001b[0m\u001b[1;33m)\u001b[0m\u001b[1;33m:\u001b[0m\u001b[1;33m\u001b[0m\u001b[0m\n\u001b[1;32m---> 34\u001b[1;33m     \u001b[0mplotit\u001b[0m\u001b[1;33m(\u001b[0m\u001b[0max\u001b[0m\u001b[1;33m,\u001b[0m \u001b[0mdgal_sfr_3p95_random\u001b[0m\u001b[1;33m,\u001b[0m \u001b[0mRidx\u001b[0m\u001b[1;33m,\u001b[0m \u001b[0mzidx\u001b[0m\u001b[1;33m,\u001b[0m \u001b[0maxb\u001b[0m\u001b[1;33m=\u001b[0m\u001b[0maxb\u001b[0m\u001b[1;33m,\u001b[0m \u001b[0mN\u001b[0m\u001b[1;33m=\u001b[0m\u001b[0mN\u001b[0m\u001b[1;33m)\u001b[0m\u001b[1;33m\u001b[0m\u001b[0m\n\u001b[0m\u001b[0;32m     35\u001b[0m     \u001b[0max\u001b[0m\u001b[1;33m.\u001b[0m\u001b[0mtext\u001b[0m\u001b[1;33m(\u001b[0m\u001b[1;36m0.05\u001b[0m\u001b[1;33m,\u001b[0m\u001b[1;36m1.05\u001b[0m\u001b[1;33m,\u001b[0m\u001b[1;34m'$R = %s, \\Delta d\\' = 20$'\u001b[0m\u001b[1;33m%\u001b[0m\u001b[0mR\u001b[0m\u001b[1;33m,\u001b[0m \u001b[0mtransform\u001b[0m\u001b[1;33m=\u001b[0m\u001b[0max\u001b[0m\u001b[1;33m.\u001b[0m\u001b[0mtransAxes\u001b[0m\u001b[1;33m)\u001b[0m\u001b[1;33m\u001b[0m\u001b[0m\n\u001b[0;32m     36\u001b[0m \u001b[1;33m\u001b[0m\u001b[0m\n",
      "\u001b[1;31mNameError\u001b[0m: name 'dgal_sfr_3p95_random' is not defined"
     ]
    },
    {
     "data": {
      "image/png": "[encoded data removed]",
      "text/plain": [
       "<matplotlib.figure.Figure at 0x7f2e6b70c810>"
      ]
     },
     "metadata": {},
     "output_type": "display_data"
    }
   ],
   "source": [
    "fig = plt.figure(figsize=(5, 12))\n",
    "\n",
    "gs1 = gridspec.GridSpec(18, 2)\n",
    "gs1.update(wspace=0.1, hspace=0)\n",
    "\n",
    "ax1 = fig.add_subplot(gs1[0:3,0])\n",
    "ax1b = fig.add_subplot(gs1[3:5,0])\n",
    "\n",
    "ax4 = fig.add_subplot(gs1[0:3,1])\n",
    "ax4b = fig.add_subplot(gs1[3:5,1])\n",
    "\n",
    "gs2 = gridspec.GridSpec(18, 2)\n",
    "gs2.update(wspace=0.1, hspace=0)\n",
    "\n",
    "ax2 = fig.add_subplot(gs2[6:9,0])\n",
    "ax2b = fig.add_subplot(gs2[9:11,0])\n",
    "\n",
    "gs3 = gridspec.GridSpec(18, 2)\n",
    "gs3.update(wspace=0.1, hspace=0)\n",
    "\n",
    "ax3 = fig.add_subplot(gs3[12:15,0])\n",
    "ax3b = fig.add_subplot(gs3[15:17,0])\n",
    "\n",
    "ax5 = fig.add_subplot(gs3[12:15,1])\n",
    "ax5b = fig.add_subplot(gs3[15:17,1])\n",
    "\n",
    "\n",
    "N = 18\n",
    "\n",
    "Ridx = zidx = 1\n",
    "\n",
    "# R plots\n",
    "for Ridx, R, ax, axb, in zip([0,1,3], [5,10,15], [ax1,ax2,ax3], [ax1b,ax2b,ax3b]):\n",
    "    plotit(ax, dgal_sfr_3p95_random, Ridx, zidx, axb=axb, N=N)\n",
    "    ax.text(0.05,1.05,'$R = %s, \\Delta d\\' = 20$'%R, transform=ax.transAxes)\n",
    "    \n",
    "    \n",
    "Ridx = zidx = 1\n",
    "\n",
    "# dz plots\n",
    "for zidx, deltaz, ax, axb, in zip([0,3], [5,15], [ax4,ax5], [ax4b,ax5b]):\n",
    "    plotit(ax, dgal_sfr_3p95_random, Ridx, zidx, axb=axb, N=N)\n",
    "    ax.text(0.05,1.05,'$R = 10, \\Delta d\\' = %s$'%(2*deltaz), transform=ax.transAxes)\n",
    "    ax.yaxis.tick_right()\n",
    "    axb.yaxis.tick_right()\n",
    "\n",
    "\n",
    "for ax in [ax3b, ax5b]:\n",
    "    ax.set_xlabel('$\\delta$', size=15)\n",
    "    \n",
    "for ax in [ax1,ax2,ax3,ax4,ax5]:\n",
    "    ax.set_xticklabels([])\n",
    "    \n",
    "legend = ax2.legend(bbox_to_anchor=(1.2, 0.8), ncol=1, prop={'size': 12}, labelspacing=1)\n",
    "legend.get_frame().set_facecolor('white')\n",
    "legend.get_frame().set_edgecolor('white')\n",
    "\n",
    "for patch in legend.get_patches():\n",
    "    patch.set_edgecolor('black')\n",
    "\n",
    "# plt.savefig('../papers/protoclusters/images/probabilities_A.png', bbox_inches='tight', dpi=300)"
   ]
  },
  {
   "cell_type": "code",
   "execution_count": null,
   "metadata": {
    "collapsed": true
   },
   "outputs": [],
   "source": [
    "fig = plt.figure(figsize=(5, 8))\n",
    "\n",
    "gs1 = gridspec.GridSpec(3, 2)\n",
    "gs1.update(wspace=0.1, hspace=0.4)\n",
    "\n",
    "ax1 = fig.add_subplot(gs1[0,0])\n",
    "ax2 = fig.add_subplot(gs1[1,0])\n",
    "ax3 = fig.add_subplot(gs1[2,0])\n",
    "\n",
    "ax4 = fig.add_subplot(gs1[0,1])\n",
    "ax5 = fig.add_subplot(gs1[2,1])\n",
    "\n",
    "\n",
    "N = 11\n",
    "\n",
    "Ridx = zidx = 2\n",
    "\n",
    "# R plots\n",
    "for Ridx, R, ax in zip([0,2,3], [5,10,15], [ax1,ax2,ax3]):\n",
    "    plotit(ax, dgal_sfr_3p95_random, Ridx, zidx, N=N)\n",
    "    ax.text(0.05,1.05,'$R = %s, \\Delta d\\' = 20$'%R, transform=ax.transAxes)\n",
    "    \n",
    "    \n",
    "Ridx = zidx = 2\n",
    "\n",
    "# dz plots\n",
    "for zidx, deltaz, ax, in zip([0,3], [5,15], [ax4,ax5]):\n",
    "    plotit(ax, dgal_sfr_3p95_random, Ridx, zidx, N=N)\n",
    "    ax.text(0.05,1.05,'$R = 10, \\Delta d\\' = %s$'%(2*deltaz), transform=ax.transAxes)\n",
    "    ax.yaxis.tick_right()\n",
    "    axb.yaxis.tick_right()\n",
    "\n",
    "\n",
    "for ax in [ax3, ax5]:\n",
    "    ax.set_xlabel('$\\delta$', size=15)\n",
    "\n",
    "    \n",
    "legend = ax2.legend(bbox_to_anchor=(1.2, 1.1), ncol=1, prop={'size': 12}, labelspacing=1)\n",
    "legend.get_frame().set_facecolor('white')\n",
    "legend.get_frame().set_edgecolor('white')\n",
    "\n",
    "for patch in legend.get_patches():\n",
    "    patch.set_edgecolor('black')\n",
    "\n",
    "# plt.savefig('../papers/protoclusters/images/probabilities_A.png', bbox_inches='tight', dpi=300)"
   ]
  }
 ],
 "metadata": {
  "kernelspec": {
   "display_name": "Python [cosmo]",
   "language": "python",
   "name": "Python [cosmo]"
  },
  "language_info": {
   "codemirror_mode": {
    "name": "ipython",
    "version": 2
   },
   "file_extension": ".py",
   "mimetype": "text/x-python",
   "name": "python",
   "nbconvert_exporter": "python",
   "pygments_lexer": "ipython2",
   "version": "2.7.12"
  }
 },
 "nbformat": 4,
 "nbformat_minor": 0
}
