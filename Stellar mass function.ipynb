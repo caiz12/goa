{
 "cells": [
  {
   "cell_type": "markdown",
   "metadata": {},
   "source": [
    "### Galaxy Stellar Mass Function\n",
    "\n",
    "Plot the galaxy stellar mass function for each of our selections:\n",
    "\n",
    "- $\\mathrm{S_{SFR1}}$ \n",
    "- $\\mathrm{S_{SFR5}}$ \n",
    "- $\\mathrm{S_{MAS9}}$ \n",
    "- $\\mathrm{S_{MAS10}}$ \n"
   ]
  },
  {
   "cell_type": "code",
   "execution_count": 1,
   "metadata": {
    "collapsed": true
   },
   "outputs": [],
   "source": [
    "import pandas as pd\n",
    "import numpy as np\n",
    "\n",
    "%matplotlib inline\n",
    "import matplotlib.pyplot as plt\n",
    "import matplotlib.gridspec as gridspec\n",
    "from matplotlib import rc\n",
    "rc('font',**{'family':'sans-serif','sans-serif':['Helvetica']})\n",
    "rc('text', usetex=True)\n",
    "\n",
    "from palettable.tableau import GreenOrange_12\n",
    "cmap = GreenOrange_12.hex_colors\n",
    "\n",
    "h = 0.673\n",
    "L = 480.279 /h  # box length\n",
    "\n",
    "directory = '/lustre/scratch/astro/cl478/protoclusters_data/'  # input data directory\n",
    "out_directory = 'output/'   # output image directory"
   ]
  },
  {
   "cell_type": "markdown",
   "metadata": {},
   "source": [
    "Load the galaxy data for all selections at all redshifts"
   ]
  },
  {
   "cell_type": "code",
   "execution_count": null,
   "metadata": {
    "collapsed": true
   },
   "outputs": [],
   "source": [
    "redshifts = ['2p07','3p10','3p95','5p03','5p92','6p97','8p22','8p93','9p72']\n",
    "zees = [float(z.replace('p','.')) for z in redshifts]"
   ]
  },
  {
   "cell_type": "code",
   "execution_count": null,
   "metadata": {
    "collapsed": false,
    "scrolled": true
   },
   "outputs": [
    {
     "name": "stdout",
     "output_type": "stream",
     "text": [
      "0 2p07\n",
      "1 3p10\n",
      "2 3p95\n",
      "3 5p03\n"
     ]
    }
   ],
   "source": [
    "gals_sfr = [None] * len(redshifts)\n",
    "gals_mstar = [None] * len(redshifts)\n",
    "\n",
    "for i, z in enumerate(redshifts):\n",
    "    print i, z\n",
    "    \n",
    "    gals_sfr[i] = pd.read_csv('%shenriques2015a_z%s_sfr_r200.csv'%(directory,z), \n",
    "                              skiprows=122, skipfooter=1, engine='python')\n",
    "    \n",
    "    gals_mstar[i] = pd.read_csv('%shenriques2015a_z%s_stellarMass_r200.csv'%(directory,z), \n",
    "                                skiprows=122, skipfooter=1, engine='python')\n",
    "    "
   ]
  },
  {
   "cell_type": "markdown",
   "metadata": {},
   "source": [
    "Factor in $h$ dependence"
   ]
  },
  {
   "cell_type": "code",
   "execution_count": null,
   "metadata": {
    "collapsed": true
   },
   "outputs": [],
   "source": [
    "for i, z in enumerate(redshifts):\n",
    "    gals_sfr[i][['z0_central_mcrit200','zn_stellarMass']] /= h\n",
    "    gals_mstar[i][['z0_central_mcrit200','zn_stellarMass']] /= h\n",
    "    "
   ]
  },
  {
   "cell_type": "markdown",
   "metadata": {},
   "source": [
    "Plot the mass function. $\\mathrm{S_{SFR5}}$ is conditioned and masked within the redshift loop."
   ]
  },
  {
   "cell_type": "code",
   "execution_count": null,
   "metadata": {
    "collapsed": false
   },
   "outputs": [],
   "source": [
    "binLimits = np.linspace(6.8, 12.8, 16)\n",
    "bins = np.linspace(7, 12.6, 15)\n",
    "#print binLimits, bins\n",
    "\n",
    "fig = plt.figure(figsize=(14.5,5))\n",
    "\n",
    "gs = gridspec.GridSpec(1,24)\n",
    "\n",
    "gs.update(wspace=0)\n",
    "\n",
    "ax1 = fig.add_subplot(gs[0,0:6])\n",
    "ax2 = fig.add_subplot(gs[0,6:15])\n",
    "ax3 = fig.add_subplot(gs[15:21])\n",
    "\n",
    "for ax, galaxy in zip([ax1, ax2, ax3],[gals_mstar, gals_sfr, gals_sfr]):\n",
    "    \n",
    "    for i, (gals,z) in enumerate(zip(galaxy, zees)):\n",
    "        \n",
    "        if ax == ax3:  # SFR5 mask\n",
    "            mask = gals['zn_sfr'] > 5\n",
    "        else:\n",
    "            mask = np.array([True] * len(gals))\n",
    "            \n",
    "\n",
    "        phi, dummy = np.histogram(np.log10(gals[mask]['zn_stellarMass'] * 1e10), bins=binLimits)\n",
    "        phi = (phi / L**3) / (binLimits[1] - binLimits[0])\n",
    "\n",
    "        ax.semilogy(bins, phi, c=cmap[i], label=z, linestyle='solid', linewidth=3)\n",
    "\n",
    "        phi, dummy = np.histogram(np.log10(gals.loc[mask & (gals['z0_central_mcrit200'] > 1e4)]['zn_stellarMass'] \\\n",
    "                                           * 1e10), bins=binLimits)\n",
    "        \n",
    "        phi = (phi / L**3) / (binLimits[1] - binLimits[0])\n",
    "\n",
    "        ax.semilogy(bins, phi, c=cmap[i], linestyle='dotted', linewidth=3)\n",
    "        \n",
    "        \n",
    "ax1.text(1.4, -0.12, \"$\\mathrm{log_{10}}(M_* / M_{\\odot})$\", size=15, transform = ax1.transAxes)\n",
    "ax1.set_ylabel(\"$\\phi \\,/\\, [ \\mathrm{cMpc^{-3}} \\; \\mathrm{log_{10}}(M_{*})^{-1}]$\", size=15)\n",
    "\n",
    "\n",
    "ax1.set_xticks([9, 10, 11, 12])\n",
    "ax2.set_xticks([8, 9, 10, 11, 12])\n",
    "ax3.set_xticks([9, 10, 11, 12])\n",
    "\n",
    "ax1.set_xlim(9, 12)\n",
    "ax2.set_xlim(8.1, 12.2)\n",
    "ax3.set_xlim(9, 12)\n",
    "\n",
    "for ax in [ax1,ax2,ax3]:\n",
    "    ax.set_ylim(1.3e-8, 2e-2)\n",
    "    ax.tick_params(labeltop=True, top=True)\n",
    "\n",
    "    \n",
    "ax2.tick_params(axis='y', which='both', left='off', right='off', labelleft='off')\n",
    "\n",
    "ax3.yaxis.tick_right()\n",
    "\n",
    "ax1.vlines(10, 1e-9, 1e-1, linestyle='dotted', color='grey')\n",
    "ax1.vlines(9, 1e-9, 1e-1, linestyle='dotted', color='grey')\n",
    "\n",
    "ax1.text(9.2, 6e-3, '$M_{*}$', color='grey', size=20)\n",
    "ax2.text(8.2, 6e-3, '$\\mathrm{SFR} > 1 \\, M_{\\odot} / \\mathrm{yr}$', color='grey', size=20)\n",
    "ax3.text(9.2, 6e-3, '$\\mathrm{SFR} > 5 \\, M_{\\odot} / \\mathrm{yr}$', color='grey', size=20)\n",
    "\n",
    "line_z = []\n",
    "for i in range(len(zees)):\n",
    "    line_z.append(plt.Line2D((0,0.5),(0,0), color=cmap[i], linestyle='solid'))\n",
    "    \n",
    "    \n",
    "leg = ax2.legend(handles=[line for line in line_z], labels=[\"%.2f\"%z for z in zees], \n",
    "           prop={'size':10}, frameon=False, bbox_to_anchor=(0.82, 0.46), handlelength=1)\n",
    "\n",
    "\n",
    "vp = leg._legend_box._children[-1]._children[0] \n",
    "for c in vp._children: \n",
    "    c._children.reverse() \n",
    "vp.align=\"right\" \n",
    "\n",
    "\n",
    "line_all = plt.Line2D((0,1),(0,0), color='black', linestyle='solid', linewidth=4)\n",
    "line_pcs = plt.Line2D((0,1),(0,0), color='black', linestyle='dotted', linewidth=4)\n",
    "\n",
    "ax1.legend(handles=[line_all, line_pcs], \n",
    "           labels=['all \\n galaxies', 'protocluster \\n galaxies'], \n",
    "           prop={'size':10}, frameon=False, bbox_to_anchor=(0.53, 1))\n",
    "\n",
    "\n",
    "# fig.savefig(out_directory+'gsmf.png', dpi=300, bbox_inches='tight')"
   ]
  },
  {
   "cell_type": "code",
   "execution_count": null,
   "metadata": {
    "collapsed": true
   },
   "outputs": [],
   "source": []
  }
 ],
 "metadata": {
  "kernelspec": {
   "display_name": "Python 2",
   "language": "python",
   "name": "python2"
  },
  "language_info": {
   "codemirror_mode": {
    "name": "ipython",
    "version": 2
   },
   "file_extension": ".py",
   "mimetype": "text/x-python",
   "name": "python",
   "nbconvert_exporter": "python",
   "pygments_lexer": "ipython2",
   "version": "2.7.5"
  }
 },
 "nbformat": 4,
 "nbformat_minor": 2
}
