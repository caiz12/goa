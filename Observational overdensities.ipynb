{
 "cells": [
  {
   "cell_type": "markdown",
   "metadata": {},
   "source": [
    "## Observational overdensities\n",
    "\n",
    "Comparison to observed overdensities."
   ]
  },
  {
   "cell_type": "code",
   "execution_count": 177,
   "metadata": {
    "collapsed": false
   },
   "outputs": [],
   "source": [
    "import pandas as pd\n",
    "import numpy as np\n",
    "\n",
    "import pickle as pcl\n",
    "\n",
    "%matplotlib inline\n",
    "import matplotlib.pyplot as plt\n",
    "import matplotlib.gridspec as gridspec\n",
    "import matplotlib.patches as mpatches\n",
    "from matplotlib import rc\n",
    "rc('font',**{'family':'sans-serif','sans-serif':['Helvetica']})\n",
    "rc('text', usetex=True)\n",
    "\n",
    "from methods import bhattacharyya\n",
    "from methods import plotit\n",
    "\n",
    "from astropy.cosmology import Planck13\n",
    "\n",
    "from methods import z_distort\n",
    "from methods import factor_h\n",
    "from methods import get_protoclusters\n",
    "\n",
    "from overdensity_cylinder import overdensity_cylinder\n",
    "\n",
    "h = 0.673\n",
    "L = 480.279 / h # box side length\n",
    "\n",
    "N = 100000    # number of random regions\n",
    "\n",
    "directory = '/lustre/scratch/astro/cl478/protoclusters_data/'\n",
    "out_directory = 'output/'"
   ]
  },
  {
   "cell_type": "markdown",
   "metadata": {},
   "source": [
    "### Load data"
   ]
  },
  {
   "cell_type": "code",
   "execution_count": 178,
   "metadata": {
    "collapsed": false
   },
   "outputs": [
    {
     "name": "stdout",
     "output_type": "stream",
     "text": [
      "0 3p10\n",
      "1 3p95\n"
     ]
    }
   ],
   "source": [
    "redshifts = ['3p10','3p95']  #,'8p22','8p93','9p72'] '2p07', ,'5p03','5p92','6p97'\n",
    "zees = [float(z.replace('p','.')) for z in redshifts]\n",
    "\n",
    "# gals_sfr = [None] * len(redshifts)\n",
    "gals_mstar = [None] * len(redshifts)\n",
    "\n",
    "for i, z in enumerate(redshifts):\n",
    "    print i, z\n",
    "    \n",
    "#     gals_sfr[i] = pd.read_csv('%shenriques2015a_z%s_sfr_r200.csv'%(directory,z), \n",
    "#                               skiprows=122, skipfooter=1, engine='python')\n",
    "    \n",
    "    gals_mstar[i] = pd.read_csv('%shenriques2015a_z%s_stellarMass_r200.csv'%(directory,z), \n",
    "                                skiprows=122, skipfooter=1, engine='python')"
   ]
  },
  {
   "cell_type": "code",
   "execution_count": 179,
   "metadata": {
    "collapsed": false
   },
   "outputs": [
    {
     "name": "stderr",
     "output_type": "stream",
     "text": [
      "/home/c/cl/cl478/.local/lib/python2.7/site-packages/pandas/core/indexing.py:465: SettingWithCopyWarning: \n",
      "A value is trying to be set on a copy of a slice from a DataFrame.\n",
      "Try using .loc[row_indexer,col_indexer] = value instead\n",
      "\n",
      "See the caveats in the documentation: http://pandas.pydata.org/pandas-docs/stable/indexing.html#indexing-view-versus-copy\n",
      "  self.obj[item] = s\n"
     ]
    }
   ],
   "source": [
    "gals_mstar10 = [None] * len(redshifts)\n",
    "\n",
    "for i, z in enumerate(zees):\n",
    "        \n",
    "    gals_mstar10[i] = z_distort(factor_h(gals_mstar[i], h), z, L)\n",
    "\n",
    "    gals_mstar10[i] = gals_mstar10[i][gals_mstar10[i]['zn_stellarMass'] >= 1]\n",
    "\n",
    "#         print \"Filling in NaN values...\"\n",
    "    gals_mstar10[i].ix[np.isnan(gals_mstar10[i]['z0_haloId']), 'z0_haloId'] = -1\n",
    "    gals_mstar10[i].ix[np.isnan(gals_mstar10[i]['z0_centralId']), 'z0_centralId'] = -1\n",
    "    gals_mstar10[i].ix[np.isnan(gals_mstar10[i]['z0_central_mcrit200']), 'z0_central_mcrit200'] = 0\n",
    "    "
   ]
  },
  {
   "cell_type": "markdown",
   "metadata": {},
   "source": [
    "### Franck & McGaugh +16\n",
    "\n",
    "Write protocluster candidate data in to a dataframe for ease of use. Redshift depth given by $z \\pm \\sigma_{z}$."
   ]
  },
  {
   "cell_type": "code",
   "execution_count": 180,
   "metadata": {
    "collapsed": true
   },
   "outputs": [],
   "source": [
    "name = ['CCPC-z27-002','CCPC-z29-001','CCPC-z29-002','CCPC-z30-001','CCPC-z30-003','CCPC-z31-003',\n",
    "        'CCPC-z31-004','CCPC-z31-005','CCPC-z32-002','CCPC-z33-002','CCPC-z35-001','CCPC-z36-001']\n",
    "\n",
    "redshift = [2.772,2.918,2.919,3.035,3.096,3.133,3.146,3.152,3.234,3.372,3.597,3.644]\n",
    "deltaz = [0.007,0.005,0.009,0.005,0.008,0.008,0.006,0.007,0.003,0.008,0.003,0.003]"
   ]
  },
  {
   "cell_type": "code",
   "execution_count": 181,
   "metadata": {
    "collapsed": false
   },
   "outputs": [],
   "source": [
    "dat = pd.DataFrame(data=[redshift, deltaz]).T\n",
    "dat.index = name\n",
    "dat.columns = ['redshift','deltaz']"
   ]
  },
  {
   "cell_type": "markdown",
   "metadata": {},
   "source": [
    "Calculate $\\Delta z$ in $\\mathrm{cMpc}$"
   ]
  },
  {
   "cell_type": "code",
   "execution_count": 182,
   "metadata": {
    "collapsed": false
   },
   "outputs": [],
   "source": [
    "dat['deltac'] = (Planck13.comoving_distance(dat.redshift+dat.deltaz) - \\\n",
    "                 Planck13.comoving_distance(dat.redshift-dat.deltaz)) / 2 # * Planck13.h"
   ]
  },
  {
   "cell_type": "markdown",
   "metadata": {},
   "source": [
    "Add empty columns for calculated protocluster probabilities, and nearest redshift snapshot in Millennium."
   ]
  },
  {
   "cell_type": "code",
   "execution_count": 237,
   "metadata": {
    "collapsed": false
   },
   "outputs": [
    {
     "data": {
      "text/html": [
       "<div>\n",
       "<table border=\"1\" class=\"dataframe\">\n",
       "  <thead>\n",
       "    <tr style=\"text-align: right;\">\n",
       "      <th></th>\n",
       "      <th>redshift</th>\n",
       "      <th>deltaz</th>\n",
       "      <th>deltac</th>\n",
       "      <th>nearest snap</th>\n",
       "      <th>dgal</th>\n",
       "    </tr>\n",
       "  </thead>\n",
       "  <tbody>\n",
       "    <tr>\n",
       "      <th>CCPC-z27-002</th>\n",
       "      <td>2.772</td>\n",
       "      <td>0.007</td>\n",
       "      <td>7.452322</td>\n",
       "      <td>3.10</td>\n",
       "      <td>11.02</td>\n",
       "    </tr>\n",
       "    <tr>\n",
       "      <th>CCPC-z29-001</th>\n",
       "      <td>2.918</td>\n",
       "      <td>0.005</td>\n",
       "      <td>5.039118</td>\n",
       "      <td>3.10</td>\n",
       "      <td>11.21</td>\n",
       "    </tr>\n",
       "    <tr>\n",
       "      <th>CCPC-z29-002</th>\n",
       "      <td>2.919</td>\n",
       "      <td>0.009</td>\n",
       "      <td>9.067083</td>\n",
       "      <td>3.10</td>\n",
       "      <td>12.91</td>\n",
       "    </tr>\n",
       "    <tr>\n",
       "      <th>CCPC-z30-001</th>\n",
       "      <td>3.035</td>\n",
       "      <td>0.005</td>\n",
       "      <td>4.828797</td>\n",
       "      <td>3.10</td>\n",
       "      <td>18.78</td>\n",
       "    </tr>\n",
       "    <tr>\n",
       "      <th>CCPC-z30-003</th>\n",
       "      <td>3.096</td>\n",
       "      <td>0.008</td>\n",
       "      <td>7.559564</td>\n",
       "      <td>3.10</td>\n",
       "      <td>12.28</td>\n",
       "    </tr>\n",
       "    <tr>\n",
       "      <th>CCPC-z31-003</th>\n",
       "      <td>3.133</td>\n",
       "      <td>0.008</td>\n",
       "      <td>7.461377</td>\n",
       "      <td>3.10</td>\n",
       "      <td>9.80</td>\n",
       "    </tr>\n",
       "    <tr>\n",
       "      <th>CCPC-z31-004</th>\n",
       "      <td>3.146</td>\n",
       "      <td>0.006</td>\n",
       "      <td>5.570522</td>\n",
       "      <td>3.10</td>\n",
       "      <td>7.59</td>\n",
       "    </tr>\n",
       "    <tr>\n",
       "      <th>CCPC-z31-005</th>\n",
       "      <td>3.152</td>\n",
       "      <td>0.007</td>\n",
       "      <td>6.485285</td>\n",
       "      <td>3.10</td>\n",
       "      <td>17.77</td>\n",
       "    </tr>\n",
       "    <tr>\n",
       "      <th>CCPC-z32-002</th>\n",
       "      <td>3.234</td>\n",
       "      <td>0.003</td>\n",
       "      <td>2.701361</td>\n",
       "      <td>3.10</td>\n",
       "      <td>13.11</td>\n",
       "    </tr>\n",
       "    <tr>\n",
       "      <th>CCPC-z33-002</th>\n",
       "      <td>3.372</td>\n",
       "      <td>0.008</td>\n",
       "      <td>6.874197</td>\n",
       "      <td>3.10</td>\n",
       "      <td>7.44</td>\n",
       "    </tr>\n",
       "    <tr>\n",
       "      <th>CCPC-z35-001</th>\n",
       "      <td>3.597</td>\n",
       "      <td>0.003</td>\n",
       "      <td>2.395200</td>\n",
       "      <td>3.95</td>\n",
       "      <td>10.18</td>\n",
       "    </tr>\n",
       "    <tr>\n",
       "      <th>CCPC-z36-001</th>\n",
       "      <td>3.644</td>\n",
       "      <td>0.003</td>\n",
       "      <td>2.359716</td>\n",
       "      <td>3.95</td>\n",
       "      <td>23.50</td>\n",
       "    </tr>\n",
       "  </tbody>\n",
       "</table>\n",
       "</div>"
      ],
      "text/plain": [
       "              redshift  deltaz    deltac  nearest snap   dgal\n",
       "CCPC-z27-002     2.772   0.007  7.452322          3.10  11.02\n",
       "CCPC-z29-001     2.918   0.005  5.039118          3.10  11.21\n",
       "CCPC-z29-002     2.919   0.009  9.067083          3.10  12.91\n",
       "CCPC-z30-001     3.035   0.005  4.828797          3.10  18.78\n",
       "CCPC-z30-003     3.096   0.008  7.559564          3.10  12.28\n",
       "CCPC-z31-003     3.133   0.008  7.461377          3.10   9.80\n",
       "CCPC-z31-004     3.146   0.006  5.570522          3.10   7.59\n",
       "CCPC-z31-005     3.152   0.007  6.485285          3.10  17.77\n",
       "CCPC-z32-002     3.234   0.003  2.701361          3.10  13.11\n",
       "CCPC-z33-002     3.372   0.008  6.874197          3.10   7.44\n",
       "CCPC-z35-001     3.597   0.003  2.395200          3.95  10.18\n",
       "CCPC-z36-001     3.644   0.003  2.359716          3.95  23.50"
      ]
     },
     "execution_count": 237,
     "metadata": {},
     "output_type": "execute_result"
    }
   ],
   "source": [
    "# dat['protocluster probability'] = pd.Series()\n",
    "# dat['high mass probability'] = pd.Series()\n",
    "# dat['part probability'] = pd.Series()\n",
    "dat['dgal'] = [11.02,11.21,12.91,18.78,12.28,9.80,7.59,17.77,13.11,7.44,10.18,23.50]\n",
    "dat['nearest snap'] = [3.1,3.1,3.1,3.1,3.1,3.1,3.1,3.1,3.1,3.1,3.95,3.95]\n",
    "\n",
    "dat"
   ]
  },
  {
   "cell_type": "markdown",
   "metadata": {},
   "source": [
    "#### Calculate overdensity data\n",
    "\n",
    "Need to calculate overdensity statistics for random regions over the whole box in order to get probabilities. \n",
    "\n",
    "First, find the coordinates of all protoclusters"
   ]
  },
  {
   "cell_type": "code",
   "execution_count": 8,
   "metadata": {
    "collapsed": false
   },
   "outputs": [],
   "source": [
    "pc_coods = [None] * len(gals_mstar10)\n",
    "pc_coods[0] = get_protoclusters(gals_mstar10[0], L)\n",
    "pc_coods[1] = get_protoclusters(gals_mstar10[1], L)"
   ]
  },
  {
   "cell_type": "markdown",
   "metadata": {},
   "source": [
    "Use to find limiting completeness and purity, and calculate overdensity stats."
   ]
  },
  {
   "cell_type": "code",
   "execution_count": 217,
   "metadata": {
    "collapsed": true
   },
   "outputs": [
    {
     "name": "stdout",
     "output_type": "stream",
     "text": [
      "CCPC-z27-002\n",
      "finding clim and plim\n",
      "calculating stats\n",
      "Building KDtree...\n",
      "0.1 %\n",
      "10.1 %\n",
      "20.1 %\n",
      "30.1 %\n",
      "40.1 %\n",
      "50.1 %\n",
      "60.1 %\n",
      "70.1 %\n",
      "80.1 %\n",
      "90.1 %\n",
      "CCPC-z29-001\n",
      "finding clim and plim\n",
      "calculating stats\n",
      "Building KDtree...\n",
      "0.1 %\n",
      "10.1 %\n",
      "20.1 %\n",
      "30.1 %\n",
      "40.1 %\n",
      "50.1 %\n",
      "60.1 %\n",
      "70.1 %\n",
      "80.1 %\n",
      "90.1 %\n",
      "CCPC-z29-002\n",
      "finding clim and plim\n",
      "calculating stats\n",
      "Building KDtree...\n",
      "0.1 %\n",
      "10.1 %\n",
      "20.1 %\n",
      "30.1 %\n",
      "40.1 %\n",
      "50.1 %\n",
      "60.1 %\n",
      "70.1 %\n",
      "80.1 %\n",
      "90.1 %\n",
      "CCPC-z30-001\n",
      "finding clim and plim\n",
      "calculating stats\n",
      "Building KDtree...\n",
      "0.1 %\n",
      "10.1 %\n",
      "20.1 %\n",
      "30.1 %\n",
      "40.1 %\n",
      "50.1 %\n",
      "60.1 %\n",
      "70.1 %\n",
      "80.1 %\n",
      "90.1 %\n",
      "CCPC-z30-003\n",
      "finding clim and plim\n",
      "calculating stats\n",
      "Building KDtree...\n",
      "0.1 %\n",
      "10.1 %\n",
      "20.1 %\n",
      "30.1 %\n",
      "40.1 %\n",
      "50.1 %\n",
      "60.1 %\n",
      "70.1 %\n",
      "80.1 %\n",
      "90.1 %\n",
      "CCPC-z31-003\n",
      "finding clim and plim\n",
      "calculating stats\n",
      "Building KDtree...\n",
      "0.1 %\n",
      "10.1 %\n",
      "20.1 %\n",
      "30.1 %\n",
      "40.1 %\n",
      "50.1 %\n",
      "60.1 %\n",
      "70.1 %\n",
      "80.1 %\n",
      "90.1 %\n",
      "CCPC-z31-004\n",
      "finding clim and plim\n",
      "calculating stats\n",
      "Building KDtree...\n",
      "0.1 %\n",
      "10.1 %\n",
      "20.1 %\n",
      "30.1 %\n",
      "40.1 %\n",
      "50.1 %\n",
      "60.1 %\n",
      "70.1 %\n",
      "80.1 %\n",
      "90.1 %\n",
      "CCPC-z31-005\n",
      "finding clim and plim\n",
      "calculating stats\n",
      "Building KDtree...\n",
      "0.1 %\n",
      "10.1 %\n",
      "20.1 %\n",
      "30.1 %\n",
      "40.1 %\n",
      "50.1 %\n",
      "60.1 %\n",
      "70.1 %\n",
      "80.1 %\n",
      "90.1 %\n",
      "CCPC-z32-002\n",
      "finding clim and plim\n",
      "calculating stats\n",
      "Building KDtree...\n",
      "0.1 %\n",
      "10.1 %\n",
      "20.1 %\n",
      "30.1 %\n",
      "40.1 %\n",
      "50.1 %\n",
      "60.1 %\n",
      "70.1 %\n",
      "80.1 %\n",
      "90.1 %\n",
      "CCPC-z33-002\n",
      "finding clim and plim\n",
      "calculating stats\n",
      "Building KDtree...\n",
      "0.1 %\n",
      "10.1 %\n",
      "20.1 %\n",
      "30.1 %\n",
      "40.1 %\n",
      "50.1 %\n",
      "60.1 %\n",
      "70.1 %\n",
      "80.1 %\n",
      "90.1 %\n",
      "CCPC-z35-001\n",
      "finding clim and plim\n",
      "calculating stats\n",
      "Building KDtree...\n",
      "0.1 %\n",
      "10.1 %\n",
      "20.1 %\n",
      "30.1 %\n",
      "40.1 %\n",
      "50.1 %\n",
      "60.1 %\n",
      "70.1 %\n",
      "80.1 %\n",
      "90.1 %\n",
      "CCPC-z36-001\n",
      "finding clim and plim\n",
      "calculating stats\n",
      "Building KDtree...\n",
      "0.1 %\n",
      "10.1 %\n",
      "20.1 %\n",
      "30.1 %\n",
      "40.1 %\n",
      "50.1 %\n",
      "60.1 %\n",
      "70.1 %\n",
      "80.1 %\n",
      "90.1 %\n"
     ]
    }
   ],
   "source": [
    "coods = pd.DataFrame(np.random.rand(N,3) * L, columns=['zn_x','zn_y','zn_z']) # generate random regions\n",
    "\n",
    "out_stats = {str(idx): {'stats': None, 'clim': None, 'plim': None, \n",
    "                        'clim_std': None, 'plim_std': None} for idx in dat.index}\n",
    "\n",
    "gal_idx = [0,0,0,0,0,0,0,0,0,0,1,1]\n",
    "\n",
    "for didx, gidx in zip(dat.index, gal_idx):\n",
    "    print didx\n",
    "    \n",
    "    print 'finding clim and plim'\n",
    "    c_p = overdensity_cylinder(gals_mstar10[0], \n",
    "                        pc_coods[gidx][0], R=10, dc=dat.ix[didx]['deltac'], L=L, pc_stats=True)\n",
    "    \n",
    "    out_stats[didx]['clim'] = (np.percentile(c_p[:,1], 95), np.median(c_p[:,1]), np.percentile(c_p[:,1], 5))\n",
    "    out_stats[didx]['plim'] = (np.percentile(c_p[:,2], 95), np.median(c_p[:,2]), np.percentile(c_p[:,2], 5))\n",
    "    \n",
    "    print 'calculating stats'\n",
    "    out_stats[didx]['stats'] = overdensity_cylinder(gals_mstar10[gidx], coods, R=10, \n",
    "                            dc=dat.ix[didx]['deltac'], L=L, pc_stats=True, verbose=True)"
   ]
  },
  {
   "cell_type": "code",
   "execution_count": 220,
   "metadata": {
    "collapsed": true
   },
   "outputs": [],
   "source": [
    "# pcl.dump(out_stats, open('out_stats_obs.p','w'))\n",
    "out_stats = pcl.load(open('out_stats_obs.p','r'))"
   ]
  },
  {
   "cell_type": "code",
   "execution_count": 241,
   "metadata": {
    "collapsed": false
   },
   "outputs": [
    {
     "name": "stdout",
     "output_type": "stream",
     "text": [
      "CCPC-z27-002 \n",
      "Clim: (1.0, 1.0, 0.80000000000000004) \n",
      "Plim: (1.0, 0.88888888888888884, 0.54545454545454541) \n",
      "P(dgal): 0.661 \n",
      "\n",
      "CCPC-z29-001 \n",
      "Clim: (1.0, 1.0, 0.67333333333333334) \n",
      "Plim: (1.0, 1.0, 0.63636363636363635) \n",
      "P(dgal): 0.383 \n",
      "\n",
      "CCPC-z29-002 \n",
      "Clim: (1.0, 1.0, 0.82085561497326198) \n",
      "Plim: (1.0, 0.8571428571428571, 0.5) \n",
      "P(dgal): 0.918 \n",
      "\n",
      "CCPC-z30-001 \n",
      "Clim: (1.0, 1.0, 0.66666666666666663) \n",
      "Plim: (1.0, 1.0, 0.66666666666666663) \n",
      "P(dgal): 0.851 \n",
      "\n",
      "CCPC-z30-003 \n",
      "Clim: (1.0, 1.0, 0.80000000000000004) \n",
      "Plim: (1.0, 0.88888888888888884, 0.54545454545454541) \n",
      "P(dgal): 0.763 \n",
      "\n",
      "CCPC-z31-003 \n",
      "Clim: (1.0, 1.0, 0.80000000000000004) \n",
      "Plim: (1.0, 0.88888888888888884, 0.54545454545454541) \n",
      "P(dgal): 0.661 \n",
      "\n",
      "CCPC-z31-004 \n",
      "Clim: (1.0, 1.0, 0.7142857142857143) \n",
      "Plim: (1.0, 1.0, 0.61805555555555558) \n",
      "P(dgal): 0.354 \n",
      "\n",
      "CCPC-z31-005 \n",
      "Clim: (1.0, 1.0, 0.75) \n",
      "Plim: (1.0, 0.92307692307692313, 0.58333333333333337) \n",
      "P(dgal): 0.891 \n",
      "\n",
      "CCPC-z32-002 \n",
      "Clim: (1.0, 0.80000000000000004, 0.33333333333333331) \n",
      "Plim: (1.0, 1.0, 0.66666666666666663) \n",
      "P(dgal): 0.346 \n",
      "\n",
      "CCPC-z33-002 \n",
      "Clim: (1.0, 1.0, 0.77777777777777779) \n",
      "Plim: (1.0, 0.90909090909090906, 0.5714285714285714) \n",
      "P(dgal): 0.300 \n",
      "\n",
      "CCPC-z35-001 \n",
      "Clim: (1.0, 0.59999999999999998, 0.21490683229813665) \n",
      "Plim: (1.0, 1.0, 0.66666666666666663) \n",
      "P(dgal): 0.153 \n",
      "\n",
      "CCPC-z36-001 \n",
      "Clim: (1.0, 0.59999999999999998, 0.20000000000000001) \n",
      "Plim: (1.0, 1.0, 0.66666666666666663) \n",
      "P(dgal): 0.397 \n",
      "\n"
     ]
    }
   ],
   "source": [
    "for idx in dat.index:\n",
    "    \n",
    "    labs, labels = label(out_stats[idx]['stats'], \n",
    "                                 clim=out_stats[idx]['clim'][2],\n",
    "                                 plim=out_stats[idx]['plim'][2])\n",
    "\n",
    "    bins, binLimits, agg, agg_total, fracs = binit(out_stats[idx]['stats'], labs, labels)\n",
    "    \n",
    "    dgal = dat.ix[idx]['dgal']\n",
    "    keys =  labels[:4]\n",
    "    \n",
    "    print idx, \"\\nClim:\", out_stats[idx]['clim'], \"\\nPlim:\", out_stats[idx]['plim'], \"\\nP(dgal): %.3f\"%\\\n",
    "    np.sum([fracs[key] for key in keys], axis=0)[np.where(binLimits < dgal)[0].max()], \"\\n\""
   ]
  },
  {
   "cell_type": "code",
   "execution_count": null,
   "metadata": {
    "collapsed": true
   },
   "outputs": [],
   "source": []
  }
 ],
 "metadata": {
  "kernelspec": {
   "display_name": "Python 2",
   "language": "python",
   "name": "python2"
  },
  "language_info": {
   "codemirror_mode": {
    "name": "ipython",
    "version": 2
   },
   "file_extension": ".py",
   "mimetype": "text/x-python",
   "name": "python",
   "nbconvert_exporter": "python",
   "pygments_lexer": "ipython2",
   "version": "2.7.5"
  }
 },
 "nbformat": 4,
 "nbformat_minor": 2
}
