{
 "cells": [
  {
   "cell_type": "markdown",
   "metadata": {},
   "source": [
    "## Observational overdensities\n",
    "\n",
    "Comparison to observed overdensities."
   ]
  },
  {
   "cell_type": "code",
   "execution_count": 133,
   "metadata": {
    "collapsed": false
   },
   "outputs": [],
   "source": [
    "import pandas as pd\n",
    "import numpy as np\n",
    "\n",
    "import pickle as pcl\n",
    "\n",
    "%matplotlib inline\n",
    "import matplotlib.pyplot as plt\n",
    "import matplotlib.gridspec as gridspec\n",
    "import matplotlib.patches as mpatches\n",
    "from matplotlib import rc\n",
    "rc('font',**{'family':'sans-serif','sans-serif':['Helvetica']})\n",
    "rc('text', usetex=True)\n",
    "\n",
    "from methods import bhattacharyya\n",
    "from methods import plotit\n",
    "\n",
    "from astropy.cosmology import Planck13"
   ]
  },
  {
   "cell_type": "code",
   "execution_count": 134,
   "metadata": {
    "collapsed": false
   },
   "outputs": [
    {
     "name": "stdout",
     "output_type": "stream",
     "text": [
      "R: 10.3290541538 cMpc\n"
     ]
    }
   ],
   "source": [
    "print \"R:\", 7 / Planck13.h, \"cMpc\""
   ]
  },
  {
   "cell_type": "markdown",
   "metadata": {},
   "source": [
    "### Franck & McGaugh +16\n",
    "\n",
    "Write protocluster candidate data in to a dataframe for ease of use. Redshift depth given by $z \\pm \\sigma_{z}$."
   ]
  },
  {
   "cell_type": "code",
   "execution_count": 135,
   "metadata": {
    "collapsed": true
   },
   "outputs": [],
   "source": [
    "name = ['CCPC-z27-002','CCPC-z29-001','CCPC-z29-002','CCPC-z30-001','CCPC-z30-003','CCPC-z31-003',\n",
    "        'CCPC-z31-004','CCPC-z31-005','CCPC-z32-002','CCPC-z33-002','CCPC-z35-001','CCPC-z36-001']\n",
    "\n",
    "redshift = [2.772,2.918,2.919,3.035,3.096,3.133,3.146,3.152,3.234,3.372,3.597,3.644]\n",
    "deltaz = [0.007,0.005,0.009,0.005,0.008,0.008,0.006,0.007,0.003,0.008,0.003,0.003]"
   ]
  },
  {
   "cell_type": "code",
   "execution_count": 136,
   "metadata": {
    "collapsed": false
   },
   "outputs": [],
   "source": [
    "dat = pd.DataFrame(data=[redshift, deltaz]).T\n",
    "dat.index = name\n",
    "dat.columns = ['redshift','deltaz']"
   ]
  },
  {
   "cell_type": "markdown",
   "metadata": {},
   "source": [
    "Calculate $\\Delta z$ in $h^{-1} \\, \\mathrm{cMpc}$"
   ]
  },
  {
   "cell_type": "code",
   "execution_count": 137,
   "metadata": {
    "collapsed": false
   },
   "outputs": [],
   "source": [
    "dat['deltac'] = (Planck13.comoving_distance(dat.redshift+dat.deltaz) - \\\n",
    "                 Planck13.comoving_distance(dat.redshift-dat.deltaz)) / 2 * Planck13.h"
   ]
  },
  {
   "cell_type": "markdown",
   "metadata": {},
   "source": [
    "Add empty columns for calculated protocluster probabilities, and nearest redshift snapshot in Millennium."
   ]
  },
  {
   "cell_type": "code",
   "execution_count": 138,
   "metadata": {
    "collapsed": false
   },
   "outputs": [
    {
     "data": {
      "text/html": [
       "<div>\n",
       "<table border=\"1\" class=\"dataframe\">\n",
       "  <thead>\n",
       "    <tr style=\"text-align: right;\">\n",
       "      <th></th>\n",
       "      <th>redshift</th>\n",
       "      <th>deltaz</th>\n",
       "      <th>deltac</th>\n",
       "      <th>protocluster probability</th>\n",
       "      <th>high mass probability</th>\n",
       "      <th>part probability</th>\n",
       "      <th>nearest snap</th>\n",
       "    </tr>\n",
       "  </thead>\n",
       "  <tbody>\n",
       "    <tr>\n",
       "      <th>CCPC-z27-002</th>\n",
       "      <td>2.772</td>\n",
       "      <td>0.007</td>\n",
       "      <td>5.050439</td>\n",
       "      <td>NaN</td>\n",
       "      <td>NaN</td>\n",
       "      <td>NaN</td>\n",
       "      <td>3.10</td>\n",
       "    </tr>\n",
       "    <tr>\n",
       "      <th>CCPC-z29-001</th>\n",
       "      <td>2.918</td>\n",
       "      <td>0.005</td>\n",
       "      <td>3.415010</td>\n",
       "      <td>NaN</td>\n",
       "      <td>NaN</td>\n",
       "      <td>NaN</td>\n",
       "      <td>3.10</td>\n",
       "    </tr>\n",
       "    <tr>\n",
       "      <th>CCPC-z29-002</th>\n",
       "      <td>2.919</td>\n",
       "      <td>0.009</td>\n",
       "      <td>6.144762</td>\n",
       "      <td>NaN</td>\n",
       "      <td>NaN</td>\n",
       "      <td>NaN</td>\n",
       "      <td>3.10</td>\n",
       "    </tr>\n",
       "    <tr>\n",
       "      <th>CCPC-z30-001</th>\n",
       "      <td>3.035</td>\n",
       "      <td>0.005</td>\n",
       "      <td>3.272476</td>\n",
       "      <td>NaN</td>\n",
       "      <td>NaN</td>\n",
       "      <td>NaN</td>\n",
       "      <td>3.10</td>\n",
       "    </tr>\n",
       "    <tr>\n",
       "      <th>CCPC-z30-003</th>\n",
       "      <td>3.096</td>\n",
       "      <td>0.008</td>\n",
       "      <td>5.123117</td>\n",
       "      <td>NaN</td>\n",
       "      <td>NaN</td>\n",
       "      <td>NaN</td>\n",
       "      <td>3.10</td>\n",
       "    </tr>\n",
       "    <tr>\n",
       "      <th>CCPC-z31-003</th>\n",
       "      <td>3.133</td>\n",
       "      <td>0.008</td>\n",
       "      <td>5.056575</td>\n",
       "      <td>NaN</td>\n",
       "      <td>NaN</td>\n",
       "      <td>NaN</td>\n",
       "      <td>3.10</td>\n",
       "    </tr>\n",
       "    <tr>\n",
       "      <th>CCPC-z31-004</th>\n",
       "      <td>3.146</td>\n",
       "      <td>0.006</td>\n",
       "      <td>3.775142</td>\n",
       "      <td>NaN</td>\n",
       "      <td>NaN</td>\n",
       "      <td>NaN</td>\n",
       "      <td>3.10</td>\n",
       "    </tr>\n",
       "    <tr>\n",
       "      <th>CCPC-z31-005</th>\n",
       "      <td>3.152</td>\n",
       "      <td>0.007</td>\n",
       "      <td>4.395078</td>\n",
       "      <td>NaN</td>\n",
       "      <td>NaN</td>\n",
       "      <td>NaN</td>\n",
       "      <td>3.10</td>\n",
       "    </tr>\n",
       "    <tr>\n",
       "      <th>CCPC-z32-002</th>\n",
       "      <td>3.234</td>\n",
       "      <td>0.003</td>\n",
       "      <td>1.830712</td>\n",
       "      <td>NaN</td>\n",
       "      <td>NaN</td>\n",
       "      <td>NaN</td>\n",
       "      <td>3.10</td>\n",
       "    </tr>\n",
       "    <tr>\n",
       "      <th>CCPC-z33-002</th>\n",
       "      <td>3.372</td>\n",
       "      <td>0.008</td>\n",
       "      <td>4.658643</td>\n",
       "      <td>NaN</td>\n",
       "      <td>NaN</td>\n",
       "      <td>NaN</td>\n",
       "      <td>3.10</td>\n",
       "    </tr>\n",
       "    <tr>\n",
       "      <th>CCPC-z35-001</th>\n",
       "      <td>3.597</td>\n",
       "      <td>0.003</td>\n",
       "      <td>1.623227</td>\n",
       "      <td>NaN</td>\n",
       "      <td>NaN</td>\n",
       "      <td>NaN</td>\n",
       "      <td>3.95</td>\n",
       "    </tr>\n",
       "    <tr>\n",
       "      <th>CCPC-z36-001</th>\n",
       "      <td>3.644</td>\n",
       "      <td>0.003</td>\n",
       "      <td>1.599180</td>\n",
       "      <td>NaN</td>\n",
       "      <td>NaN</td>\n",
       "      <td>NaN</td>\n",
       "      <td>3.95</td>\n",
       "    </tr>\n",
       "  </tbody>\n",
       "</table>\n",
       "</div>"
      ],
      "text/plain": [
       "              redshift  deltaz    deltac  protocluster probability  \\\n",
       "CCPC-z27-002     2.772   0.007  5.050439                       NaN   \n",
       "CCPC-z29-001     2.918   0.005  3.415010                       NaN   \n",
       "CCPC-z29-002     2.919   0.009  6.144762                       NaN   \n",
       "CCPC-z30-001     3.035   0.005  3.272476                       NaN   \n",
       "CCPC-z30-003     3.096   0.008  5.123117                       NaN   \n",
       "CCPC-z31-003     3.133   0.008  5.056575                       NaN   \n",
       "CCPC-z31-004     3.146   0.006  3.775142                       NaN   \n",
       "CCPC-z31-005     3.152   0.007  4.395078                       NaN   \n",
       "CCPC-z32-002     3.234   0.003  1.830712                       NaN   \n",
       "CCPC-z33-002     3.372   0.008  4.658643                       NaN   \n",
       "CCPC-z35-001     3.597   0.003  1.623227                       NaN   \n",
       "CCPC-z36-001     3.644   0.003  1.599180                       NaN   \n",
       "\n",
       "              high mass probability  part probability  nearest snap  \n",
       "CCPC-z27-002                    NaN               NaN          3.10  \n",
       "CCPC-z29-001                    NaN               NaN          3.10  \n",
       "CCPC-z29-002                    NaN               NaN          3.10  \n",
       "CCPC-z30-001                    NaN               NaN          3.10  \n",
       "CCPC-z30-003                    NaN               NaN          3.10  \n",
       "CCPC-z31-003                    NaN               NaN          3.10  \n",
       "CCPC-z31-004                    NaN               NaN          3.10  \n",
       "CCPC-z31-005                    NaN               NaN          3.10  \n",
       "CCPC-z32-002                    NaN               NaN          3.10  \n",
       "CCPC-z33-002                    NaN               NaN          3.10  \n",
       "CCPC-z35-001                    NaN               NaN          3.95  \n",
       "CCPC-z36-001                    NaN               NaN          3.95  "
      ]
     },
     "execution_count": 138,
     "metadata": {},
     "output_type": "execute_result"
    }
   ],
   "source": [
    "dat['protocluster probability'] = pd.Series()\n",
    "dat['high mass probability'] = pd.Series()\n",
    "dat['part probability'] = pd.Series()\n",
    "dat['nearest snap'] = [3.1,3.1,3.1,3.1,3.1,3.1,3.1,3.1,3.1,3.1,3.95,3.95]\n",
    "\n",
    "dat"
   ]
  },
  {
   "cell_type": "markdown",
   "metadata": {},
   "source": [
    "#### Load overdensity data"
   ]
  },
  {
   "cell_type": "code",
   "execution_count": 140,
   "metadata": {
    "collapsed": true
   },
   "outputs": [],
   "source": [
    "directory = '/lustre/scratch/astro/cl478/protoclusters_data/'\n",
    "out_directory ='../'\n",
    "\n",
    "dgal = pcl.load(open(directory+'dgal_stellarMass10_z3p10_r7p0_random.pcl','rb'))"
   ]
  },
  {
   "cell_type": "code",
   "execution_count": 141,
   "metadata": {
    "collapsed": false
   },
   "outputs": [
    {
     "data": {
      "text/plain": [
       "(1, 9, 200000, 4)"
      ]
     },
     "execution_count": 141,
     "metadata": {},
     "output_type": "execute_result"
    }
   ],
   "source": [
    "dgal.shape"
   ]
  },
  {
   "cell_type": "markdown",
   "metadata": {},
   "source": [
    "Evaluate cluster probability ($P_{C}$)\n",
    "\n",
    "The choice of $P_{lim}$ and $C_{lim}$ is complicated by the non-spherical aperture with highly varying depth. We use a constant value for both."
   ]
  },
  {
   "cell_type": "code",
   "execution_count": 162,
   "metadata": {
    "collapsed": true
   },
   "outputs": [],
   "source": [
    "Plim = 0.3\n",
    "Clim = 0.7"
   ]
  },
  {
   "cell_type": "code",
   "execution_count": 184,
   "metadata": {
    "collapsed": false
   },
   "outputs": [
    {
     "data": {
      "text/plain": [
       "'CCPC-z32-002'"
      ]
     },
     "execution_count": 184,
     "metadata": {},
     "output_type": "execute_result"
    }
   ],
   "source": []
  },
  {
   "cell_type": "code",
   "execution_count": 186,
   "metadata": {
    "collapsed": false
   },
   "outputs": [
    {
     "data": {
      "image/png": "[encoded data removed]",
      "text/plain": [
       "<matplotlib.figure.Figure at 0x3e74190>"
      ]
     },
     "metadata": {},
     "output_type": "display_data"
    }
   ],
   "source": [
    "fig, ax = plt.subplots(3,3, figsize=(15,15))\n",
    "\n",
    "ax = ax.flatten()\n",
    "\n",
    "for i in range(9):\n",
    "    plotit(ax[i], dgal, 0, i, axb=None, N=18, clim=Clim, plim=Plim)\n",
    "    ax[i].text(2, 0.9, dat.index.values[i])"
   ]
  },
  {
   "cell_type": "code",
   "execution_count": 187,
   "metadata": {
    "collapsed": false
   },
   "outputs": [
    {
     "data": {
      "text/plain": [
       "array(['CCPC-z27-002', 'CCPC-z29-001', 'CCPC-z29-002', 'CCPC-z30-001',\n",
       "       'CCPC-z30-003', 'CCPC-z31-003', 'CCPC-z31-004', 'CCPC-z31-005',\n",
       "       'CCPC-z32-002', 'CCPC-z33-002', 'CCPC-z35-001', 'CCPC-z36-001'], dtype=object)"
      ]
     },
     "execution_count": 187,
     "metadata": {},
     "output_type": "execute_result"
    }
   ],
   "source": [
    "dat.index.values"
   ]
  },
  {
   "cell_type": "code",
   "execution_count": 117,
   "metadata": {
    "collapsed": false
   },
   "outputs": [],
   "source": [
    "dat.ix['CCPC-z27-002']['protocluster probability'] = 0.62\n",
    "dat.ix['CCPC-z27-002']['high mass probability'] = 0.15\n",
    "\n",
    "dat.ix['CCPC-z29-001']['protocluster probability'] = 0.39\n",
    "dat.ix['CCPC-z29-001']['high mass probability'] = 0.08\n",
    "\n",
    "dat.ix['CCPC-z29-002']['protocluster probability'] = 0.65\n",
    "dat.ix['CCPC-z29-002']['high mass probability'] = 0.15"
   ]
  },
  {
   "cell_type": "code",
   "execution_count": 125,
   "metadata": {
    "collapsed": false
   },
   "outputs": [
    {
     "data": {
      "text/html": [
       "<div>\n",
       "<table border=\"1\" class=\"dataframe\">\n",
       "  <thead>\n",
       "    <tr style=\"text-align: right;\">\n",
       "      <th></th>\n",
       "      <th>redshift</th>\n",
       "      <th>deltaz</th>\n",
       "      <th>deltac</th>\n",
       "      <th>protocluster probability</th>\n",
       "      <th>high mass probability</th>\n",
       "      <th>part probability</th>\n",
       "      <th>nearest snap</th>\n",
       "    </tr>\n",
       "  </thead>\n",
       "  <tbody>\n",
       "    <tr>\n",
       "      <th>CCPC-z27-002</th>\n",
       "      <td>2.772</td>\n",
       "      <td>0.007</td>\n",
       "      <td>5.050439</td>\n",
       "      <td>NaN</td>\n",
       "      <td>NaN</td>\n",
       "      <td>NaN</td>\n",
       "      <td>3.10</td>\n",
       "    </tr>\n",
       "    <tr>\n",
       "      <th>CCPC-z29-001</th>\n",
       "      <td>2.918</td>\n",
       "      <td>0.005</td>\n",
       "      <td>3.415010</td>\n",
       "      <td>NaN</td>\n",
       "      <td>NaN</td>\n",
       "      <td>NaN</td>\n",
       "      <td>3.10</td>\n",
       "    </tr>\n",
       "    <tr>\n",
       "      <th>CCPC-z29-002</th>\n",
       "      <td>2.919</td>\n",
       "      <td>0.009</td>\n",
       "      <td>6.144762</td>\n",
       "      <td>NaN</td>\n",
       "      <td>NaN</td>\n",
       "      <td>NaN</td>\n",
       "      <td>3.10</td>\n",
       "    </tr>\n",
       "    <tr>\n",
       "      <th>CCPC-z30-001</th>\n",
       "      <td>3.035</td>\n",
       "      <td>0.005</td>\n",
       "      <td>3.272476</td>\n",
       "      <td>NaN</td>\n",
       "      <td>NaN</td>\n",
       "      <td>NaN</td>\n",
       "      <td>3.10</td>\n",
       "    </tr>\n",
       "    <tr>\n",
       "      <th>CCPC-z30-003</th>\n",
       "      <td>3.096</td>\n",
       "      <td>0.008</td>\n",
       "      <td>5.123117</td>\n",
       "      <td>NaN</td>\n",
       "      <td>NaN</td>\n",
       "      <td>NaN</td>\n",
       "      <td>3.10</td>\n",
       "    </tr>\n",
       "    <tr>\n",
       "      <th>CCPC-z31-003</th>\n",
       "      <td>3.133</td>\n",
       "      <td>0.008</td>\n",
       "      <td>5.056575</td>\n",
       "      <td>NaN</td>\n",
       "      <td>NaN</td>\n",
       "      <td>NaN</td>\n",
       "      <td>3.10</td>\n",
       "    </tr>\n",
       "    <tr>\n",
       "      <th>CCPC-z31-004</th>\n",
       "      <td>3.146</td>\n",
       "      <td>0.006</td>\n",
       "      <td>3.775142</td>\n",
       "      <td>NaN</td>\n",
       "      <td>NaN</td>\n",
       "      <td>NaN</td>\n",
       "      <td>3.10</td>\n",
       "    </tr>\n",
       "    <tr>\n",
       "      <th>CCPC-z31-005</th>\n",
       "      <td>3.152</td>\n",
       "      <td>0.007</td>\n",
       "      <td>4.395078</td>\n",
       "      <td>NaN</td>\n",
       "      <td>NaN</td>\n",
       "      <td>NaN</td>\n",
       "      <td>3.10</td>\n",
       "    </tr>\n",
       "    <tr>\n",
       "      <th>CCPC-z32-002</th>\n",
       "      <td>3.234</td>\n",
       "      <td>0.003</td>\n",
       "      <td>1.830712</td>\n",
       "      <td>NaN</td>\n",
       "      <td>NaN</td>\n",
       "      <td>NaN</td>\n",
       "      <td>3.10</td>\n",
       "    </tr>\n",
       "    <tr>\n",
       "      <th>CCPC-z33-002</th>\n",
       "      <td>3.372</td>\n",
       "      <td>0.008</td>\n",
       "      <td>4.658643</td>\n",
       "      <td>NaN</td>\n",
       "      <td>NaN</td>\n",
       "      <td>NaN</td>\n",
       "      <td>3.10</td>\n",
       "    </tr>\n",
       "    <tr>\n",
       "      <th>CCPC-z35-001</th>\n",
       "      <td>3.597</td>\n",
       "      <td>0.003</td>\n",
       "      <td>1.623227</td>\n",
       "      <td>NaN</td>\n",
       "      <td>NaN</td>\n",
       "      <td>NaN</td>\n",
       "      <td>3.95</td>\n",
       "    </tr>\n",
       "    <tr>\n",
       "      <th>CCPC-z36-001</th>\n",
       "      <td>3.644</td>\n",
       "      <td>0.003</td>\n",
       "      <td>1.599180</td>\n",
       "      <td>NaN</td>\n",
       "      <td>NaN</td>\n",
       "      <td>NaN</td>\n",
       "      <td>3.95</td>\n",
       "    </tr>\n",
       "  </tbody>\n",
       "</table>\n",
       "</div>"
      ],
      "text/plain": [
       "              redshift  deltaz    deltac  protocluster probability  \\\n",
       "CCPC-z27-002     2.772   0.007  5.050439                       NaN   \n",
       "CCPC-z29-001     2.918   0.005  3.415010                       NaN   \n",
       "CCPC-z29-002     2.919   0.009  6.144762                       NaN   \n",
       "CCPC-z30-001     3.035   0.005  3.272476                       NaN   \n",
       "CCPC-z30-003     3.096   0.008  5.123117                       NaN   \n",
       "CCPC-z31-003     3.133   0.008  5.056575                       NaN   \n",
       "CCPC-z31-004     3.146   0.006  3.775142                       NaN   \n",
       "CCPC-z31-005     3.152   0.007  4.395078                       NaN   \n",
       "CCPC-z32-002     3.234   0.003  1.830712                       NaN   \n",
       "CCPC-z33-002     3.372   0.008  4.658643                       NaN   \n",
       "CCPC-z35-001     3.597   0.003  1.623227                       NaN   \n",
       "CCPC-z36-001     3.644   0.003  1.599180                       NaN   \n",
       "\n",
       "              high mass probability  part probability  nearest snap  \n",
       "CCPC-z27-002                    NaN               NaN          3.10  \n",
       "CCPC-z29-001                    NaN               NaN          3.10  \n",
       "CCPC-z29-002                    NaN               NaN          3.10  \n",
       "CCPC-z30-001                    NaN               NaN          3.10  \n",
       "CCPC-z30-003                    NaN               NaN          3.10  \n",
       "CCPC-z31-003                    NaN               NaN          3.10  \n",
       "CCPC-z31-004                    NaN               NaN          3.10  \n",
       "CCPC-z31-005                    NaN               NaN          3.10  \n",
       "CCPC-z32-002                    NaN               NaN          3.10  \n",
       "CCPC-z33-002                    NaN               NaN          3.10  \n",
       "CCPC-z35-001                    NaN               NaN          3.95  \n",
       "CCPC-z36-001                    NaN               NaN          3.95  "
      ]
     },
     "execution_count": 125,
     "metadata": {},
     "output_type": "execute_result"
    }
   ],
   "source": [
    "dat"
   ]
  },
  {
   "cell_type": "markdown",
   "metadata": {},
   "source": [
    "Calculate descendant mass"
   ]
  },
  {
   "cell_type": "code",
   "execution_count": null,
   "metadata": {
    "collapsed": true
   },
   "outputs": [],
   "source": []
  },
  {
   "cell_type": "code",
   "execution_count": null,
   "metadata": {
    "collapsed": true
   },
   "outputs": [],
   "source": []
  },
  {
   "cell_type": "code",
   "execution_count": null,
   "metadata": {
    "collapsed": true
   },
   "outputs": [],
   "source": []
  }
 ],
 "metadata": {
  "kernelspec": {
   "display_name": "Python 2",
   "language": "python",
   "name": "python2"
  },
  "language_info": {
   "codemirror_mode": {
    "name": "ipython",
    "version": 2
   },
   "file_extension": ".py",
   "mimetype": "text/x-python",
   "name": "python",
   "nbconvert_exporter": "python",
   "pygments_lexer": "ipython2",
   "version": "2.7.5"
  }
 },
 "nbformat": 4,
 "nbformat_minor": 2
}
