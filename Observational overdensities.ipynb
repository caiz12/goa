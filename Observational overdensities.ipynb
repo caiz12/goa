{
 "cells": [
  {
   "cell_type": "markdown",
   "metadata": {},
   "source": [
    "## Observational overdensities\n",
    "\n",
    "Comparison to observed overdensities."
   ]
  },
  {
   "cell_type": "code",
   "execution_count": null,
   "metadata": {
    "collapsed": false
   },
   "outputs": [],
   "source": [
    "import pandas as pd\n",
    "import numpy as np\n",
    "\n",
    "import pickle as pcl\n",
    "\n",
    "%matplotlib inline\n",
    "import matplotlib.pyplot as plt\n",
    "import matplotlib.gridspec as gridspec\n",
    "import matplotlib.patches as mpatches\n",
    "from matplotlib import rc\n",
    "rc('font',**{'family':'sans-serif','sans-serif':['Helvetica']})\n",
    "rc('text', usetex=True)\n",
    "\n",
    "from scipy.optimize import curve_fit\n",
    "\n",
    "from methods import bhattacharyya\n",
    "from methods import plotit\n",
    "\n",
    "from astropy.cosmology import Planck13\n",
    "\n",
    "from methods import z_distort\n",
    "from methods import factor_h\n",
    "from methods import get_protoclusters\n",
    "from methods import label\n",
    "from methods import binit\n",
    "from methods import fit_func\n",
    "from methods import r2\n",
    "from methods import overdensity_cylinder\n",
    "\n",
    "h = 0.673\n",
    "L = 480.279 / h # box side length\n",
    "\n",
    "N = 100000    # number of random regions\n",
    "\n",
    "directory = '/lustre/scratch/astro/cl478/protoclusters_data/'\n",
    "out_directory = 'output/'"
   ]
  },
  {
   "cell_type": "markdown",
   "metadata": {},
   "source": [
    "### Load data"
   ]
  },
  {
   "cell_type": "code",
   "execution_count": null,
   "metadata": {
    "collapsed": false
   },
   "outputs": [
    {
     "name": "stdout",
     "output_type": "stream",
     "text": [
      "0 3p10\n"
     ]
    }
   ],
   "source": [
    "redshifts = ['3p10','3p95']  #,'8p22','8p93','9p72'] '2p07', ,'5p03','5p92','6p97'\n",
    "zees = [float(z.replace('p','.')) for z in redshifts]\n",
    "\n",
    "# gals_sfr = [None] * len(redshifts)\n",
    "gals_mstar = [None] * len(redshifts)\n",
    "\n",
    "for i, z in enumerate(redshifts):\n",
    "    print i, z\n",
    "    \n",
    "#     gals_sfr[i] = pd.read_csv('%shenriques2015a_z%s_sfr_r200.csv'%(directory,z), \n",
    "#                               skiprows=122, skipfooter=1, engine='python')\n",
    "    \n",
    "    gals_mstar[i] = pd.read_csv('%shenriques2015a_z%s_stellarMass_r200.csv'%(directory,z), \n",
    "                                skiprows=122, skipfooter=1, engine='python')"
   ]
  },
  {
   "cell_type": "code",
   "execution_count": null,
   "metadata": {
    "collapsed": false
   },
   "outputs": [],
   "source": [
    "gals_mstar10 = [None] * len(redshifts)\n",
    "\n",
    "for i, z in enumerate(zees):\n",
    "        \n",
    "    gals_mstar[i] = z_distort(factor_h(gals_mstar[i], h), z, L)\n",
    "\n",
    "    gals_mstar10[i] = gals_mstar[i][gals_mstar[i]['zn_stellarMass'] >= 1]\n",
    "\n",
    "#         print \"Filling in NaN values...\"\n",
    "    gals_mstar10[i].ix[np.isnan(gals_mstar10[i]['z0_haloId']), 'z0_haloId'] = -1\n",
    "    gals_mstar10[i].ix[np.isnan(gals_mstar10[i]['z0_centralId']), 'z0_centralId'] = -1\n",
    "    gals_mstar10[i].ix[np.isnan(gals_mstar10[i]['z0_central_mcrit200']), 'z0_central_mcrit200'] = 0\n",
    "    "
   ]
  },
  {
   "cell_type": "markdown",
   "metadata": {},
   "source": [
    "### Franck & McGaugh +16\n",
    "\n",
    "Write protocluster candidate data in to a dataframe for ease of use. Redshift depth given by $z \\pm \\sigma_{z}$."
   ]
  },
  {
   "cell_type": "code",
   "execution_count": null,
   "metadata": {
    "collapsed": true
   },
   "outputs": [],
   "source": [
    "name = ['CCPC-z27-002','CCPC-z29-001','CCPC-z29-002','CCPC-z30-001','CCPC-z30-003','CCPC-z31-003',\n",
    "        'CCPC-z31-004','CCPC-z31-005','CCPC-z32-002','CCPC-z33-002','CCPC-z35-001','CCPC-z36-001']\n",
    "\n",
    "redshift = [2.772,2.918,2.919,3.035,3.096,3.133,3.146,3.152,3.234,3.372,3.597,3.644]\n",
    "deltaz = [0.007,0.005,0.009,0.005,0.008,0.008,0.006,0.007,0.003,0.008,0.003,0.003]"
   ]
  },
  {
   "cell_type": "code",
   "execution_count": null,
   "metadata": {
    "collapsed": false
   },
   "outputs": [],
   "source": [
    "dat = pd.DataFrame(data=[redshift, deltaz]).T\n",
    "dat.index = name\n",
    "dat.columns = ['redshift','deltaz']"
   ]
  },
  {
   "cell_type": "markdown",
   "metadata": {},
   "source": [
    "Calculate $\\Delta z$ in $\\mathrm{cMpc}$"
   ]
  },
  {
   "cell_type": "code",
   "execution_count": null,
   "metadata": {
    "collapsed": false
   },
   "outputs": [],
   "source": [
    "dat['deltac'] = (Planck13.comoving_distance(dat.redshift+dat.deltaz) - \\\n",
    "                 Planck13.comoving_distance(dat.redshift-dat.deltaz)) / 2 # * Planck13.h"
   ]
  },
  {
   "cell_type": "markdown",
   "metadata": {},
   "source": [
    "Add empty columns for calculated protocluster probabilities, and nearest redshift snapshot in Millennium."
   ]
  },
  {
   "cell_type": "code",
   "execution_count": null,
   "metadata": {
    "collapsed": false
   },
   "outputs": [],
   "source": [
    "# dat['protocluster probability'] = pd.Series()\n",
    "# dat['high mass probability'] = pd.Series()\n",
    "# dat['part probability'] = pd.Series()\n",
    "dat['dgal'] = [11.02,11.21,12.91,18.78,12.28,9.80,7.59,17.77,13.11,7.44,10.18,23.50]\n",
    "dat['nearest snap'] = [3.1,3.1,3.1,3.1,3.1,3.1,3.1,3.1,3.1,3.1,3.95,3.95]\n",
    "\n",
    "dat"
   ]
  },
  {
   "cell_type": "markdown",
   "metadata": {},
   "source": [
    "#### Calculate overdensity data\n",
    "\n",
    "Need to calculate overdensity statistics for random regions over the whole box in order to get probabilities. \n",
    "\n",
    "First, find the coordinates of all protoclusters"
   ]
  },
  {
   "cell_type": "code",
   "execution_count": 8,
   "metadata": {
    "collapsed": false
   },
   "outputs": [],
   "source": [
    "group_coods = [None] * len(gals_mstar10)\n",
    "group_coods[0] = get_protoclusters(gals_mstar10[0], L, cluster_lim=1.48e3)\n",
    "group_coods[1] = get_protoclusters(gals_mstar10[1], L, cluster_lim=1.48e3)"
   ]
  },
  {
   "cell_type": "markdown",
   "metadata": {},
   "source": [
    "Use to find limiting completeness and purity, and calculate overdensity stats."
   ]
  },
  {
   "cell_type": "code",
   "execution_count": 28,
   "metadata": {
    "collapsed": false,
    "scrolled": true
   },
   "outputs": [
    {
     "name": "stdout",
     "output_type": "stream",
     "text": [
      "CCPC-z27-002\n",
      "CCPC-z29-001\n",
      "CCPC-z29-002\n",
      "CCPC-z30-001\n",
      "CCPC-z30-003\n",
      "CCPC-z31-003\n",
      "CCPC-z31-004\n",
      "CCPC-z31-005\n",
      "CCPC-z32-002\n",
      "CCPC-z33-002\n",
      "CCPC-z35-001\n",
      "CCPC-z36-001\n"
     ]
    }
   ],
   "source": [
    "# coods = pd.DataFrame(np.random.rand(N,3) * L, columns=['zn_x','zn_y','zn_z']) # generate random regions\n",
    "\n",
    "# out_stats = {str(idx): {'stats': None, 'dgal': None, 'cmass': None, 'clim': None, 'plim': None} \\\n",
    "#                            for idx in dat.index}\n",
    "\n",
    "# gal_idx = [0,0,0,0,0,0,0,0,0,0,1,1]\n",
    "\n",
    "# for didx, gidx in zip(dat.index, gal_idx):\n",
    "#     print didx, gidx\n",
    "\n",
    "#     pc_mask = group_coods[gidx]['clusters']['z0_central_mcrit200'].values > 1.48e4\n",
    "    \n",
    "# #     print 'finding clim and plim' for protoclusters\n",
    "#     c_p = overdensity_cylinder(gals_mstar10[gidx], group_coods[gidx]['coods'], \n",
    "#                         R=10, dc=dat.ix[didx]['deltac'], L=L, pc_stats=True)\n",
    "    \n",
    "#     out_stats[didx]['clim'] = (round(np.percentile(c_p[pc_mask,1], 95),3), \n",
    "#                                round(np.median(c_p[pc_mask,1],3)),\n",
    "#                                round(np.percentile(c_p[pc_mask,1], 5),3))\n",
    "    \n",
    "#     out_stats[didx]['plim'] = (round(np.percentile(c_p[pc_mask,2], 95),3), \n",
    "#                                round(np.median(c_p[pc_mask,2],3)), \n",
    "#                                round(np.percentile(c_p[pc_mask,2], 5),3))\n",
    "    \n",
    "#     out_stats[didx]['dgal'] = c_p[:,0]\n",
    "#     out_stats[didx]['cmass'] = group_coods[gidx]['clusters']['z0_central_mcrit200'].values\n",
    "    \n",
    "# #     print 'calculating stats'\n",
    "#     out_stats[didx]['stats'] = overdensity_cylinder(gals_mstar10[gidx], coods, R=10, \n",
    "#                             dc=dat.ix[didx]['deltac'], L=L, pc_stats=True, verbose=False)\n",
    "    \n",
    "\n",
    "# pcl.dump(out_stats, open('out_stats_obs.p','w'))\n",
    "out_stats = pcl.load(open('out_stats_obs.p','r'))"
   ]
  },
  {
   "cell_type": "markdown",
   "metadata": {},
   "source": [
    "Calculate protocluster probabilities and estimate descendant masses:"
   ]
  },
  {
   "cell_type": "code",
   "execution_count": 81,
   "metadata": {
    "collapsed": false,
    "scrolled": false
   },
   "outputs": [
    {
     "name": "stdout",
     "output_type": "stream",
     "text": [
      " CCPC-z27-002 \n",
      "Clim: (1.0, 1.0, 0.80000000000000004) \n",
      "Plim: (1.0, 0.88888888888888884, 0.54545454545454541) \n",
      "P(dgal): 0.751 \n",
      "\n",
      "R^2: 0.63 \n",
      "M_z=0: 14.47\n",
      "\n",
      "CCPC-z29-001 \n",
      "Clim: (1.0, 1.0, 0.67333333333333334) \n",
      "Plim: (1.0, 1.0, 0.63636363636363635) \n",
      "P(dgal): 0.458 \n",
      "\n",
      "R^2: 0.63 \n",
      "M_z=0: 14.28\n",
      "\n",
      "CCPC-z29-002 \n",
      "Clim: (1.0, 1.0, 0.82085561497326198) \n",
      "Plim: (1.0, 0.8571428571428571, 0.5) \n",
      "P(dgal): 0.830 \n",
      "\n",
      "R^2: 0.61 \n",
      "M_z=0: 14.67\n",
      "\n",
      "CCPC-z30-001 \n",
      "Clim: (1.0, 1.0, 0.66666666666666663) \n",
      "Plim: (1.0, 1.0, 0.66666666666666663) \n",
      "P(dgal): 0.738 \n",
      "\n",
      "R^2: 0.61 \n",
      "M_z=0: 14.61\n",
      "\n",
      "CCPC-z30-003 \n",
      "Clim: (1.0, 1.0, 0.80000000000000004) \n",
      "Plim: (1.0, 0.88888888888888884, 0.54545454545454541) \n",
      "P(dgal): 0.743 \n",
      "\n",
      "R^2: 0.63 \n",
      "M_z=0: 14.55\n",
      "\n",
      "CCPC-z31-003 \n",
      "Clim: (1.0, 1.0, 0.80000000000000004) \n",
      "Plim: (1.0, 0.88888888888888884, 0.54545454545454541) \n",
      "P(dgal): 0.477 \n",
      "\n",
      "R^2: 0.63 \n",
      "M_z=0: 14.39\n",
      "\n",
      "CCPC-z31-004 \n",
      "Clim: (1.0, 1.0, 0.7142857142857143) \n",
      "Plim: (1.0, 1.0, 0.61805555555555558) \n",
      "P(dgal): 0.138 \n",
      "\n",
      "R^2: 0.63 \n",
      "M_z=0: 14.09\n",
      "\n",
      "CCPC-z31-005 \n",
      "Clim: (1.0, 1.0, 0.75) \n",
      "Plim: (1.0, 0.92307692307692313, 0.58333333333333337) \n",
      "P(dgal): 0.859 \n",
      "\n",
      "R^2: 0.64 \n",
      "M_z=0: 14.72\n",
      "\n",
      "CCPC-z32-002 \n",
      "Clim: (1.0, 0.80000000000000004, 0.33333333333333331) \n",
      "Plim: (1.0, 1.0, 0.66666666666666663) \n",
      "P(dgal): 0.240 \n",
      "\n",
      "R^2: 0.49 \n",
      "M_z=0: 14.11\n",
      "\n",
      "CCPC-z33-002 \n",
      "Clim: (1.0, 1.0, 0.77777777777777779) \n",
      "Plim: (1.0, 0.90909090909090906, 0.5714285714285714) \n",
      "P(dgal): 0.416 \n",
      "\n",
      "R^2: 0.63 \n",
      "M_z=0: 14.17\n",
      "\n",
      "CCPC-z35-001 \n",
      "Clim: (1.0, 1.0, 0.0) \n",
      "Plim: (1.0, 1.0, 0.0) \n",
      "P(dgal): 0.011 \n",
      "\n",
      "R^2: 0.32 \n",
      "M_z=0: 13.80\n",
      "\n",
      "CCPC-z36-001 \n",
      "Clim: (1.0, 1.0, 0.0) \n",
      "Plim: (1.0, 1.0, 0.0) \n",
      "P(dgal): 0.721 \n",
      "\n",
      "R^2: 0.31 \n",
      "M_z=0: 14.12\n",
      "\n"
     ]
    }
   ],
   "source": [
    "for idx in dat.index:  # loop through observational candidates\n",
    "    \n",
    "    ### Protocluster Probability \n",
    "    if out_stats[idx]['clim'][2] == 0.: clim = 0.01\n",
    "    else: clim = out_stats[idx]['clim'][2]\n",
    "        \n",
    "    if out_stats[idx]['plim'][2] == 0.: plim = 0.01\n",
    "    else: plim = out_stats[idx]['plim'][2]\n",
    "    \n",
    "    labs, labels = label(out_stats[idx]['stats'], clim=clim, plim=plim)\n",
    "\n",
    "    bins, binLimits, agg, agg_total, fracs = binit(out_stats[idx]['stats'], labs, labels)\n",
    "    \n",
    "    dgal = dat.ix[idx]['dgal']\n",
    "    keys = labels[:4]\n",
    "    \n",
    "    print idx, \"\\nClim:\", out_stats[idx]['clim'], \"\\nPlim:\", out_stats[idx]['plim'], \"\\nP(dgal): %.3f\"%\\\n",
    "    np.sum([fracs[key] for key in keys], axis=0)[np.where(binLimits < dgal)[0].max()], \"\\n\"\n",
    "    \n",
    "    ### Descendant Mass Estimate \n",
    "    fit_mask = out_stats[idx]['dgal'] > 4.5\n",
    "\n",
    "    x = np.zeros((out_stats[idx]['dgal'].shape[0], 2))  # create feature array\n",
    "\n",
    "    x[:,0] = out_stats[idx]['dgal']\n",
    "    x[:,1] = dat.ix[idx]['redshift']\n",
    "\n",
    "    popt, pcov = curve_fit(fit_func, x[fit_mask,:].T, out_stats[idx]['cmass'][fit_mask], maxfev=20000)\n",
    "    \n",
    "    print \"R^2: %.2f \\nM_z=0: %.2f\\n\"%(r2(out_stats[idx]['cmass'][fit_mask], fit_func(x[fit_mask,:].T, popt[0], popt[1], popt[2], popt[3])),\\\n",
    "    np.log10(fit_func(dat.ix[idx][['dgal','redshift']], popt[0], popt[1], popt[2], popt[3]) * 1e10))\n",
    "    "
   ]
  },
  {
   "cell_type": "code",
   "execution_count": 30,
   "metadata": {
    "collapsed": false
   },
   "outputs": [
    {
     "data": {
      "text/plain": [
       "[<matplotlib.lines.Line2D at 0x9330710>]"
      ]
     },
     "execution_count": 30,
     "metadata": {},
     "output_type": "execute_result"
    },
    {
     "data": {
      "image/png": "[encoded data removed]",
      "text/plain": [
       "<matplotlib.figure.Figure at 0x56716d0>"
      ]
     },
     "metadata": {},
     "output_type": "display_data"
    }
   ],
   "source": [
    "plt.plot(x[fit_mask,0], out_stats[didx]['cmass'][fit_mask], '.')\n",
    "plt.semilogy(x[fit_mask,0], fit_func(x[fit_mask,:].T, popt[0], popt[1], popt[2], popt[3]), '.')"
   ]
  },
  {
   "cell_type": "code",
   "execution_count": null,
   "metadata": {
    "collapsed": true
   },
   "outputs": [],
   "source": []
  }
 ],
 "metadata": {
  "kernelspec": {
   "display_name": "Python 2",
   "language": "python",
   "name": "python2"
  },
  "language_info": {
   "codemirror_mode": {
    "name": "ipython",
    "version": 2
   },
   "file_extension": ".py",
   "mimetype": "text/x-python",
   "name": "python",
   "nbconvert_exporter": "python",
   "pygments_lexer": "ipython2",
   "version": "2.7.5"
  }
 },
 "nbformat": 4,
 "nbformat_minor": 2
}
