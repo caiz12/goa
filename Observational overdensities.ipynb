{
 "cells": [
  {
   "cell_type": "markdown",
   "metadata": {},
   "source": [
    "## Observational overdensities\n",
    "\n",
    "Comparison to observed overdensities."
   ]
  },
  {
   "cell_type": "code",
   "execution_count": 14,
   "metadata": {
    "collapsed": true
   },
   "outputs": [],
   "source": [
    "import pandas as pd\n",
    "import numpy as np\n",
    "\n",
    "import pickle as pcl\n",
    "\n",
    "%matplotlib inline\n",
    "import matplotlib.pyplot as plt\n",
    "import matplotlib.gridspec as gridspec\n",
    "import matplotlib.patches as mpatches\n",
    "from matplotlib import rc\n",
    "rc('font',**{'family':'sans-serif','sans-serif':['Helvetica']})\n",
    "rc('text', usetex=True)\n",
    "\n",
    "from scipy.optimize import curve_fit\n",
    "\n",
    "from methods import bhattacharyya\n",
    "from methods import plotit\n",
    "\n",
    "from astropy.cosmology import Planck13\n",
    "\n",
    "from methods import z_distort\n",
    "from methods import factor_h\n",
    "from methods import get_protoclusters\n",
    "from methods import label\n",
    "from methods import binit\n",
    "from methods import fit_func\n",
    "from methods import r2\n",
    "from methods import overdensity_cylinder\n",
    "\n",
    "h = 0.673\n",
    "L = 480.279 / h # box side length\n",
    "\n",
    "N = 100000    # number of random regions\n",
    "\n",
    "directory = '/lustre/scratch/astro/cl478/protoclusters_data/'\n",
    "out_directory = 'output/'"
   ]
  },
  {
   "cell_type": "markdown",
   "metadata": {},
   "source": [
    "### Load data"
   ]
  },
  {
   "cell_type": "code",
   "execution_count": 73,
   "metadata": {
    "scrolled": true
   },
   "outputs": [
    {
     "name": "stdout",
     "output_type": "stream",
     "text": [
      "0 2p07\n",
      "1 3p10\n",
      "2 3p95\n",
      "3 5p03\n",
      "4 5p92\n"
     ]
    }
   ],
   "source": [
    "redshifts = ['2p07','3p10','3p95','5p03','5p92']  #,'8p22','8p93','9p72'] , ,,,'6p97'\n",
    "zees = [float(z.replace('p','.')) for z in redshifts]\n",
    "\n",
    "gals_sfr = [None] * len(redshifts)\n",
    "gals_mstar = [None] * len(redshifts)\n",
    "\n",
    "for i, (z, zed) in enumerate(zip(redshifts, zees)):\n",
    "    print i, z\n",
    "    \n",
    "    gals_sfr[i] = z_distort(factor_h(pd.read_csv('%shenriques2015a_z%s_sfr_r200.csv'%(directory,z), \n",
    "                              skiprows=122, skipfooter=1, engine='python'), h), zed, L)\n",
    "    \n",
    "#     gals_mstar[i] = z_distort(factor_h(pd.read_csv('%shenriques2015a_z%s_stellarMass_r200.csv'%(directory,z), \n",
    "#                                 skiprows=122, skipfooter=1, engine='python'), h), z, L)\n",
    "    "
   ]
  },
  {
   "cell_type": "code",
   "execution_count": null,
   "metadata": {
    "collapsed": true
   },
   "outputs": [],
   "source": [
    "# gals_mstar10 = [None] * len(redshifts)\n",
    "\n",
    "# for i, z in enumerate(zees):\n",
    "        \n",
    "# #     gals_mstar[i] = z_distort(factor_h(gals_mstar[i], h), z, L)\n",
    "\n",
    "#     gals_mstar10[i] = gals_mstar[i][gals_mstar[i]['zn_stellarMass'] >= 1]\n",
    "\n",
    "# #         print \"Filling in NaN values...\"\n",
    "#     gals_mstar10[i].ix[np.isnan(gals_mstar10[i]['z0_haloId']), 'z0_haloId'] = -1\n",
    "#     gals_mstar10[i].ix[np.isnan(gals_mstar10[i]['z0_centralId']), 'z0_centralId'] = -1\n",
    "#     gals_mstar10[i].ix[np.isnan(gals_mstar10[i]['z0_central_mcrit200']), 'z0_central_mcrit200'] = 0\n",
    "    "
   ]
  },
  {
   "cell_type": "markdown",
   "metadata": {},
   "source": [
    "### Franck & McGaugh +16\n",
    "\n",
    "Write protocluster candidate data in to a dataframe for ease of use. Redshift depth given by $z \\pm \\sigma_{z}$."
   ]
  },
  {
   "cell_type": "code",
   "execution_count": null,
   "metadata": {
    "collapsed": true
   },
   "outputs": [],
   "source": [
    "name = ['CCPC-z27-002','CCPC-z29-001','CCPC-z29-002','CCPC-z30-001','CCPC-z30-003','CCPC-z31-003',\n",
    "        'CCPC-z31-004','CCPC-z31-005','CCPC-z32-002','CCPC-z33-002','CCPC-z35-001','CCPC-z36-001']\n",
    "\n",
    "redshift = [2.772,2.918,2.919,3.035,3.096,3.133,3.146,3.152,3.234,3.372,3.597,3.644]\n",
    "deltaz = [0.007,0.005,0.009,0.005,0.008,0.008,0.006,0.007,0.003,0.008,0.003,0.003]"
   ]
  },
  {
   "cell_type": "code",
   "execution_count": null,
   "metadata": {
    "collapsed": true
   },
   "outputs": [],
   "source": [
    "dat = pd.DataFrame(data=[redshift, deltaz]).T\n",
    "dat.index = name\n",
    "dat.columns = ['redshift','deltaz']"
   ]
  },
  {
   "cell_type": "markdown",
   "metadata": {},
   "source": [
    "Calculate $\\Delta z$ in $\\mathrm{cMpc}$"
   ]
  },
  {
   "cell_type": "code",
   "execution_count": null,
   "metadata": {
    "collapsed": true
   },
   "outputs": [],
   "source": [
    "dat['deltac'] = (Planck13.comoving_distance(dat.redshift+dat.deltaz) - \\\n",
    "                 Planck13.comoving_distance(dat.redshift-dat.deltaz)) / 2 # * Planck13.h"
   ]
  },
  {
   "cell_type": "markdown",
   "metadata": {},
   "source": [
    "Add empty columns for calculated protocluster probabilities, and nearest redshift snapshot in Millennium."
   ]
  },
  {
   "cell_type": "code",
   "execution_count": null,
   "metadata": {
    "collapsed": true
   },
   "outputs": [],
   "source": [
    "# dat['protocluster probability'] = pd.Series()\n",
    "# dat['high mass probability'] = pd.Series()\n",
    "# dat['part probability'] = pd.Series()\n",
    "dat['dgal'] = [11.02,11.21,12.91,18.78,12.28,9.80,7.59,17.77,13.11,7.44,10.18,23.50]\n",
    "dat['nearest snap'] = [3.1,3.1,3.1,3.1,3.1,3.1,3.1,3.1,3.1,3.1,3.95,3.95]\n",
    "\n",
    "dat"
   ]
  },
  {
   "cell_type": "markdown",
   "metadata": {},
   "source": [
    "#### Calculate overdensity data\n",
    "\n",
    "Need to calculate overdensity statistics for random regions over the whole box in order to get probabilities. \n",
    "\n",
    "First, find the coordinates of all protoclusters"
   ]
  },
  {
   "cell_type": "code",
   "execution_count": 8,
   "metadata": {
    "collapsed": true
   },
   "outputs": [],
   "source": [
    "group_coods = [None] * len(gals_mstar10)\n",
    "group_coods[0] = get_protoclusters(gals_mstar10[0], L, cluster_lim=1e3)\n",
    "group_coods[1] = get_protoclusters(gals_mstar10[1], L, cluster_lim=1e3)"
   ]
  },
  {
   "cell_type": "markdown",
   "metadata": {},
   "source": [
    "Use to find limiting completeness and purity, and calculate overdensity stats."
   ]
  },
  {
   "cell_type": "code",
   "execution_count": 127,
   "metadata": {
    "scrolled": true
   },
   "outputs": [],
   "source": [
    "# coods = pd.DataFrame(np.random.rand(N,3) * L, columns=['zn_x','zn_y','zn_z']) # generate random regions\n",
    "\n",
    "# out_stats = {str(idx): {'stats': None, 'dgal': None, 'cmass': None, 'clim': None, 'plim': None} \\\n",
    "#                            for idx in dat.index}\n",
    "\n",
    "# gal_idx = [0,0,0,0,0,0,0,0,0,0,1,1]\n",
    "\n",
    "# for didx, gidx in zip(dat.index, gal_idx):\n",
    "#     print didx, gidx\n",
    "\n",
    "#     pc_mask = group_coods[gidx]['clusters']['z0_central_mcrit200'].values > 1e4\n",
    "    \n",
    "# #     print 'finding clim and plim' for protoclusters\n",
    "#     c_p = overdensity_cylinder(gals_mstar10[gidx], group_coods[gidx]['coods'], \n",
    "#                         R=10, dc=dat.ix[didx]['deltac'], L=L, pc_stats=True)\n",
    "    \n",
    "#     out_stats[didx]['clim'] = (round(np.percentile(c_p[pc_mask,1], 95),3), \n",
    "#                                round(np.median(c_p[pc_mask,1],3)),\n",
    "#                                round(np.percentile(c_p[pc_mask,1], 5),3))\n",
    "    \n",
    "#     out_stats[didx]['plim'] = (round(np.percentile(c_p[pc_mask,2], 95),3), \n",
    "#                                round(np.median(c_p[pc_mask,2],3)), \n",
    "#                                round(np.percentile(c_p[pc_mask,2], 5),3))\n",
    "    \n",
    "#     out_stats[didx]['dgal'] = c_p[:,0]\n",
    "#     out_stats[didx]['cmass'] = group_coods[gidx]['clusters']['z0_central_mcrit200'].values\n",
    "    \n",
    "# #     print 'calculating stats'\n",
    "#     out_stats[didx]['stats'] = overdensity_cylinder(gals_mstar10[gidx], coods, R=10, \n",
    "#                             dc=dat.ix[didx]['deltac'], L=L, pc_stats=True, verbose=False)\n",
    "    \n",
    "\n",
    "# pcl.dump(out_stats, open('out_stats_obs.p','w'))\n",
    "out_stats = pcl.load(open('out_stats_obs.p','r'))"
   ]
  },
  {
   "cell_type": "code",
   "execution_count": 132,
   "metadata": {},
   "outputs": [
    {
     "data": {
      "text/plain": [
       "array([ 11.51535319,   2.8508779 ,  11.51535319, ...,  -0.03728052,\n",
       "        -0.03728052,   0.92543895])"
      ]
     },
     "execution_count": 132,
     "metadata": {},
     "output_type": "execute_result"
    }
   ],
   "source": [
    "out_stats['CCPC-z27-002']['dgal']"
   ]
  },
  {
   "cell_type": "markdown",
   "metadata": {},
   "source": [
    "Calculate protocluster probabilities and estimate descendant masses:"
   ]
  },
  {
   "cell_type": "code",
   "execution_count": 81,
   "metadata": {
    "scrolled": true
   },
   "outputs": [
    {
     "name": "stdout",
     "output_type": "stream",
     "text": [
      " CCPC-z27-002 \n",
      "Clim: (1.0, 1.0, 0.80000000000000004) \n",
      "Plim: (1.0, 0.88888888888888884, 0.54545454545454541) \n",
      "P(dgal): 0.751 \n",
      "\n",
      "R^2: 0.63 \n",
      "M_z=0: 14.47\n",
      "\n",
      "CCPC-z29-001 \n",
      "Clim: (1.0, 1.0, 0.67333333333333334) \n",
      "Plim: (1.0, 1.0, 0.63636363636363635) \n",
      "P(dgal): 0.458 \n",
      "\n",
      "R^2: 0.63 \n",
      "M_z=0: 14.28\n",
      "\n",
      "CCPC-z29-002 \n",
      "Clim: (1.0, 1.0, 0.82085561497326198) \n",
      "Plim: (1.0, 0.8571428571428571, 0.5) \n",
      "P(dgal): 0.830 \n",
      "\n",
      "R^2: 0.61 \n",
      "M_z=0: 14.67\n",
      "\n",
      "CCPC-z30-001 \n",
      "Clim: (1.0, 1.0, 0.66666666666666663) \n",
      "Plim: (1.0, 1.0, 0.66666666666666663) \n",
      "P(dgal): 0.738 \n",
      "\n",
      "R^2: 0.61 \n",
      "M_z=0: 14.61\n",
      "\n",
      "CCPC-z30-003 \n",
      "Clim: (1.0, 1.0, 0.80000000000000004) \n",
      "Plim: (1.0, 0.88888888888888884, 0.54545454545454541) \n",
      "P(dgal): 0.743 \n",
      "\n",
      "R^2: 0.63 \n",
      "M_z=0: 14.55\n",
      "\n",
      "CCPC-z31-003 \n",
      "Clim: (1.0, 1.0, 0.80000000000000004) \n",
      "Plim: (1.0, 0.88888888888888884, 0.54545454545454541) \n",
      "P(dgal): 0.477 \n",
      "\n",
      "R^2: 0.63 \n",
      "M_z=0: 14.39\n",
      "\n",
      "CCPC-z31-004 \n",
      "Clim: (1.0, 1.0, 0.7142857142857143) \n",
      "Plim: (1.0, 1.0, 0.61805555555555558) \n",
      "P(dgal): 0.138 \n",
      "\n",
      "R^2: 0.63 \n",
      "M_z=0: 14.09\n",
      "\n",
      "CCPC-z31-005 \n",
      "Clim: (1.0, 1.0, 0.75) \n",
      "Plim: (1.0, 0.92307692307692313, 0.58333333333333337) \n",
      "P(dgal): 0.859 \n",
      "\n",
      "R^2: 0.64 \n",
      "M_z=0: 14.72\n",
      "\n",
      "CCPC-z32-002 \n",
      "Clim: (1.0, 0.80000000000000004, 0.33333333333333331) \n",
      "Plim: (1.0, 1.0, 0.66666666666666663) \n",
      "P(dgal): 0.240 \n",
      "\n",
      "R^2: 0.49 \n",
      "M_z=0: 14.11\n",
      "\n",
      "CCPC-z33-002 \n",
      "Clim: (1.0, 1.0, 0.77777777777777779) \n",
      "Plim: (1.0, 0.90909090909090906, 0.5714285714285714) \n",
      "P(dgal): 0.416 \n",
      "\n",
      "R^2: 0.63 \n",
      "M_z=0: 14.17\n",
      "\n",
      "CCPC-z35-001 \n",
      "Clim: (1.0, 1.0, 0.0) \n",
      "Plim: (1.0, 1.0, 0.0) \n",
      "P(dgal): 0.011 \n",
      "\n",
      "R^2: 0.32 \n",
      "M_z=0: 13.80\n",
      "\n",
      "CCPC-z36-001 \n",
      "Clim: (1.0, 1.0, 0.0) \n",
      "Plim: (1.0, 1.0, 0.0) \n",
      "P(dgal): 0.721 \n",
      "\n",
      "R^2: 0.31 \n",
      "M_z=0: 14.12\n",
      "\n"
     ]
    }
   ],
   "source": [
    "for idx in dat.index:  # loop through observational candidates\n",
    "    \n",
    "    ### Protocluster Probability \n",
    "    if out_stats[idx]['clim'][2] == 0.: clim = 0.01\n",
    "    else: clim = out_stats[idx]['clim'][2]\n",
    "        \n",
    "    if out_stats[idx]['plim'][2] == 0.: plim = 0.01\n",
    "    else: plim = out_stats[idx]['plim'][2]\n",
    "    \n",
    "    labs, labels = label(out_stats[idx]['stats'], clim=clim, plim=plim)\n",
    "\n",
    "    bins, binLimits, agg, agg_total, fracs = binit(out_stats[idx]['stats'], labs, labels)\n",
    "    \n",
    "    dgal = dat.ix[idx]['dgal']\n",
    "    keys = labels[:4]\n",
    "    \n",
    "    print idx, \"\\nClim:\", out_stats[idx]['clim'], \"\\nPlim:\", out_stats[idx]['plim'], \"\\nP(dgal): %.3f\"%\\\n",
    "    np.sum([fracs[key] for key in keys], axis=0)[np.where(binLimits < dgal)[0].max()], \"\\n\"\n",
    "    \n",
    "    ### Descendant Mass Estimate \n",
    "    fit_mask = out_stats[idx]['dgal'] > 4.5\n",
    "\n",
    "    x = np.zeros((out_stats[idx]['dgal'].shape[0], 2))  # create feature array\n",
    "\n",
    "    x[:,0] = out_stats[idx]['dgal']\n",
    "    x[:,1] = dat.ix[idx]['redshift']\n",
    "\n",
    "    popt, pcov = curve_fit(fit_func, x[fit_mask,:].T, out_stats[idx]['cmass'][fit_mask], maxfev=20000)\n",
    "    \n",
    "    print \"R^2: %.2f \\nM_z=0: %.2f\\n\"%(r2(out_stats[idx]['cmass'][fit_mask], fit_func(x[fit_mask,:].T, popt[0], popt[1], popt[2], popt[3])),\\\n",
    "    np.log10(fit_func(dat.ix[idx][['dgal','redshift']], popt[0], popt[1], popt[2], popt[3]) * 1e10))\n",
    "    "
   ]
  },
  {
   "cell_type": "code",
   "execution_count": 30,
   "metadata": {},
   "outputs": [
    {
     "data": {
      "text/plain": [
       "[<matplotlib.lines.Line2D at 0x9330710>]"
      ]
     },
     "execution_count": 30,
     "metadata": {},
     "output_type": "execute_result"
    },
    {
     "data": {
      "image/png": "[encoded data removed]",
      "text/plain": [
       "<matplotlib.figure.Figure at 0x56716d0>"
      ]
     },
     "metadata": {},
     "output_type": "display_data"
    }
   ],
   "source": [
    "plt.plot(x[fit_mask,0], out_stats[didx]['cmass'][fit_mask], '.')\n",
    "plt.semilogy(x[fit_mask,0], fit_func(x[fit_mask,:].T, popt[0], popt[1], popt[2], popt[3]), '.')"
   ]
  },
  {
   "cell_type": "markdown",
   "metadata": {},
   "source": [
    "### Chiang+13\n",
    "\n",
    "Raw data"
   ]
  },
  {
   "cell_type": "code",
   "execution_count": 169,
   "metadata": {},
   "outputs": [],
   "source": [
    "chiang13 = {'PKS 1138–262-Lya': {'z': 2.16, 'near_snap': 0, 'sample': 'Lya', 'window': 49, \n",
    "                                 'deltaz': 0.053, 'dgal_chiang': (3,2,2), 'mass_chiang': 3.5},\n",
    "            'PKS 1138–262-Ha': {'z': 2.16, 'near_snap': 0, 'sample': 'Ha', 'window': 49, \n",
    "                                'deltaz': 0.041, 'dgal_chiang': None, 'mass_chiang': None},\n",
    "            'HS1700–FLD': {'z': 2.30, 'near_snap': 0, 'sample': 'BX', 'window': 64, \n",
    "                           'deltaz': 0.03, 'dgal_chiang': (6.9,2.1,2.1), 'mass_chiang': 14},\n",
    "            '4C 10.48': {'z': 2.35, 'near_snap': 0, 'sample': 'Ha', 'window': 6.25, \n",
    "                         'deltaz': 0.046, 'dgal_chiang': (11,2,2), 'mass_chiang': None},\n",
    "            'J2143−4423': {'z': 2.38, 'near_snap': 0, 'sample': 'Lya', 'window': 1936, \n",
    "                           'deltaz': 0.044, 'dgal_chiang': (5.8,2.5,2.5), 'mass_chiang': None},\n",
    "            '4C 23.56': {'z': 2.48, 'near_snap': 0, 'sample': 'Ha', 'window': 28, \n",
    "                         'deltaz': 0.035, 'dgal_chiang': (4.3,5.3,2.6), 'mass_chiang': None},\n",
    "            'USS 1558−003': {'z': 2.53, 'near_snap': 1, 'sample': 'Ha', 'window': 28, \n",
    "                             'deltaz': 0.041, 'dgal_chiang': None, 'mass_chiang': None},\n",
    "           'LABd05': {'z': 2.7, 'near_snap': 1, 'sample': 'Lya', 'window': 308, \n",
    "                      'deltaz': 0.165, 'dgal_chiang': (2,0,0), 'mass_chiang': None},\n",
    "#            'HS1549': {'z': 2.85, 'near_snap': 1, 'sample': 'LBG', 'window': None, \n",
    "#                       'deltaz': 0.060, 'dgal_chiang': (5,0,0), 'mass_chiang': None},\n",
    "           'MRC 0052–241': {'z': 2.86, 'near_snap': 1, 'sample': 'Lya', 'window': 49, \n",
    "                            'deltaz': 0.054, 'dgal_chiang': (2,.5,.4), 'mass_chiang': 3.5},\n",
    "           'MRC 0943–242': {'z': 2.92, 'near_snap': 1, 'sample': 'Lya', 'window': 49, \n",
    "                            'deltaz': 0.056, 'dgal_chiang': (2.2,.9,.7), 'mass_chiang': 4.5},\n",
    "           'SSA22–FLD-LBG': {'z': 3.09, 'near_snap': 1, 'sample': 'LBG', 'window': 103.5, \n",
    "                             'deltaz': 0.034, 'dgal_chiang': (3.6,1.4,1.2), 'mass_chiang': 12},\n",
    "            'SSA22–FLD-Lya': {'z': 3.09, 'near_snap': 1, 'sample': 'Lya', 'window': 81, \n",
    "                              'deltaz': 0.066, 'dgal_chiang': (5,2,2), 'mass_chiang': None},\n",
    "           'MRC 0316–257': {'z': 3.13, 'near_snap': 1, 'sample': 'Lya', 'window': 49, \n",
    "                            'deltaz': 0.049, 'dgal_chiang': (2.3,.5,4), 'mass_chiang': 4},\n",
    "           'TN J2009–3040': {'z': 3.16, 'near_snap': 1, 'sample': 'Lya', 'window': 49, \n",
    "                             'deltaz': 0.049, 'dgal_chiang': (.7,.8,.6), 'mass_chiang': None},\n",
    "           'TN J1338–1942-Lya': {'z': 4.11, 'near_snap': 2, 'sample': 'Lya', 'window': 49, \n",
    "                                 'deltaz': 0.049, 'dgal_chiang': (3.7,1.0,.8), 'mass_chiang': 7.5},\n",
    "            'TN J1338–1942-LBG': {'z': 4.11, 'near_snap': 2, 'sample': 'LBG', 'window': 11.56, \n",
    "                                  'deltaz': 0.6, 'dgal_chiang': (1.5,.3,.3), 'mass_chiang': None},\n",
    "           '6C 0140+326': {'z': 4.41, 'near_snap': 2, 'sample': 'Lya', 'window': 100, \n",
    "                           'deltaz': 0.04, 'dgal_chiang': (8,5,5), 'mass_chiang': 1.85},\n",
    "           'SDF-03': {'z': 4.86, 'near_snap': 3, 'sample': 'Lya', 'window': 100, \n",
    "                      'deltaz': 0.06, 'dgal_chiang': (2,1,2), 'mass_chiang': 3},\n",
    "           'TN J0924–2201-Lya': {'z': 5.19, 'near_snap': 3, 'sample': 'Lya', 'window': 49, \n",
    "                                 'deltaz': 0.073, 'dgal_chiang': (1.5,1.6,1.0), 'mass_chiang': 6.5},\n",
    "           'TN J0924–2201-LBG': {'z': 5.19, 'near_snap': 3, 'sample': 'LBG', 'window': 11.56, \n",
    "                                 'deltaz': 0.7, 'dgal_chiang': (1,.5,.5), 'mass_chiang': None},\n",
    "#            'COSMOS AzTEC03': {'z': 5.30, 'sample': 'SMG', 'window': 1, \n",
    "#                               'deltaz': None, 'dgal_chiang': None, 'mass_chiang': None},\n",
    "           'SXDF-Object “A”': {'z': 5.70, 'near_snap': 4, 'sample': 'Lya', 'window': 36, \n",
    "                               'deltaz': 0.099, 'dgal_chiang': (3.3,.9,.9), 'mass_chiang': 2},\n",
    "           'SDF-12': {'z': 6.01, 'near_snap': 4, 'sample': 'LBG', 'window': 36, \n",
    "                      'deltaz': 0.05, 'dgal_chiang': (16,7,7), 'mass_chiang': 3},\n",
    "           'CFHQSJ2329−0301': {'z': 6.43, 'near_snap': 4, 'sample': 'LBG', 'window': 918, \n",
    "                               'deltaz': 1.0, 'dgal_chiang': (6,0,0), 'mass_chiang': None}}"
   ]
  },
  {
   "cell_type": "markdown",
   "metadata": {},
   "source": [
    "Alterations:"
   ]
  },
  {
   "cell_type": "code",
   "execution_count": 75,
   "metadata": {},
   "outputs": [],
   "source": [
    "# chiang13['COSMOS AzTEC03']['deltaz'] = "
   ]
  },
  {
   "cell_type": "markdown",
   "metadata": {},
   "source": [
    "$\\Delta{z}$ in $\\mathrm{cMpc}$:"
   ]
  },
  {
   "cell_type": "code",
   "execution_count": 197,
   "metadata": {},
   "outputs": [],
   "source": [
    "for key, value in chiang13.iteritems():\n",
    "#     print key\n",
    "    \n",
    "    chiang13[key]['deltac'] = ((Planck13.comoving_distance(value['z'] + value['deltaz']) - \\\n",
    "     Planck13.comoving_distance(value['z'] - value['deltaz'])) / 2).value\n",
    "    \n",
    "    chiang13[key]['R'] = np.sqrt(chiang13[key]['window'] / np.pi) * \\\n",
    "        Planck13.kpc_comoving_per_arcmin(value['z']).value / 1e3 # cMpc\n",
    "     "
   ]
  },
  {
   "cell_type": "code",
   "execution_count": 198,
   "metadata": {},
   "outputs": [
    {
     "name": "stdout",
     "output_type": "stream",
     "text": [
      "{'deltaz': 0.165, 'near_snap': 1, 'mass_chiang': None, 'sample': 'Lya', 'window': 308, 'deltac': 180.7991978181335, 'R': 17.854346013989957, 'z': 2.7, 'dgal_chiang': (2, 0, 0)}\n",
      "LABd05\n"
     ]
    }
   ],
   "source": [
    "print chiang13[key]\n",
    "print key"
   ]
  },
  {
   "cell_type": "markdown",
   "metadata": {},
   "source": [
    "Find protocluster coordinates in order to calculate $C_{lim}$ and $P_{lim}$ statistics."
   ]
  },
  {
   "cell_type": "code",
   "execution_count": 87,
   "metadata": {},
   "outputs": [],
   "source": [
    "group_coods = {z: None for z in zees}\n",
    "\n",
    "for i, z in enumerate(zees):\n",
    "    group_coods[z] = get_protoclusters(gals_sfr[i], L)\n",
    "    "
   ]
  },
  {
   "cell_type": "code",
   "execution_count": 93,
   "metadata": {
    "collapsed": true
   },
   "outputs": [],
   "source": [
    "coods = pd.DataFrame(np.random.rand(N,3) * L, columns=['zn_x','zn_y','zn_z']) # generate random regions"
   ]
  },
  {
   "cell_type": "code",
   "execution_count": null,
   "metadata": {},
   "outputs": [
    {
     "name": "stdout",
     "output_type": "stream",
     "text": [
      "MRC 0316–257\n",
      "finding clim and plim\n",
      "Building KDtree...\n",
      "2.61 %\n",
      "calculating stats\n",
      "Building KDtree...\n",
      "0.1 %\n",
      "10.1 %\n"
     ]
    }
   ],
   "source": [
    "for key, value in chiang13.iteritems():\n",
    "    \n",
    "    print key\n",
    "    \n",
    "    gidx = value['near_snap']\n",
    "    \n",
    "    pc_mask = group_coods[zees[gidx]]['clusters']['z0_central_mcrit200'].values > 1e4\n",
    "    \n",
    "    print 'finding clim and plim'\n",
    "    c_p = overdensity_cylinder(gals_sfr[gidx], group_coods[zees[gidx]]['coods'], \n",
    "                        R=chiang13[key]['R'], dc=value['deltac'], L=L, pc_stats=True, verbose=True)\n",
    "    \n",
    "    chiang13[key]['clim'] = (round(np.percentile(c_p[pc_mask,1], 95),3), \n",
    "                               round(np.median(c_p[pc_mask,1]),3),\n",
    "                               round(np.percentile(c_p[pc_mask,1], 5),3))\n",
    "    \n",
    "    chiang13[key]['plim'] = (round(np.percentile(c_p[pc_mask,2], 95),3), \n",
    "                               round(np.median(c_p[pc_mask,2]),3), \n",
    "                               round(np.percentile(c_p[pc_mask,2], 5),3))\n",
    "    \n",
    "    chiang13[key]['dgal'] = c_p[:,0]\n",
    "    chiang13[key]['mass'] = group_coods[zees[gidx]]['clusters']['z0_central_mcrit200'].values\n",
    "    \n",
    "    print 'calculating stats'\n",
    "    chiang13[key]['stats'] = overdensity_cylinder(gals_sfr[gidx], coods, R=chiang13[key]['R'],\n",
    "                            dc=chiang13[key]['deltac'], L=L, pc_stats=True, verbose=True)\n",
    "    \n",
    "    \n",
    "# pcl.dump(out_stats, open('out_stats_obs_chiang13.p','w'))\n",
    "# out_stats = pcl.load(open('out_stats_obs_chiang13.p','r'))"
   ]
  },
  {
   "cell_type": "code",
   "execution_count": null,
   "metadata": {
    "collapsed": true
   },
   "outputs": [],
   "source": []
  },
  {
   "cell_type": "code",
   "execution_count": 201,
   "metadata": {},
   "outputs": [
    {
     "ename": "KeyError",
     "evalue": "'clim'",
     "output_type": "error",
     "traceback": [
      "\u001b[0;31m---------------------------------------------------------------------------\u001b[0m",
      "\u001b[0;31mKeyError\u001b[0m                                  Traceback (most recent call last)",
      "\u001b[0;32m<ipython-input-201-f26d037f0773>\u001b[0m in \u001b[0;36m<module>\u001b[0;34m()\u001b[0m\n\u001b[1;32m      2\u001b[0m \u001b[0;34m\u001b[0m\u001b[0m\n\u001b[1;32m      3\u001b[0m     \u001b[0;31m### Protocluster Probability\u001b[0m\u001b[0;34m\u001b[0m\u001b[0;34m\u001b[0m\u001b[0m\n\u001b[0;32m----> 4\u001b[0;31m     \u001b[0;32mif\u001b[0m \u001b[0mchiang13\u001b[0m\u001b[0;34m[\u001b[0m\u001b[0mkey\u001b[0m\u001b[0;34m]\u001b[0m\u001b[0;34m[\u001b[0m\u001b[0;34m'clim'\u001b[0m\u001b[0;34m]\u001b[0m\u001b[0;34m[\u001b[0m\u001b[0;36m2\u001b[0m\u001b[0;34m]\u001b[0m \u001b[0;34m==\u001b[0m \u001b[0;36m0.\u001b[0m\u001b[0;34m:\u001b[0m \u001b[0mclim\u001b[0m \u001b[0;34m=\u001b[0m \u001b[0;36m0.01\u001b[0m\u001b[0;34m\u001b[0m\u001b[0m\n\u001b[0m\u001b[1;32m      5\u001b[0m     \u001b[0;32melse\u001b[0m\u001b[0;34m:\u001b[0m \u001b[0mclim\u001b[0m \u001b[0;34m=\u001b[0m \u001b[0mchiang13\u001b[0m\u001b[0;34m[\u001b[0m\u001b[0mkey\u001b[0m\u001b[0;34m]\u001b[0m\u001b[0;34m[\u001b[0m\u001b[0;34m'clim'\u001b[0m\u001b[0;34m]\u001b[0m\u001b[0;34m[\u001b[0m\u001b[0;36m2\u001b[0m\u001b[0;34m]\u001b[0m\u001b[0;34m\u001b[0m\u001b[0m\n\u001b[1;32m      6\u001b[0m \u001b[0;34m\u001b[0m\u001b[0m\n",
      "\u001b[0;31mKeyError\u001b[0m: 'clim'"
     ]
    }
   ],
   "source": [
    "for key, value in chiang13.iteritems():  # loop through observational candidates\n",
    "    \n",
    "    ### Protocluster Probability \n",
    "    if chiang13[key]['clim'][2] == 0.: clim = 0.01\n",
    "    else: clim = chiang13[key]['clim'][2]\n",
    "        \n",
    "    if chiang13[key]['plim'][2] == 0.: plim = 0.01\n",
    "    else: plim = chiang13[key]['plim'][2]\n",
    "    \n",
    "    labs, labels = label(chiang13[key]['stats'], clim=clim, plim=plim)\n",
    "\n",
    "    bins, binLimits, agg, agg_total, fracs = binit(chiang13[key]['stats'], labs, labels)\n",
    "    \n",
    "    dgal = chiang13[key]['dgal_chiang'][0]\n",
    "    labs = labels[:4]\n",
    "    \n",
    "    print key, \"\\nClim:\", chiang13[key]['clim'], \"\\nPlim:\", chiang13[key]['plim'], \"\\nP(dgal): %.3f\"%\\\n",
    "    np.sum([fracs[l] for l in labs], axis=0)[np.where(binLimits < dgal)[0].max()], \"\\n\"\n",
    "    \n",
    "    ### Descendant Mass Estimate \n",
    "    fit_mask = chiang13[key]['dgal'] > 4.5\n",
    "\n",
    "    x = np.zeros((chiang13[key]['dgal'].shape[0], 2))  # create feature array\n",
    "\n",
    "    x[:,0] = chiang13[key]['dgal']\n",
    "    x[:,1] = chiang13[key]['z']\n",
    "\n",
    "    popt, pcov = curve_fit(fit_func, x[fit_mask,:].T, chiang13[key]['mass'][fit_mask], maxfev=20000)\n",
    "    \n",
    "    print \"R^2: %.2f \\nM_z=0: %.2f\\n\"%(r2(chiang13[key]['mass'][fit_mask], fit_func(x[fit_mask,:].T, popt[0], popt[1], popt[2], popt[3])),\\\n",
    "    np.log10(fit_func(np.array([chiang13[key]['dgal_chiang'][0], chiang13[key]['z']]), popt[0], popt[1], popt[2], popt[3]) * 1e10))\n",
    "    "
   ]
  },
  {
   "cell_type": "code",
   "execution_count": null,
   "metadata": {},
   "outputs": [],
   "source": []
  },
  {
   "cell_type": "code",
   "execution_count": null,
   "metadata": {
    "collapsed": true
   },
   "outputs": [],
   "source": []
  }
 ],
 "metadata": {
  "kernelspec": {
   "display_name": "Python 2",
   "language": "python",
   "name": "python2"
  },
  "language_info": {
   "codemirror_mode": {
    "name": "ipython",
    "version": 2
   },
   "file_extension": ".py",
   "mimetype": "text/x-python",
   "name": "python",
   "nbconvert_exporter": "python",
   "pygments_lexer": "ipython2",
   "version": "2.7.12"
  }
 },
 "nbformat": 4,
 "nbformat_minor": 2
}
