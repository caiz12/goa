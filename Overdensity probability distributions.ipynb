{
 "cells": [
  {
   "cell_type": "markdown",
   "metadata": {},
   "source": [
    "## Overdensity probability distributions\n",
    "\n",
    "In this notebook we plot the distribution of galaxy overdensities calculated at different redshifts and with differing aperture configurations."
   ]
  },
  {
   "cell_type": "code",
   "execution_count": 1,
   "metadata": {
    "collapsed": false
   },
   "outputs": [],
   "source": [
    "import pandas as pd\n",
    "import numpy as np\n",
    "\n",
    "import pickle as pcl\n",
    "\n",
    "%matplotlib inline\n",
    "import matplotlib.pyplot as plt\n",
    "import matplotlib.gridspec as gridspec\n",
    "import matplotlib.patches as mpatches\n",
    "from matplotlib import rc\n",
    "rc('font',**{'family':'sans-serif','sans-serif':['Helvetica']})\n",
    "rc('text', usetex=True)\n",
    "\n",
    "from methods import bhattacharyya\n",
    "from methods import plotit\n",
    "from methods import overdensity_cylinder\n",
    "from methods import factor_h\n",
    "from methods import z_distort\n",
    "from methods import get_protoclusters\n",
    "\n",
    "directory = '/lustre/scratch/astro/cl478/protoclusters_data/'\n",
    "out_directory ='output/'\n",
    "\n",
    "h = 0.673\n",
    "L = 480.279 / h # box side length\n",
    "\n",
    "# N = 200000    # number of random regions"
   ]
  },
  {
   "cell_type": "markdown",
   "metadata": {},
   "source": [
    "Load galaxy dataframes"
   ]
  },
  {
   "cell_type": "code",
   "execution_count": 2,
   "metadata": {
    "collapsed": false,
    "scrolled": true
   },
   "outputs": [
    {
     "name": "stdout",
     "output_type": "stream",
     "text": [
      "0 2p07\n",
      "1 3p10\n",
      "2 3p95\n",
      "3 5p03\n",
      "4 5p92\n",
      "5 6p97\n",
      "6 8p22\n",
      "7 8p93\n",
      "8 9p72\n"
     ]
    }
   ],
   "source": [
    "redshifts = ['2p07','3p10','3p95','5p03','5p92','6p97','8p22','8p93','9p72']\n",
    "zees = [float(z.replace('p','.')) for z in redshifts]\n",
    "\n",
    "gals_sfr = [None] * len(redshifts)\n",
    "gals_mstar = [None] * len(redshifts)\n",
    "\n",
    "for i, z in enumerate(redshifts):\n",
    "    print i, z\n",
    "    \n",
    "    gals_sfr[i] = pd.read_csv('%shenriques2015a_z%s_sfr_r200.csv'%(directory,z), \n",
    "                              skiprows=122, skipfooter=1, engine='python')\n",
    "    \n",
    "    gals_mstar[i] = pd.read_csv('%shenriques2015a_z%s_stellarMass_r200.csv'%(directory,z), \n",
    "                                skiprows=122, skipfooter=1, engine='python')"
   ]
  },
  {
   "cell_type": "markdown",
   "metadata": {},
   "source": [
    "Factor out $h$ and apply $z$-distortion"
   ]
  },
  {
   "cell_type": "code",
   "execution_count": 3,
   "metadata": {
    "collapsed": true
   },
   "outputs": [],
   "source": [
    "for i, z in enumerate(zees):\n",
    "    for gals in [gals_sfr, gals_mstar]:\n",
    "        gals[i] = z_distort(factor_h(gals[i], h), z, L)\n",
    "\n",
    "#         print \"Filling in NaN values...\"\n",
    "        gals[i].ix[np.isnan(gals[i]['z0_haloId']), 'z0_haloId'] = -1\n",
    "        gals[i].ix[np.isnan(gals[i]['z0_centralId']), 'z0_centralId'] = -1\n",
    "        gals[i].ix[np.isnan(gals[i]['z0_central_mcrit200']), 'z0_central_mcrit200'] = 0\n",
    "    "
   ]
  },
  {
   "cell_type": "markdown",
   "metadata": {},
   "source": [
    "## Calculate $\\delta_{\\mathrm{gal}}$\n",
    "\n",
    "Calculate and save dgal for paper plots"
   ]
  },
  {
   "cell_type": "markdown",
   "metadata": {},
   "source": [
    "Find $D_{B}$ for all parameter permutations to assess the best for protocluster identification"
   ]
  },
  {
   "cell_type": "code",
   "execution_count": null,
   "metadata": {
    "collapsed": true
   },
   "outputs": [],
   "source": [
    "N = int(1e5)\n",
    "coods = pd.DataFrame(np.random.rand(N,3) * L, columns=['zn_x','zn_y','zn_z'])  # generate random regions\n",
    "\n",
    "stats = {z: {sel: {r: {'clim': None, 'plim': None, 'DB': None} for r in [6,10,14]} \\\n",
    "             for sel in ['mstar','mstar10','sfr','sfr5']} for z in zees}"
   ]
  },
  {
   "cell_type": "code",
   "execution_count": 6,
   "metadata": {
    "collapsed": false
   },
   "outputs": [
    {
     "name": "stdout",
     "output_type": "stream",
     "text": [
      "3.1 mstar 6 : {'clim': 0.418, 'DB': 0.795, 'plim': 0.674}\n",
      "3.1 mstar 10 : {'clim': 0.832, 'DB': 0.758, 'plim': 0.367}\n"
     ]
    },
    {
     "ename": "KeyboardInterrupt",
     "evalue": "",
     "output_type": "error",
     "traceback": [
      "\u001b[0;31m---------------------------------------------------------------------------\u001b[0m",
      "\u001b[0;31mKeyboardInterrupt\u001b[0m                         Traceback (most recent call last)",
      "\u001b[0;32m<ipython-input-6-db321b0c42b0>\u001b[0m in \u001b[0;36m<module>\u001b[0;34m()\u001b[0m\n\u001b[1;32m     13\u001b[0m             \u001b[0mstats\u001b[0m\u001b[0;34m[\u001b[0m\u001b[0mz\u001b[0m\u001b[0;34m]\u001b[0m\u001b[0;34m[\u001b[0m\u001b[0mglabel\u001b[0m\u001b[0;34m]\u001b[0m\u001b[0;34m[\u001b[0m\u001b[0mr\u001b[0m\u001b[0;34m]\u001b[0m\u001b[0;34m[\u001b[0m\u001b[0;34m'plim'\u001b[0m\u001b[0;34m]\u001b[0m \u001b[0;34m=\u001b[0m \u001b[0mround\u001b[0m\u001b[0;34m(\u001b[0m\u001b[0mnp\u001b[0m\u001b[0;34m.\u001b[0m\u001b[0mpercentile\u001b[0m\u001b[0;34m(\u001b[0m\u001b[0mout_stats\u001b[0m\u001b[0;34m[\u001b[0m\u001b[0;34m:\u001b[0m\u001b[0;34m,\u001b[0m\u001b[0;36m2\u001b[0m\u001b[0;34m]\u001b[0m\u001b[0;34m,\u001b[0m \u001b[0;36m5\u001b[0m\u001b[0;34m)\u001b[0m\u001b[0;34m,\u001b[0m \u001b[0;36m3\u001b[0m\u001b[0;34m)\u001b[0m\u001b[0;34m\u001b[0m\u001b[0m\n\u001b[1;32m     14\u001b[0m \u001b[0;34m\u001b[0m\u001b[0m\n\u001b[0;32m---> 15\u001b[0;31m             \u001b[0mout_stats\u001b[0m \u001b[0;34m=\u001b[0m \u001b[0moverdensity_cylinder\u001b[0m\u001b[0;34m(\u001b[0m\u001b[0mgals\u001b[0m\u001b[0;34m,\u001b[0m \u001b[0mcoods\u001b[0m\u001b[0;34m,\u001b[0m \u001b[0mL\u001b[0m\u001b[0;34m=\u001b[0m\u001b[0mL\u001b[0m\u001b[0;34m,\u001b[0m \u001b[0mR\u001b[0m\u001b[0;34m=\u001b[0m\u001b[0mr\u001b[0m\u001b[0;34m,\u001b[0m \u001b[0mdc\u001b[0m\u001b[0;34m=\u001b[0m\u001b[0mr\u001b[0m\u001b[0;34m,\u001b[0m \u001b[0mpc_stats\u001b[0m\u001b[0;34m=\u001b[0m\u001b[0mTrue\u001b[0m\u001b[0;34m)\u001b[0m  \u001b[0;31m# all coods stats\u001b[0m\u001b[0;34m\u001b[0m\u001b[0m\n\u001b[0m\u001b[1;32m     16\u001b[0m \u001b[0;34m\u001b[0m\u001b[0m\n\u001b[1;32m     17\u001b[0m             stats[z][glabel][r]['DB'] = plotit(1, out_stats, axb=1, N=18, clim=stats[z][glabel][r]['clim'],\n",
      "\u001b[0;32m/mnt/pact/cl478/protoclusters/methods.py\u001b[0m in \u001b[0;36moverdensity_cylinder\u001b[0;34m(gals, coods, R, dc, L, pc_stats, cluster_mass_lim, n, verbose)\u001b[0m\n\u001b[1;32m     65\u001b[0m \u001b[0;34m\u001b[0m\u001b[0m\n\u001b[1;32m     66\u001b[0m                 \u001b[0mcluster_ids\u001b[0m \u001b[0;34m=\u001b[0m \u001b[0mgals\u001b[0m\u001b[0;34m.\u001b[0m\u001b[0miloc\u001b[0m\u001b[0;34m[\u001b[0m\u001b[0mgal_index\u001b[0m\u001b[0;34m[\u001b[0m\u001b[0mi\u001b[0m\u001b[0;34m]\u001b[0m\u001b[0;34m]\u001b[0m\u001b[0;34m\u001b[0m\u001b[0m\n\u001b[0;32m---> 67\u001b[0;31m                 \u001b[0mcluster_ids\u001b[0m \u001b[0;34m=\u001b[0m \u001b[0mCounter\u001b[0m\u001b[0;34m(\u001b[0m\u001b[0mcluster_ids\u001b[0m\u001b[0;34m[\u001b[0m\u001b[0mcluster_ids\u001b[0m\u001b[0;34m[\u001b[0m\u001b[0;34m'z0_central_mcrit200'\u001b[0m\u001b[0;34m]\u001b[0m \u001b[0;34m>\u001b[0m \u001b[0mcluster_mass_lim\u001b[0m\u001b[0;34m]\u001b[0m\u001b[0;34m[\u001b[0m\u001b[0;34m'z0_centralId'\u001b[0m\u001b[0;34m]\u001b[0m\u001b[0;34m)\u001b[0m\u001b[0;34m\u001b[0m\u001b[0m\n\u001b[0m\u001b[1;32m     68\u001b[0m \u001b[0;34m\u001b[0m\u001b[0m\n\u001b[1;32m     69\u001b[0m                 \u001b[0;32mif\u001b[0m \u001b[0mlen\u001b[0m\u001b[0;34m(\u001b[0m\u001b[0mcluster_ids\u001b[0m\u001b[0;34m)\u001b[0m \u001b[0;34m>\u001b[0m \u001b[0;36m0\u001b[0m\u001b[0;34m:\u001b[0m\u001b[0;34m\u001b[0m\u001b[0m\n",
      "\u001b[0;32m/home/c/cl/cl478/.local/lib/python2.7/site-packages/pandas/core/ops.pyc\u001b[0m in \u001b[0;36mwrapper\u001b[0;34m(self, other, axis)\u001b[0m\n\u001b[1;32m    761\u001b[0m                 \u001b[0mother\u001b[0m \u001b[0;34m=\u001b[0m \u001b[0mnp\u001b[0m\u001b[0;34m.\u001b[0m\u001b[0masarray\u001b[0m\u001b[0;34m(\u001b[0m\u001b[0mother\u001b[0m\u001b[0;34m)\u001b[0m\u001b[0;34m\u001b[0m\u001b[0m\n\u001b[1;32m    762\u001b[0m \u001b[0;34m\u001b[0m\u001b[0m\n\u001b[0;32m--> 763\u001b[0;31m             \u001b[0mres\u001b[0m \u001b[0;34m=\u001b[0m \u001b[0mna_op\u001b[0m\u001b[0;34m(\u001b[0m\u001b[0mvalues\u001b[0m\u001b[0;34m,\u001b[0m \u001b[0mother\u001b[0m\u001b[0;34m)\u001b[0m\u001b[0;34m\u001b[0m\u001b[0m\n\u001b[0m\u001b[1;32m    764\u001b[0m             \u001b[0;32mif\u001b[0m \u001b[0misscalar\u001b[0m\u001b[0;34m(\u001b[0m\u001b[0mres\u001b[0m\u001b[0;34m)\u001b[0m\u001b[0;34m:\u001b[0m\u001b[0;34m\u001b[0m\u001b[0m\n\u001b[1;32m    765\u001b[0m                 raise TypeError('Could not compare %s type with Series' %\n",
      "\u001b[0;32m/home/c/cl/cl478/.local/lib/python2.7/site-packages/pandas/core/ops.pyc\u001b[0m in \u001b[0;36mna_op\u001b[0;34m(x, y)\u001b[0m\n\u001b[1;32m    714\u001b[0m \u001b[0;34m\u001b[0m\u001b[0m\n\u001b[1;32m    715\u001b[0m             \u001b[0;32mtry\u001b[0m\u001b[0;34m:\u001b[0m\u001b[0;34m\u001b[0m\u001b[0m\n\u001b[0;32m--> 716\u001b[0;31m                 \u001b[0mresult\u001b[0m \u001b[0;34m=\u001b[0m \u001b[0mgetattr\u001b[0m\u001b[0;34m(\u001b[0m\u001b[0mx\u001b[0m\u001b[0;34m,\u001b[0m \u001b[0mname\u001b[0m\u001b[0;34m)\u001b[0m\u001b[0;34m(\u001b[0m\u001b[0my\u001b[0m\u001b[0;34m)\u001b[0m\u001b[0;34m\u001b[0m\u001b[0m\n\u001b[0m\u001b[1;32m    717\u001b[0m                 \u001b[0;32mif\u001b[0m \u001b[0mresult\u001b[0m \u001b[0;32mis\u001b[0m \u001b[0mNotImplemented\u001b[0m\u001b[0;34m:\u001b[0m\u001b[0;34m\u001b[0m\u001b[0m\n\u001b[1;32m    718\u001b[0m                     \u001b[0;32mraise\u001b[0m \u001b[0mTypeError\u001b[0m\u001b[0;34m(\u001b[0m\u001b[0;34m\"invalid type comparison\"\u001b[0m\u001b[0;34m)\u001b[0m\u001b[0;34m\u001b[0m\u001b[0m\n",
      "\u001b[0;31mKeyboardInterrupt\u001b[0m: "
     ]
    }
   ],
   "source": [
    "for i, z in enumerate(zees[1:]):\n",
    "    \n",
    "    for j, (gals, glabel) in enumerate(zip([gals_mstar[i], gals_mstar[i].loc[gals_mstar[i]['zn_stellarMass'] > 1],\n",
    "                              gals_sfr[i], gals_sfr[i].loc[gals_sfr[i]['zn_sfr'] > 5]],\n",
    "                                 ['mstar','mstar10','sfr','sfr5'])):\n",
    "    \n",
    "        for r in [6,10,14]:\n",
    "            \n",
    "            pcs = get_protoclusters(gals, L)\n",
    "            out_stats = overdensity_cylinder(gals, pcs['coods'], L=L, R=r, dc=r, pc_stats=True)  # pc stats\n",
    "            \n",
    "            stats[z][glabel][r]['clim'] = round(np.percentile(out_stats[:,1], 5), 3)\n",
    "            stats[z][glabel][r]['plim'] = round(np.percentile(out_stats[:,2], 5), 3)\n",
    "            \n",
    "            out_stats = overdensity_cylinder(gals, coods, L=L, R=r, dc=r, pc_stats=True)  # all coods stats\n",
    "            \n",
    "            stats[z][glabel][r]['DB'] = plotit(1, out_stats, axb=1, N=18, clim=stats[z][glabel][r]['clim'],\n",
    "                                              plim=stats[z][glabel][r]['plim'], mlim=7.3e4, noplot=True)[0]\n",
    "            \n",
    "            \n",
    "            print z, glabel, r, \":\", stats[z][glabel][r]\n",
    "            "
   ]
  },
  {
   "cell_type": "code",
   "execution_count": 9,
   "metadata": {
    "collapsed": true
   },
   "outputs": [],
   "source": [
    "# pcl.dump(stats, open('od_stats.p','w'))\n",
    "stats = pcl.load(open('od_stats.p', 'r'))"
   ]
  },
  {
   "cell_type": "code",
   "execution_count": 146,
   "metadata": {
    "collapsed": false
   },
   "outputs": [
    {
     "data": {
      "image/png": "[encoded data removed]",
      "text/plain": [
       "<matplotlib.figure.Figure at 0x58f2a8d0>"
      ]
     },
     "metadata": {},
     "output_type": "display_data"
    }
   ],
   "source": [
    "fig = plt.figure(figsize=(7,4))\n",
    "\n",
    "gs1 = gridspec.GridSpec(3, 1)\n",
    "gs1.update(hspace=0.4)\n",
    "\n",
    "ax1 = fig.add_subplot(gs1[0,0])\n",
    "ax2 = fig.add_subplot(gs1[1,0])\n",
    "ax3 = fig.add_subplot(gs1[2,0])\n",
    "\n",
    "cax1 = ax1.imshow(np.array([[stats[z]['sfr'][r]['DB'] for z in zees[:8]] for r in [6,10,14]]), aspect=0.5)\n",
    "cax2 = ax2.imshow(np.array([[stats[z]['sfr5'][r]['DB'] for z in zees[:6]] for r in [6,10,14]]), aspect=0.5)\n",
    "cax3 = ax3.imshow(np.array([[stats[z]['mstar'][r]['DB'] for z in zees[:5]] for r in [6,10,14]]), aspect=0.5)\n",
    "# ax4.imshow(np.log10(np.array([[stats[z]['mstar10'][r]['DB'] for z in zees[:2]] for r in [6,10,14]])))\n",
    "\n",
    "for ax, cax in zip([ax1,ax2,ax3], [cax1,cax2,cax3]):\n",
    "    ax.set_xticklabels(np.roll(zees, 1))\n",
    "    ax.set_yticklabels(['None',6,10,14])\n",
    "    ax.set_ylabel('$R (= D)$', size=13)\n",
    "    fig.colorbar(cax, ax=ax, label='$D_{B}$')\n",
    "    \n",
    "    \n",
    "ax3.set_xlabel('$z$', size=13)\n",
    "\n",
    "# plt.savefig(out_directory+'db_map.png', bbox_inches='tight', dpi=300)"
   ]
  },
  {
   "cell_type": "code",
   "execution_count": null,
   "metadata": {
    "collapsed": true
   },
   "outputs": [],
   "source": []
  },
  {
   "cell_type": "code",
   "execution_count": 14,
   "metadata": {
    "collapsed": false,
    "scrolled": true
   },
   "outputs": [],
   "source": [
    "\n",
    "\n",
    "# out_stats_sfr_z3p95_r10_dc10 = overdensity_cylinder(gals_sfr[2], coods, L=L, R=10, dc=10, pc_stats=True)\n",
    "# out_stats_sfr_z3p95_r6_dc6 = overdensity_cylinder(gals_sfr[2], coods, L=L, R=6, dc=6, pc_stats=True)\n",
    "# out_stats_sfr_z3p95_r14_dc14 = overdensity_cylinder(gals_sfr[2], coods, L=L, R=14, dc=14, pc_stats=True)\n",
    "# out_stats_sfr_z3p95_r6_dc14 = overdensity_cylinder(gals_sfr[2], coods, L=L, R=6, dc=14, pc_stats=True)\n",
    "# out_stats_sfr_z3p95_r10_dc14 = overdensity_cylinder(gals_sfr[2], coods, L=L, R=10, dc=14, pc_stats=True)\n",
    "# out_stats_sfr_z3p10_r10_dc10 = overdensity_cylinder(gals_sfr[1], coods, L=L, R=10, dc=10, pc_stats=True)\n",
    "# out_stats_sfr_z5p03_r10_dc10 = overdensity_cylinder(gals_sfr[3], coods, L=L, R=10, dc=10, pc_stats=True)\n",
    "# out_stats_mstar_z2p07_r10_dc10 = overdensity_cylinder(gals_mstar[0], coods, L=L, R=10, dc=10, pc_stats=True)\n",
    "# out_stats_mstar10_z2p07_r10_dc10 = overdensity_cylinder(gals_mstar[0].loc[gals_mstar[0]['zn_stellarMass'] > 1]\\\n",
    "#                                                         .reset_index(drop=True), coods, L=L, \n",
    "#                                                         R=10, dc=10, pc_stats=True)\n",
    "\n",
    "\n",
    "# pcl.dump([out_stats_sfr_z3p95_r10_dc10, out_stats_sfr_z3p95_r6_dc6, out_stats_sfr_z3p95_r14_dc14,\n",
    "#          out_stats_sfr_z3p95_r6_dc14, out_stats_sfr_z3p95_r10_dc14, out_stats_sfr_z3p10_r10_dc10,\n",
    "#          out_stats_sfr_z5p03_r10_dc10, out_stats_mstar_z2p07_r10_dc10, out_stats_mstar10_z2p07_r10_dc10], \n",
    "#          open('out_stats.p','w'))\n",
    "\n",
    "out_stats_sfr_z3p95_r10_dc10, out_stats_sfr_z3p95_r6_dc6, out_stats_sfr_z3p95_r14_dc14,\\\n",
    "out_stats_sfr_z3p95_r6_dc14, out_stats_sfr_z3p95_r10_dc14, out_stats_sfr_z3p10_r10_dc10,\\\n",
    "out_stats_sfr_z5p03_r10_dc10, out_stats_mstar_z2p07_r10_dc10, out_stats_mstar10_z2p07_r10_dc10 = \\\n",
    "    pcl.load(open('out_stats.p','r'))"
   ]
  },
  {
   "cell_type": "markdown",
   "metadata": {},
   "source": [
    "Find $C_{lim}$ and $P_{lim}$"
   ]
  },
  {
   "cell_type": "code",
   "execution_count": 18,
   "metadata": {
    "collapsed": false
   },
   "outputs": [
    {
     "name": "stdout",
     "output_type": "stream",
     "text": [
      "0, R: 10 dc: 10\n",
      "Clim: 1.00 0.98 0.73\n",
      "Plim: 0.91 0.71 0.50\n",
      "\n",
      "1, R: 6 dc: 6\n",
      "Clim: 0.88 0.66 0.30\n",
      "Plim: 1.00 0.95 0.83\n",
      "\n",
      "2, R: 14 dc: 14\n",
      "Clim: 1.00 1.00 0.95\n",
      "Plim: 0.71 0.44 0.27\n",
      "\n",
      "3, R: 6 dc: 14\n",
      "Clim: 0.90 0.69 0.36\n",
      "Plim: 0.95 0.82 0.58\n",
      "\n",
      "4, R: 10 dc: 14\n",
      "Clim: 1.00 0.98 0.75\n",
      "Plim: 0.85 0.63 0.42\n",
      "\n",
      "5, R: 10 dc: 10\n",
      "Clim: 1.00 0.98 0.78\n",
      "Plim: 0.86 0.64 0.44\n",
      "\n",
      "6, R: 10 dc: 10\n",
      "Clim: 1.00 0.97 0.70\n",
      "Plim: 0.94 0.77 0.55\n",
      "\n",
      "7, R: 10 dc: 10\n",
      "Clim: 1.00 0.98 0.83\n",
      "Plim: 0.79 0.56 0.37\n",
      "\n",
      "8, R: 10 dc: 10\n",
      "Clim: 1.00 1.00 0.84\n",
      "Plim: 0.90 0.68 0.41\n",
      "\n"
     ]
    }
   ],
   "source": [
    "gals = [gals_sfr[2], gals_sfr[2], gals_sfr[2], gals_sfr[2], gals_sfr[2], gals_sfr[1], gals_sfr[3],\n",
    "        gals_mstar[0], gals_mstar[0].loc[gals_mstar[0]['zn_stellarMass'] > 1].reset_index(drop=True)]\n",
    "\n",
    "R = [10, 6, 14, 6, 10, 10, 10, 10, 10]\n",
    "dc = [10, 6, 14, 14, 14, 10, 10, 10, 10]\n",
    "\n",
    "clim = [None] * len(gals)\n",
    "plim = [None] * len(gals)\n",
    "\n",
    "for i, (gal, r, delc) in enumerate(zip(gals, R, dc)):\n",
    "    print \"%s, R:\"%i, r, \"dc:\", delc\n",
    "    \n",
    "    pcs = get_protoclusters(gal, L)\n",
    "    out_stats = overdensity_cylinder(gal, pcs['coods'], L=L, R=r, dc=delc, pc_stats=True)\n",
    "    \n",
    "    print \"Clim: %.2f %.2f %.2f\"%(np.percentile(out_stats[:,1], 95), np.median(out_stats[:,1]), \n",
    "                                  np.percentile(out_stats[:,1], 5))\n",
    "    \n",
    "    print \"Plim: %.2f %.2f %.2f\\n\"%(np.percentile(out_stats[:,2], 95), np.median(out_stats[:,2]), \n",
    "                                  np.percentile(out_stats[:,2], 5))\n",
    "    \n",
    "    clim[i] = np.percentile(out_stats[:,1], 5)\n",
    "    plim[i] = np.percentile(out_stats[:,2], 5)\n",
    "    "
   ]
  },
  {
   "cell_type": "markdown",
   "metadata": {
    "collapsed": true
   },
   "source": [
    "Bhattacharrya distance ($D_{B}$) for different selections"
   ]
  },
  {
   "cell_type": "code",
   "execution_count": 25,
   "metadata": {
    "collapsed": false
   },
   "outputs": [
    {
     "name": "stdout",
     "output_type": "stream",
     "text": [
      "sfr_z3p95_r10_dc10: DB(All), DB(High mass)\n",
      "0.75 \n",
      "\n",
      "sfr_z3p95_r6_dc6: DB(All), DB(High mass)\n",
      "0.7 \n",
      "\n",
      "sfr_z3p95_r14_dc14: DB(All), DB(High mass)\n",
      "0.56 \n",
      "\n",
      "sfr_z3p95_r6_dc14: DB(All), DB(High mass)\n",
      "0.69 \n",
      "\n",
      "sfr_z3p95_r10_dc14: DB(All), DB(High mass)\n",
      "0.67 \n",
      "\n",
      "sfr_z3p10_r10_dc10: DB(All), DB(High mass)\n",
      "0.71 \n",
      "\n",
      "sfr_z5p03_r10_dc10: DB(All), DB(High mass)\n",
      "0.74 \n",
      "\n",
      "mstar_z2p07_r10_dc10: DB(All), DB(High mass)\n",
      "0.65 \n",
      "\n",
      "mstar10_z2p07_r10_dc10: DB(All), DB(High mass)\n",
      "0.54 \n",
      "\n"
     ]
    }
   ],
   "source": [
    "N = 18\n",
    "\n",
    "print \"sfr_z3p95_r10_dc10:\", plotit(1, out_stats_sfr_z3p95_r10_dc10, axb=1, N=N, clim=clim[0], plim=plim[0], noplot=True)[0], \\\n",
    "\"\\n\\nsfr_z3p95_r6_dc6:\", plotit(1, out_stats_sfr_z3p95_r6_dc6, axb=1, N=N, clim=clim[1], plim=plim[1], noplot=True)[0], \\\n",
    "\"\\n\\nsfr_z3p95_r14_dc14:\", plotit(1, out_stats_sfr_z3p95_r14_dc14, axb=1, N=N, clim=clim[2], plim=plim[2], noplot=True)[0],\"\\n\"\n",
    "\n",
    "print \"sfr_z3p95_r6_dc14:\", plotit(1, out_stats_sfr_z3p95_r6_dc14, axb=1, N=N, clim=clim[3], plim=plim[3], noplot=True)[0], \\\n",
    "\"\\n\\nsfr_z3p95_r10_dc14:\", plotit(1, out_stats_sfr_z3p95_r10_dc14, axb=1, N=N, clim=clim[4], plim=plim[4], noplot=True)[0],\"\\n\"\n",
    "\n",
    "print \"sfr_z3p10_r10_dc10:\", plotit(1, out_stats_sfr_z3p10_r10_dc10, axb=1, N=N, clim=clim[5], plim=plim[5], noplot=True)[0],\\\n",
    "\"\\n\\nsfr_z5p03_r10_dc10:\", plotit(1, out_stats_sfr_z5p03_r10_dc10, axb=1, N=N, clim=clim[6], plim=plim[6], noplot=True)[0], \"\\n\"\n",
    "\n",
    "print \"mstar_z2p07_r10_dc10:\", plotit(1, out_stats_mstar_z2p07_r10_dc10, axb=1, N=N, clim=clim[7], plim=plim[7], noplot=True)[0],\\\n",
    "\"\\n\\nmstar10_z2p07_r10_dc10:\", plotit(1, out_stats_mstar10_z2p07_r10_dc10, axb=1, N=N, clim=clim[8], plim=plim[8], noplot=True)[0], \"\\n\""
   ]
  },
  {
   "cell_type": "markdown",
   "metadata": {
    "collapsed": true
   },
   "source": [
    "Example plot showing both axes."
   ]
  },
  {
   "cell_type": "code",
   "execution_count": 6,
   "metadata": {
    "collapsed": false
   },
   "outputs": [
    {
     "data": {
      "image/png": "[encoded data removed]",
      "text/plain": [
       "<matplotlib.figure.Figure at 0x9cbbb10>"
      ]
     },
     "metadata": {},
     "output_type": "display_data"
    }
   ],
   "source": [
    "fig, ax = plt.subplots(2,1, figsize=(3,5))\n",
    "\n",
    "plotit(ax[0], out_stats_sfr_z3p95_r10_dc10, axb=ax[1], N=18, clim=0.5, plim=0.5)"
   ]
  },
  {
   "cell_type": "markdown",
   "metadata": {
    "collapsed": true
   },
   "source": [
    "Eample without bottom axis"
   ]
  },
  {
   "cell_type": "code",
   "execution_count": 7,
   "metadata": {
    "collapsed": false
   },
   "outputs": [
    {
     "data": {
      "image/png": "[encoded data removed]",
      "text/plain": [
       "<matplotlib.figure.Figure at 0xa753210>"
      ]
     },
     "metadata": {},
     "output_type": "display_data"
    }
   ],
   "source": [
    "fig, ax = plt.subplots(1,1, figsize=(4,3))\n",
    "\n",
    "plotit(ax, out_stats_sfr_z3p95_r10_dc10, axb=None, N=18, clim=0.5, plim=0.5)"
   ]
  },
  {
   "cell_type": "markdown",
   "metadata": {
    "collapsed": true
   },
   "source": [
    "## Paper figures\n",
    "\n",
    "Figure 6"
   ]
  },
  {
   "cell_type": "code",
   "execution_count": 8,
   "metadata": {
    "collapsed": false
   },
   "outputs": [
    {
     "data": {
      "image/png": "[encoded data removed]",
      "text/plain": [
       "<matplotlib.figure.Figure at 0xa755cd0>"
      ]
     },
     "metadata": {},
     "output_type": "display_data"
    }
   ],
   "source": [
    "fig = plt.figure(figsize=(9, 13))\n",
    "\n",
    "gs1 = gridspec.GridSpec(18, 3)\n",
    "gs1.update(wspace=0.1, hspace=0)\n",
    "\n",
    "ax1 = fig.add_subplot(gs1[0:3,0])\n",
    "ax1b = fig.add_subplot(gs1[3:5,0])\n",
    "\n",
    "ax2 = fig.add_subplot(gs1[0:3,1])\n",
    "ax2b = fig.add_subplot(gs1[3:5,1])\n",
    "\n",
    "ax3 = fig.add_subplot(gs1[0:3,2])\n",
    "ax3b = fig.add_subplot(gs1[3:5,2])\n",
    "\n",
    "N = 19\n",
    "\n",
    "plotit(ax1, out_stats_sfr_z3p95_r6_dc6, axb=ax1b, N=N, clim=0.4, plim=0.8)\n",
    "ax1.text(0.05,1.05,'$R = 6, D = 12 \\,\\mathrm{cMpc}$', transform=ax1.transAxes)\n",
    "\n",
    "plotit(ax2, out_stats_sfr_z3p95_r10_dc10, axb=ax2b, N=N, clim=0.7, plim=0.6)\n",
    "ax2.text(0.05,1.05,'$R = 10, D = 20 \\,\\mathrm{cMpc}$', transform=ax2.transAxes)\n",
    "\n",
    "plotit(ax3, out_stats_sfr_z3p95_r14_dc14, axb=ax3b, N=N, clim=0.8, plim=0.4)\n",
    "ax3.text(0.05,1.05,'$R = 14, D = 28 \\,\\mathrm{cMpc}$', transform=ax3.transAxes)\n",
    "\n",
    "ax3.yaxis.tick_right()\n",
    "ax3b.yaxis.tick_right()\n",
    "\n",
    "ax2.set_yticks([])\n",
    "for ax in ([ax1b,ax2b,ax3b]):\n",
    "    ax.set_yticks([])\n",
    "    ax.set_xlabel('$\\delta_{gal} + 1$', size=15)\n",
    "    \n",
    "\n",
    "# Legend 1\n",
    "pat1 = mpatches.Patch(color='lightgrey',label='Field')\n",
    "pat2 = mpatches.Patch(color='lightseagreen',label='Proto')\n",
    "pat3 = mpatches.Patch(color='lightcoral',label='ProtoField')\n",
    "pat4 = mpatches.Patch(color='y',label='PartProto')\n",
    "patM1 = mpatches.Patch(color='white', hatch='///',label='$M_{200} / M_{\\odot}$ \\n $\\geq 5 \\\\times 10^{14}$')\n",
    "patM2 = mpatches.Patch(color='white', hatch='',label='$M_{200} / M_{\\odot}$ \\n $< 5 \\\\times 10^{14}$')\n",
    "colors = ['dimgrey','lightseagreen','lightcoral', 'y']\n",
    "    \n",
    "legend = ax3.legend(handles = [pat1,pat2,patM1,pat3,pat4,patM2], bbox_to_anchor=(1.3, 1.05),\n",
    "                    ncol=2, prop={'size': 12}, labelspacing=0.9)\n",
    "\n",
    "legend.get_frame().set_facecolor('white')\n",
    "legend.get_frame().set_edgecolor('white')\n",
    "\n",
    "for patch in legend.get_patches():\n",
    "    patch.set_edgecolor('black')\n",
    "    \n",
    "\n",
    "# Legend 2\n",
    "line_field = plt.Line2D((0,1.5),(0,0), color='dimgrey', linestyle='solid', linewidth=1)\n",
    "line_proto1 = plt.Line2D((0,1.5),(0,0), color='lightseagreen', linestyle='solid', linewidth=1)\n",
    "line_proto2= plt.Line2D((0,1.5),(0,0), color='lightseagreen', linestyle='dashed', linewidth=1)\n",
    "line_part = plt.Line2D((0,1.5),(0,0), color='y', linestyle='dashed', linewidth=1)\n",
    "\n",
    "line_comb1 = plt.Line2D((0,1.5),(0,0), color='lightseagreen', linestyle='solid', linewidth=3)\n",
    "line_comb2 = plt.Line2D((0,1.5),(0,0), color='y', linestyle='dashed', linewidth=3)\n",
    "\n",
    "legend = ax3b.legend(handles = [line_field,line_proto1,line_proto2,(line_comb1, line_comb2),line_part],\n",
    "                     labels=['Field','Proto \\n $M_{200} / M_{\\odot}$\\n$< 5 \\\\times 10^{14}$',\n",
    "                             'Proto \\n$M_{200} / M_{\\odot}$\\n$\\geq 5 \\\\times 10^{14}$',\n",
    "                              'Proto + \\n PartProto',\n",
    "                            'PartProto \\n$M_{200} / M_{\\odot}$\\n$\\geq 5 \\\\times 10^{14}$)'],\n",
    "                     bbox_to_anchor=(2.72, 1.45), ncol=2, prop={'size': 12}, labelspacing=1.0)\n",
    "\n",
    "legend.get_frame().set_facecolor('white')\n",
    "legend.get_frame().set_edgecolor('white')\n",
    "\n",
    "# plt.savefig(out_directory+'probabilities_A.png', bbox_inches='tight', dpi=300)"
   ]
  },
  {
   "cell_type": "markdown",
   "metadata": {
    "collapsed": false
   },
   "source": [
    "Appendix figure"
   ]
  },
  {
   "cell_type": "code",
   "execution_count": 10,
   "metadata": {
    "collapsed": false,
    "scrolled": false
   },
   "outputs": [
    {
     "data": {
      "image/png": "[encoded data removed]",
      "text/plain": [
       "<matplotlib.figure.Figure at 0x7f27490>"
      ]
     },
     "metadata": {},
     "output_type": "display_data"
    }
   ],
   "source": [
    "fig = plt.figure(figsize=(10, 8))\n",
    "\n",
    "gs = gridspec.GridSpec(3, 3)\n",
    "gs.update(wspace=0.1, hspace=0.4) # bottom = 0.57, top = 1, , wspace=0\n",
    "\n",
    "N = 19\n",
    "\n",
    "ax1 = fig.add_subplot(gs[0,0])\n",
    "ax2 = fig.add_subplot(gs[1,0])\n",
    "ax3 = fig.add_subplot(gs[2,0])\n",
    "\n",
    "for clim, ax in zip([0.3, 0.5, 0.7], [ax1,ax2,ax3]):\n",
    "    plotit(ax, out_stats_sfr_z3p95_r10_dc10, plim=0.3, clim=clim, N=N)\n",
    "    ax.text(0.05,1.05,'$P = 0.3$, $C = %s$'%clim, transform=ax.transAxes)\n",
    "    \n",
    "\n",
    "ax4 = fig.add_subplot(gs[0,1])\n",
    "ax5 = fig.add_subplot(gs[1,1])\n",
    "ax6 = fig.add_subplot(gs[2,1])\n",
    "\n",
    "for clim, ax in zip([0.3, 0.5, 0.7], [ax4, ax5, ax6]):\n",
    "    plotit(ax, out_stats_sfr_z3p95_r10_dc10, plim=0.5, clim=clim, N=N)\n",
    "    ax.text(0.05,1.05,'$P = 0.5$, $C = %s$'%clim, transform=ax.transAxes)\n",
    "    ax.set_yticks([])\n",
    "    \n",
    "\n",
    "ax7 = fig.add_subplot(gs[0,2])\n",
    "ax8 = fig.add_subplot(gs[1,2])\n",
    "ax9 = fig.add_subplot(gs[2,2])\n",
    "\n",
    "for clim, ax in zip([0.3, 0.5, 0.7], [ax7, ax8, ax9]):\n",
    "    plotit(ax, out_stats_sfr_z3p95_r10_dc10, plim=0.7, clim=clim, N=N)\n",
    "    ax.text(0.05,1.05,'$P = 0.7$, $C = %s$'%clim, transform=ax.transAxes)\n",
    "    ax.yaxis.tick_right()\n",
    "    \n",
    "\n",
    "for ax in [ax3, ax6, ax9]:\n",
    "    ax.set_xlabel('$\\delta_{\\mathrm{gal}} + 1$', size=15)\n",
    "\n",
    "\n",
    "# Legend\n",
    "pat1 = mpatches.Patch(color='lightgrey',label='Field')\n",
    "pat2 = mpatches.Patch(color='lightseagreen',label='Proto')\n",
    "pat3 = mpatches.Patch(color='lightcoral',label='ProtoField')\n",
    "pat4 = mpatches.Patch(color='y',label='PartProto')\n",
    "patM1 = mpatches.Patch(color='white', hatch='///',label='$M_{200} / M_{\\odot}$ \\n $\\geq 5 \\\\times 10^{14}$')\n",
    "patM2 = mpatches.Patch(color='white', hatch='',label='$M_{200} / M_{\\odot}$ \\n $< 5 \\\\times 10^{14}$')\n",
    "colors = ['dimgrey','lightseagreen','lightcoral', 'y']\n",
    "    \n",
    "legend = ax7.legend(handles = [pat1,pat2,patM1,pat3,pat4,patM2], bbox_to_anchor=(1.3, 1.05),\n",
    "                    ncol=2, prop={'size': 12}, labelspacing=0.9)\n",
    "\n",
    "legend.get_frame().set_facecolor('white')\n",
    "legend.get_frame().set_edgecolor('white')\n",
    "\n",
    "for patch in legend.get_patches():\n",
    "    patch.set_edgecolor('black')\n",
    "    \n",
    "# Legend\n",
    "line_field = plt.Line2D((0,1.5),(0,0), color='dimgrey', linestyle='solid', linewidth=1)\n",
    "line_proto1 = plt.Line2D((0,1.5),(0,0), color='lightseagreen', linestyle='solid', linewidth=1)\n",
    "line_proto2= plt.Line2D((0,1.5),(0,0), color='lightseagreen', linestyle='dashed', linewidth=1)\n",
    "line_part = plt.Line2D((0,1.5),(0,0), color='y', linestyle='dashed', linewidth=1)\n",
    "\n",
    "line_comb1 = plt.Line2D((0,1.5),(0,0), color='lightseagreen', linestyle='solid', linewidth=3)\n",
    "line_comb2 = plt.Line2D((0,1.5),(0,0), color='y', linestyle='dashed', linewidth=3)\n",
    "\n",
    "legend = ax8.legend(handles = [line_field,line_proto1,line_proto2,(line_comb1, line_comb2),line_part],\n",
    "                     labels=['Field','Proto \\n $M_{200} / M_{\\odot}$\\n$< 5 \\\\times 10^{14}$',\n",
    "                             'Proto \\n$M_{200} / M_{\\odot}$\\n$\\geq 5 \\\\times 10^{14}$',\n",
    "                              'Proto + \\n PartProto',\n",
    "                            'PartProto \\n$M_{200} / M_{\\odot}$\\n$\\geq 5 \\\\times 10^{14}$)'],\n",
    "                     bbox_to_anchor=(1.3, 1.4), ncol=2, prop={'size': 12}, labelspacing=1.0)\n",
    "\n",
    "legend.get_frame().set_facecolor('white')\n",
    "legend.get_frame().set_edgecolor('white')\n",
    "    \n",
    "# plt.savefig(out_directory+'probabilities_C.png', bbox_inches='tight', dpi=300)"
   ]
  },
  {
   "cell_type": "markdown",
   "metadata": {},
   "source": [
    "Deprecated"
   ]
  },
  {
   "cell_type": "code",
   "execution_count": null,
   "metadata": {
    "collapsed": true
   },
   "outputs": [],
   "source": [
    "fig = plt.figure(figsize=(5, 12))\n",
    "\n",
    "gs = gridspec.GridSpec(19, 2)\n",
    "gs.update(wspace=0.1, hspace=0)\n",
    "\n",
    "ax1 = fig.add_subplot(gs[0:3,0])\n",
    "ax1b = fig.add_subplot(gs[3:5,0])\n",
    "\n",
    "ax2 = fig.add_subplot(gs[0:3,1])\n",
    "ax2b = fig.add_subplot(gs[3:5,1])\n",
    "\n",
    "ax3 = fig.add_subplot(gs[7:10,0])\n",
    "ax3b = fig.add_subplot(gs[10:12,0])\n",
    "\n",
    "ax4 = fig.add_subplot(gs[7:10,1])\n",
    "ax4b = fig.add_subplot(gs[10:12,1])\n",
    "\n",
    "ax5 = fig.add_subplot(gs[14:17,0])\n",
    "ax5b = fig.add_subplot(gs[17:19,0])\n",
    "\n",
    "ax6 = fig.add_subplot(gs[14:17,1])\n",
    "ax6b = fig.add_subplot(gs[17:19,1])\n",
    "\n",
    "N = 19\n",
    "\n",
    "plotit(ax1, out_stats_sfr_z3p95_r6_dc14, axb=ax1b, N=N, clim=0.6, plim=0.4)\n",
    "ax1.text(0.05,1.05,'$R = 6, D/2 = 14 \\,\\mathrm{cMpc}$', transform=ax1.transAxes, size=10)\n",
    "\n",
    "plotit(ax2, out_stats_sfr_z3p95_r10_dc14, axb=ax2b, N=N, clim=0.6, plim=0.4)\n",
    "ax2.text(0.05,1.05,'$R = 10, D/2 = 14\\,\\mathrm{cMpc}$', transform=ax2.transAxes, size=10)\n",
    "\n",
    "plotit(ax3, out_stats_sfr_z3p10_r10_dc10, clim=0.6, plim=0.3, N=N, axb = ax3b)\n",
    "ax3.text(0.05,1.05,'$z = 3.10$', transform=ax3.transAxes, size=12)\n",
    "\n",
    "plotit(ax4, out_stats_sfr_z5p03_r10_dc10, clim=0.7, plim=0.6, N=N, axb = ax4b)\n",
    "ax4.text(0.05,1.05,'$z = 5.92$', transform=ax4.transAxes, size=12)\n",
    "\n",
    "plotit(ax5, out_stats_mstar_z2p07_r10_dc10, N=N, clim=0.8, plim=0.4, axb=ax5b)\n",
    "ax5.text(0.05,1.05,'$\\mathrm{S}_9$', transform=ax5.transAxes, size=12)\n",
    "\n",
    "plotit(ax6, out_stats_mstar10_z2p07_r10_dc10, N=N, clim=0.8, plim=0.5, axb=ax6b)\n",
    "ax6.text(0.05,1.05,'$\\mathrm{S}_{10}$', transform=ax6.transAxes, size=12)\n",
    "\n",
    "\n",
    "for ax in [ax2,ax4,ax6]:\n",
    "    ax.yaxis.tick_right()\n",
    "    \n",
    "for ax in [ax1b,ax2b,ax3b,ax4b,ax5b,ax6b]:\n",
    "    ax.set_yticks([])\n",
    "    ax.set_xlabel('$\\delta_{\\mathrm{gal}} + 1$', size=15)\n",
    "\n",
    "for ax in [ax1,ax2,ax3,ax4,ax5,ax6]:\n",
    "    ax.set_xticklabels([])\n",
    "\n",
    "\n",
    "# plt.savefig(out_directory+'probabilities_depth.png', bbox_inches='tight', dpi=300)"
   ]
  },
  {
   "cell_type": "code",
   "execution_count": null,
   "metadata": {
    "collapsed": true
   },
   "outputs": [],
   "source": []
  }
 ],
 "metadata": {
  "kernelspec": {
   "display_name": "Python 2",
   "language": "python",
   "name": "python2"
  },
  "language_info": {
   "codemirror_mode": {
    "name": "ipython",
    "version": 2
   },
   "file_extension": ".py",
   "mimetype": "text/x-python",
   "name": "python",
   "nbconvert_exporter": "python",
   "pygments_lexer": "ipython2",
   "version": "2.7.5"
  }
 },
 "nbformat": 4,
 "nbformat_minor": 0
}
