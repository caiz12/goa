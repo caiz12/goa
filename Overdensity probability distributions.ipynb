{
 "cells": [
  {
   "cell_type": "markdown",
   "metadata": {},
   "source": [
    "## Overdensity probability distributions\n",
    "\n",
    "In this notebook we plot the distribution of galaxy overdensities calculated at different redshifts and with differing aperture configurations."
   ]
  },
  {
   "cell_type": "code",
   "execution_count": 1,
   "metadata": {
    "collapsed": true
   },
   "outputs": [],
   "source": [
    "import pandas as pd\n",
    "import numpy as np\n",
    "\n",
    "import pickle as pcl\n",
    "\n",
    "%matplotlib inline\n",
    "import matplotlib.pyplot as plt\n",
    "import matplotlib.gridspec as gridspec\n",
    "import matplotlib.patches as mpatches\n",
    "from matplotlib import rc\n",
    "rc('font',**{'family':'sans-serif','sans-serif':['Helvetica']})\n",
    "rc('text', usetex=True)\n",
    "\n",
    "from methods import bhattacharyya\n",
    "from methods import plotit\n",
    "from methods import overdensity_cylinder\n",
    "from methods import factor_h\n",
    "from methods import z_distort\n",
    "from methods import get_protoclusters\n",
    "\n",
    "directory = '/lustre/scratch/astro/cl478/protoclusters_data/'\n",
    "out_directory ='output/'\n",
    "\n",
    "h = 0.673\n",
    "L = 480.279 / h # box side length\n",
    "\n",
    "# N = 200000    # number of random regions\n",
    "\n",
    "redshifts = ['2p07','3p10','3p95','5p03','5p92','6p97','8p22','8p93','9p72']\n",
    "zees = [float(z.replace('p','.')) for z in redshifts]"
   ]
  },
  {
   "cell_type": "code",
   "execution_count": null,
   "metadata": {
    "collapsed": true
   },
   "outputs": [],
   "source": []
  },
  {
   "cell_type": "markdown",
   "metadata": {},
   "source": [
    "Load galaxy dataframes"
   ]
  },
  {
   "cell_type": "code",
   "execution_count": 6,
   "metadata": {
    "scrolled": true
   },
   "outputs": [
    {
     "name": "stdout",
     "output_type": "stream",
     "text": [
      "0 2p07\n",
      "1 3p10\n",
      "2 3p95\n",
      "3 5p03\n",
      "4 5p92\n",
      "5 6p97\n",
      "6 8p22\n",
      "7 8p93\n",
      "8 9p72\n"
     ]
    }
   ],
   "source": [
    "gals_sfr = [None] * len(redshifts)\n",
    "gals_mstar = [None] * len(redshifts)\n",
    "\n",
    "for i, z in enumerate(redshifts):\n",
    "    print i, z\n",
    "    \n",
    "    gals_sfr[i] = pd.read_csv('%shenriques2015a_z%s_sfr_r200.csv'%(directory,z), \n",
    "                              skiprows=122, skipfooter=1, engine='python')\n",
    "    \n",
    "    gals_mstar[i] = pd.read_csv('%shenriques2015a_z%s_stellarMass_r200.csv'%(directory,z), \n",
    "                                skiprows=122, skipfooter=1, engine='python')"
   ]
  },
  {
   "cell_type": "markdown",
   "metadata": {},
   "source": [
    "Factor out $h$ and apply $z$-distortion"
   ]
  },
  {
   "cell_type": "code",
   "execution_count": 7,
   "metadata": {
    "scrolled": true
   },
   "outputs": [
    {
     "name": "stderr",
     "output_type": "stream",
     "text": [
      "/mnt/pact/cl478/protoclusters/protoclusters/lib/python2.7/site-packages/ipykernel_launcher.py:6: DeprecationWarning: \n",
      ".ix is deprecated. Please use\n",
      ".loc for label based indexing or\n",
      ".iloc for positional indexing\n",
      "\n",
      "See the documentation here:\n",
      "http://pandas.pydata.org/pandas-docs/stable/indexing.html#ix-indexer-is-deprecated\n",
      "  \n"
     ]
    }
   ],
   "source": [
    "for i, z in enumerate(zees):\n",
    "    for gals in [gals_sfr, gals_mstar]:\n",
    "        gals[i] = z_distort(factor_h(gals[i], h), z, L)\n",
    "\n",
    "#         print \"Filling in NaN values...\"\n",
    "        gals[i].ix[np.isnan(gals[i]['z0_haloId']), 'z0_haloId'] = -1\n",
    "        gals[i].ix[np.isnan(gals[i]['z0_centralId']), 'z0_centralId'] = -1\n",
    "        gals[i].ix[np.isnan(gals[i]['z0_central_mcrit200']), 'z0_central_mcrit200'] = 0\n",
    "    "
   ]
  },
  {
   "cell_type": "markdown",
   "metadata": {},
   "source": [
    "## Calculate $\\delta_{\\mathrm{gal}}$\n",
    "\n",
    "Calculate and save dgal for paper plots"
   ]
  },
  {
   "cell_type": "markdown",
   "metadata": {},
   "source": [
    "Find $D_{B}$ for all parameter permutations to assess the best for protocluster identification"
   ]
  },
  {
   "cell_type": "code",
   "execution_count": 4,
   "metadata": {
    "collapsed": true
   },
   "outputs": [],
   "source": [
    "N = int(1e5)\n",
    "coods = pd.DataFrame(np.random.rand(N,3) * L, columns=['zn_x','zn_y','zn_z'])  # generate random regions\n",
    "\n",
    "stats = {z: {sel: {r: {'clim': None, 'plim': None, 'DB': None} for r in [6,10,14]} \\\n",
    "             for sel in ['mstar','mstar10','sfr','sfr5']} for z in zees}"
   ]
  },
  {
   "cell_type": "code",
   "execution_count": null,
   "metadata": {},
   "outputs": [
    {
     "name": "stdout",
     "output_type": "stream",
     "text": [
      "2.07\n",
      "2.07 mstar 6 : {'clim': 0.48, 'DB': 0.857, 'plim': 0.621}\n",
      "2.07 mstar 10 : {'clim': 0.878, 'DB': 0.703, 'plim': 0.291}\n",
      "2.07 mstar 14 : {'clim': 0.97, 'DB': 0.572, 'plim': 0.147}\n",
      "2.07 mstar10 6 : {'clim': 0.5, 'DB': 0.805, 'plim': 0.667}\n",
      "2.07 mstar10 10 : {'clim': 0.875, 'DB': 0.63, 'plim': 0.333}\n",
      "2.07 mstar10 14 : {'clim': 0.967, 'DB': 0.567, 'plim': 0.17}\n",
      "2.07 sfr 6 : {'clim': 0.462, 'DB': 0.846, 'plim': 0.585}\n",
      "2.07 sfr 10 : {'clim': 0.878, 'DB': 0.68, 'plim': 0.261}\n",
      "2.07 sfr 14 : {'clim': 0.973, 'DB': 0.557, 'plim': 0.128}\n",
      "2.07 sfr5 6 : {'clim': 0.484, 'DB': 0.729, 'plim': 0.609}\n",
      "2.07 sfr5 10 : {'clim': 0.882, 'DB': 0.616, 'plim': 0.286}\n",
      "2.07 sfr5 14 : {'clim': 0.971, 'DB': 0.542, 'plim': 0.144}\n",
      "3.1\n",
      "3.1 mstar 6 : {'clim': 0.431, 'DB': 0.865, 'plim': 0.759}\n",
      "3.1 mstar 10 : {'clim': 0.859, 'DB': 0.745, 'plim': 0.387}\n",
      "3.1 mstar 14 : {'clim': 0.981, 'DB': 0.58, 'plim': 0.195}\n",
      "3.1 mstar10 6 : {'clim': 0.467, 'DB': 0.796, 'plim': 0.75}\n",
      "3.1 mstar10 10 : {'clim': 0.88, 'DB': 0.58, 'plim': 0.4}\n",
      "3.1 mstar10 14 : {'clim': 1.0, 'DB': 0.482, 'plim': 0.2}\n",
      "3.1 sfr 6 : {'clim': 0.406, 'DB': 0.876, 'plim': 0.729}\n",
      "3.1 sfr 10 : {'clim': 0.84, 'DB': 0.75, 'plim': 0.354}\n",
      "3.1 sfr 14 : {'clim': 0.979, 'DB': 0.565, 'plim': 0.176}\n",
      "3.1 sfr5 6 : {'clim': 0.434, 'DB': 0.807, 'plim': 0.76}\n",
      "3.1 sfr5 10 : {'clim': 0.864, 'DB': 0.649, 'plim': 0.389}\n",
      "3.1 sfr5 14 : {'clim': 0.98, 'DB': 0.532, 'plim': 0.2}\n",
      "3.95\n",
      "3.95 mstar 6 : {'clim': 0.396, 'DB': 0.774, 'plim': 0.8}\n",
      "3.95 mstar 10 : {'clim': 0.837, 'DB': 0.665, 'plim': 0.436}\n",
      "3.95 mstar 14 : {'clim': 0.976, 'DB': 0.531, 'plim': 0.218}\n",
      "3.95 mstar10 6 : {'clim': 0.422, 'DB': 1.352, 'plim': 0.75}\n",
      "3.95 mstar10 10 : {'clim': 0.857, 'DB': 0.437, 'plim': 0.4}\n",
      "3.95 mstar10 14 : {'clim': 1.0, 'DB': 0.297, 'plim': 0.2}\n",
      "3.95 sfr 6 : {'clim': 0.37, 'DB': 0.876, 'plim': 0.79}\n",
      "3.95 sfr 10 : {'clim': 0.819, 'DB': 0.707, 'plim': 0.408}\n",
      "3.95 sfr 14 : {'clim': 0.972, 'DB': 0.549, 'plim': 0.205}\n",
      "3.95 sfr5 6 : {'clim': 0.388, 'DB': 0.749, 'plim': 0.8}\n",
      "3.95 sfr5 10 : {'clim': 0.838, 'DB': 0.635, 'plim': 0.434}\n",
      "3.95 sfr5 14 : {'clim': 0.976, 'DB': 0.515, 'plim': 0.222}\n",
      "5.03\n",
      "5.03 mstar 6 : {'clim': 0.368, 'DB': 0.633, 'plim': 0.819}\n",
      "5.03 mstar 10 : {'clim': 0.813, 'DB': 0.591, 'plim': 0.455}\n",
      "5.03 mstar 14 : {'clim': 0.971, 'DB': 0.484, 'plim': 0.222}\n",
      "5.03 mstar10 6 : {'clim': 0.389, 'DB': 2.112, 'plim': 1.0}\n",
      "5.03 mstar10 10 : {'clim': 1.0, 'DB': 1.402, 'plim': 0.5}\n",
      "5.03 mstar10 14 : {'clim': 1.0, 'DB': 0.972, 'plim': 0.4}\n",
      "5.03 sfr 6 : {'clim': 0.328, 'DB': 0.842, 'plim': 0.822}\n",
      "5.03 sfr 10 : {'clim': 0.778, 'DB': 0.71, 'plim': 0.443}\n",
      "5.03 sfr 14 : {'clim': 0.962, 'DB': 0.555, 'plim': 0.221}\n",
      "5.03 sfr5 6 : {'clim': 0.364, 'DB': 0.71, 'plim': 0.833}\n",
      "5.03 sfr5 10 : {'clim': 0.8, 'DB': 0.605, 'plim': 0.455}\n",
      "5.03 sfr5 14 : {'clim': 0.971, 'DB': 0.494, 'plim': 0.227}\n",
      "5.92\n",
      "5.92 mstar 6 : {'clim': 0.333, 'DB': 0.484, 'plim': 0.8}\n",
      "5.92 mstar 10 : {'clim': 0.8, 'DB': 0.443, 'plim': 0.417}\n",
      "5.92 mstar 14 : {'clim': 1.0, 'DB': 0.328, 'plim': 0.2}\n",
      "5.92 mstar10 6 : {'clim': 1.0, 'DB': 3.021, 'plim': 1.0}\n",
      "5.92 mstar10 10 : {'clim': 1.0, 'DB': 2.275, 'plim': 1.0}\n",
      "5.92 mstar10 14 : {'clim': 1.0, 'DB': 1.823, 'plim': 0.5}\n",
      "5.92 sfr 6 : {'clim': 0.312, 'DB': 0.763, 'plim': 0.834}\n",
      "5.92 sfr 10 : {'clim': 0.764, 'DB': 0.703, 'plim': 0.467}\n",
      "5.92 sfr 14 : {'clim': 0.958, 'DB': 0.556, 'plim': 0.238}\n",
      "5.92 sfr5 6 : {'clim': 0.318, 'DB': 0.6, 'plim': 0.8}\n",
      "5.92 sfr5 10 : {'clim': 0.782, 'DB': 0.531, 'plim': 0.444}\n",
      "5.92 sfr5 14 : {'clim': 0.969, 'DB': 0.433, 'plim': 0.217}\n",
      "6.97\n",
      "6.97 mstar 6 : {'clim': 0.3, 'DB': 1.538, 'plim': 0.835}\n",
      "6.97 mstar 10 : {'clim': 0.8, 'DB': 0.285, 'plim': 0.5}\n",
      "6.97 mstar 14 : {'clim': 1.0, 'DB': 0.314, 'plim': 0.25}\n",
      "6.97 mstar10 6 : {'clim': 1.0, 'DB': 4.37, 'plim': 1.0}\n",
      "6.97 mstar10 10 : {'clim': 1.0, 'DB': 3.523, 'plim': 1.0}\n",
      "6.97 mstar10 14 : {'clim': 1.0, 'DB': 3.037, 'plim': 1.0}\n",
      "6.97 sfr 6 : {'clim': 0.298, 'DB': 0.668, 'plim': 0.846}\n",
      "6.97 sfr 10 : {'clim': 0.748, 'DB': 0.658, 'plim': 0.476}\n",
      "6.97 sfr 14 : {'clim': 0.959, 'DB': 0.521, 'plim': 0.243}\n",
      "6.97 sfr5 6 : {'clim': 0.3, 'DB': 1.159, 'plim': 0.8}\n",
      "6.97 sfr5 10 : {'clim': 0.789, 'DB': 0.369, 'plim': 0.403}\n",
      "6.97 sfr5 14 : {'clim': 0.966, 'DB': 0.328, 'plim': 0.2}\n",
      "8.22\n",
      "8.22 mstar 6 : {'clim': 0.429, 'DB': 2.47, 'plim': 1.0}\n",
      "8.22 mstar 10 : {'clim': 1.0, 'DB': 1.689, 'plim': 1.0}\n",
      "8.22 mstar 14 : {'clim': 1.0, 'DB': 1.252, 'plim': 0.5}\n",
      "8.22 mstar10 6 : {'clim': 1.0, 'DB': 5.41, 'plim': 1.0}\n",
      "8.22 mstar10 10 : {'clim': 1.0, 'DB': 5.063, 'plim': 1.0}\n",
      "8.22 mstar10 14 : {'clim': 1.0, 'DB': 4.717, 'plim': 1.0}\n",
      "8.22 sfr 6 : {'clim': 0.278, 'DB': 0.582, 'plim': 0.833}\n",
      "8.22 sfr 10 : {'clim': 0.75, 'DB': 0.465, 'plim': 0.455}\n",
      "8.22 sfr 14 : {'clim': 0.952, 'DB': 0.371, 'plim': 0.222}\n",
      "8.22 sfr5 6 : {'clim': 0.25, 'DB': 1.533, 'plim': 1.0}\n",
      "8.22 sfr5 10 : {'clim': 0.8, 'DB': 0.26, 'plim': 0.5}\n",
      "8.22 sfr5 14 : {'clim': 1.0, 'DB': 0.208, 'plim': 0.25}\n",
      "8.93\n",
      "8.93 mstar 6 : {'clim': 1.0, 'DB': 3.077, 'plim': 1.0}\n",
      "8.93 mstar 10 : {'clim': 1.0, 'DB': 2.274, 'plim': 1.0}\n",
      "8.93 mstar 14 : {'clim': 1.0, 'DB': 1.825, 'plim': 0.5}\n"
     ]
    },
    {
     "name": "stderr",
     "output_type": "stream",
     "text": [
      "/mnt/pact/cl478/protoclusters/protoclusters/lib/python2.7/site-packages/numpy/lib/function_base.py:824: RuntimeWarning: invalid value encountered in true_divide\n",
      "  return n/(n*db).sum(), bins\n"
     ]
    },
    {
     "name": "stdout",
     "output_type": "stream",
     "text": [
      "8.93 mstar10 6 : {'clim': 1.0, 'DB': nan, 'plim': 1.0}\n"
     ]
    },
    {
     "name": "stderr",
     "output_type": "stream",
     "text": [
      "methods.py:266: RuntimeWarning: divide by zero encountered in log\n",
      "  distance = -np.log(BC)\n"
     ]
    },
    {
     "name": "stdout",
     "output_type": "stream",
     "text": [
      "8.93 mstar10 10 : {'clim': 1.0, 'DB': inf, 'plim': 1.0}\n",
      "8.93 mstar10 14 : {'clim': 1.0, 'DB': inf, 'plim': 1.0}\n",
      "8.93 sfr 6 : {'clim': 0.25, 'DB': 0.365, 'plim': 0.8}\n",
      "8.93 sfr 10 : {'clim': 0.75, 'DB': 0.412, 'plim': 0.4}\n",
      "8.93 sfr 14 : {'clim': 0.952, 'DB': 0.282, 'plim': 0.2}\n"
     ]
    }
   ],
   "source": [
    "# for i, z in enumerate(zees):\n",
    "    \n",
    "#     print z\n",
    "    \n",
    "#     for j, (gals, glabel) in enumerate(zip([gals_mstar[i], gals_mstar[i].loc[gals_mstar[i]['zn_stellarMass'] > 1],\n",
    "#                               gals_sfr[i], gals_sfr[i].loc[gals_sfr[i]['zn_sfr'] > 5]],\n",
    "#                                  ['mstar','mstar10','sfr','sfr5'])):\n",
    "    \n",
    "#         for r in [6,10,14]:\n",
    "            \n",
    "#             pcs = get_protoclusters(gals, L)\n",
    "#             out_stats = overdensity_cylinder(gals, pcs['coods'], L=L, R=r, dc=r, pc_stats=True)  # pc stats\n",
    "            \n",
    "#             stats[z][glabel][r]['clim'] = round(np.percentile(out_stats[:,1], 5), 3)\n",
    "#             stats[z][glabel][r]['plim'] = round(np.percentile(out_stats[:,2], 5), 3)\n",
    "            \n",
    "#             out_stats = overdensity_cylinder(gals, coods, L=L, R=r, dc=r, pc_stats=True)  # all coods stats\n",
    "            \n",
    "#             stats[z][glabel][r]['DB'] = plotit(1, out_stats, axb=1, N=18, clim=stats[z][glabel][r]['clim'],\n",
    "#                                               plim=stats[z][glabel][r]['plim'], mlim=7.3e4, noplot=True)[0]\n",
    "            \n",
    "            \n",
    "#             print z, glabel, r, \":\", stats[z][glabel][r]\n",
    "            "
   ]
  },
  {
   "cell_type": "code",
   "execution_count": 2,
   "metadata": {
    "collapsed": true
   },
   "outputs": [],
   "source": [
    "# pcl.dump(stats, open('od_stats.p','w'))\n",
    "stats = pcl.load(open('od_stats.p', 'r'))"
   ]
  },
  {
   "cell_type": "code",
   "execution_count": null,
   "metadata": {
    "collapsed": true
   },
   "outputs": [],
   "source": []
  },
  {
   "cell_type": "code",
   "execution_count": 3,
   "metadata": {},
   "outputs": [
    {
     "data": {
      "text/plain": [
       "<matplotlib.text.Text at 0x2aab0ca84e50>"
      ]
     },
     "execution_count": 3,
     "metadata": {},
     "output_type": "execute_result"
    },
    {
     "data": {
      "image/png": "[encoded data removed]",
      "text/plain": [
       "<matplotlib.figure.Figure at 0x2aab0a96d610>"
      ]
     },
     "metadata": {},
     "output_type": "display_data"
    }
   ],
   "source": [
    "from matplotlib.ticker import MaxNLocator\n",
    "\n",
    "fig = plt.figure(figsize=(7,4))\n",
    "\n",
    "gs1 = gridspec.GridSpec(3, 1)\n",
    "gs1.update(hspace=0.4)\n",
    "\n",
    "ax1 = fig.add_subplot(gs1[0,0])\n",
    "ax2 = fig.add_subplot(gs1[1,0])\n",
    "ax3 = fig.add_subplot(gs1[2,0])\n",
    "\n",
    "cax1 = ax1.imshow(np.array([[stats[z]['sfr'][r]['DB'] for z in zees[:8]] for r in [6,10,14]]), aspect=0.5)\n",
    "cax2 = ax2.imshow(np.array([[stats[z]['sfr5'][r]['DB'] for z in zees[:5]] for r in [6,10,14]]), aspect=0.5)\n",
    "cax3 = ax3.imshow(np.array([[stats[z]['mstar'][r]['DB'] for z in zees[:5]] for r in [6,10,14]]), aspect=0.5)\n",
    "# ax4.imshow(np.log10(np.array([[stats[z]['mstar10'][r]['DB'] for z in zees[:2]] for r in [6,10,14]])))\n",
    "\n",
    "for ax, cax in zip([ax1,ax2,ax3], [cax1,cax2,cax3]):\n",
    "    ax.set_xticklabels(np.roll(zees, 1))\n",
    "    ax.set_yticklabels(['None',6,10,14])\n",
    "    ax.set_ylabel('$R (= D)$', size=13)\n",
    "    fig.colorbar(cax, ax=ax, label='$D_{B}$', ticks=[0.4, 0.5, 0.6, 0.7, 0.8])\n",
    "    ax.yaxis.set_major_locator(MaxNLocator(integer=True))\n",
    "\n",
    "\n",
    "ax1.text(-0.2, 0.6, '$\\mathrm{S_{SFR1}}$', size=15, transform = ax1.transAxes, alpha=0.8, rotation=90)\n",
    "ax2.text(-0.26, 0.6, '$\\mathrm{S_{SFR5}}$', size=15, transform = ax2.transAxes, alpha=0.8, rotation=90)\n",
    "ax3.text(-0.3, 0.6, '$\\mathrm{S_{MAS9}}$', size=15, transform = ax3.transAxes, alpha=0.8, rotation=90)\n",
    "\n",
    "ax3.set_xlabel('$z$', size=13)\n",
    "\n",
    "# plt.savefig(out_directory+'db_map.png', bbox_inches='tight', dpi=300)"
   ]
  },
  {
   "cell_type": "code",
   "execution_count": null,
   "metadata": {
    "collapsed": true
   },
   "outputs": [],
   "source": []
  },
  {
   "cell_type": "code",
   "execution_count": 4,
   "metadata": {
    "collapsed": true,
    "scrolled": true
   },
   "outputs": [],
   "source": [
    "# out_stats_sfr_z3p95_r10_dc10 = overdensity_cylinder(gals_sfr[2], coods, L=L, R=10, dc=10, pc_stats=True)\n",
    "# out_stats_sfr_z3p95_r6_dc6 = overdensity_cylinder(gals_sfr[2], coods, L=L, R=6, dc=6, pc_stats=True)\n",
    "# out_stats_sfr_z3p95_r14_dc14 = overdensity_cylinder(gals_sfr[2], coods, L=L, R=14, dc=14, pc_stats=True)\n",
    "# out_stats_sfr_z3p95_r6_dc14 = overdensity_cylinder(gals_sfr[2], coods, L=L, R=6, dc=14, pc_stats=True)\n",
    "# out_stats_sfr_z3p95_r10_dc14 = overdensity_cylinder(gals_sfr[2], coods, L=L, R=10, dc=14, pc_stats=True)\n",
    "# out_stats_sfr_z3p10_r10_dc10 = overdensity_cylinder(gals_sfr[1], coods, L=L, R=10, dc=10, pc_stats=True)\n",
    "# out_stats_sfr_z5p03_r10_dc10 = overdensity_cylinder(gals_sfr[3], coods, L=L, R=10, dc=10, pc_stats=True)\n",
    "# out_stats_mstar_z2p07_r10_dc10 = overdensity_cylinder(gals_mstar[0], coods, L=L, R=10, dc=10, pc_stats=True)\n",
    "# out_stats_mstar10_z2p07_r10_dc10 = overdensity_cylinder(gals_mstar[0].loc[gals_mstar[0]['zn_stellarMass'] > 1]\\\n",
    "#                                                         .reset_index(drop=True), coods, L=L, \n",
    "#                                                         R=10, dc=10, pc_stats=True)\n",
    "\n",
    "\n",
    "# pcl.dump([out_stats_sfr_z3p95_r10_dc10, out_stats_sfr_z3p95_r6_dc6, out_stats_sfr_z3p95_r14_dc14,\n",
    "#          out_stats_sfr_z3p95_r6_dc14, out_stats_sfr_z3p95_r10_dc14, out_stats_sfr_z3p10_r10_dc10,\n",
    "#          out_stats_sfr_z5p03_r10_dc10, out_stats_mstar_z2p07_r10_dc10, out_stats_mstar10_z2p07_r10_dc10], \n",
    "#          open('out_stats.p','w'))\n",
    "\n",
    "out_stats_sfr_z3p95_r10_dc10, out_stats_sfr_z3p95_r6_dc6, out_stats_sfr_z3p95_r14_dc14,\\\n",
    "out_stats_sfr_z3p95_r6_dc14, out_stats_sfr_z3p95_r10_dc14, out_stats_sfr_z3p10_r10_dc10,\\\n",
    "out_stats_sfr_z5p03_r10_dc10, out_stats_mstar_z2p07_r10_dc10, out_stats_mstar10_z2p07_r10_dc10 = \\\n",
    "    pcl.load(open('out_stats.p','r'))"
   ]
  },
  {
   "cell_type": "markdown",
   "metadata": {},
   "source": [
    "Find $C_{lim}$ and $P_{lim}$"
   ]
  },
  {
   "cell_type": "code",
   "execution_count": 27,
   "metadata": {},
   "outputs": [
    {
     "name": "stdout",
     "output_type": "stream",
     "text": [
      " 0, R: 10 dc: 10\n",
      "Clim: 1.00 1.00 0.82\n",
      "Plim: 0.88 0.63 0.41\n",
      "\n",
      "1, R: 6 dc: 6\n",
      "Clim: 0.97 0.77 0.37\n",
      "Plim: 1.00 0.94 0.79\n",
      "\n",
      "2, R: 14 dc: 14\n",
      "Clim: 1.00 1.00 0.97\n",
      "Plim: 0.65 0.36 0.20\n",
      "\n",
      "3, R: 6 dc: 14\n",
      "Clim: 0.97 0.79 0.42\n",
      "Plim: 0.94 0.78 0.53\n",
      "\n",
      "4, R: 10 dc: 14\n",
      "Clim: 1.00 1.00 0.82\n",
      "Plim: 0.82 0.54 0.33\n",
      "\n",
      "5, R: 10 dc: 10\n",
      "Clim: 1.00 1.00 0.84\n",
      "Plim: 0.83 0.57 0.35\n",
      "\n",
      "6, R: 10 dc: 10\n",
      "Clim: 1.00 1.00 0.78\n",
      "Plim: 0.92 0.69 0.44\n",
      "\n",
      "7, R: 10 dc: 10\n",
      "Clim: 1.00 0.99 0.88\n",
      "Plim: 0.75 0.49 0.29\n",
      "\n",
      "8, R: 10 dc: 10\n",
      "Clim: 1.00 1.00 0.88\n",
      "Plim: 0.86 0.59 0.33\n",
      "\n"
     ]
    }
   ],
   "source": [
    "gals = [gals_sfr[2], gals_sfr[2], gals_sfr[2], gals_sfr[2], gals_sfr[2], gals_sfr[1], gals_sfr[3],\n",
    "        gals_mstar[0], gals_mstar[0].loc[gals_mstar[0]['zn_stellarMass'] > 1].reset_index(drop=True)]\n",
    "\n",
    "R = [10, 6, 14, 6, 10, 10, 10, 10, 10]\n",
    "dc = [10, 6, 14, 14, 14, 10, 10, 10, 10]\n",
    "\n",
    "clim = [None] * len(gals)\n",
    "plim = [None] * len(gals)\n",
    "\n",
    "for i, (gal, r, delc) in enumerate(zip(gals, R, dc)):\n",
    "    print \"%s, R:\"%i, r, \"dc:\", delc\n",
    "    \n",
    "    pcs = get_protoclusters(gal, L)\n",
    "    out_stats = overdensity_cylinder(gal, pcs['coods'], L=L, R=r, dc=delc, pc_stats=True)\n",
    "    \n",
    "    print \"Clim: %.2f %.2f %.2f\"%(np.percentile(out_stats[:,1], 95), np.median(out_stats[:,1]), \n",
    "                                  np.percentile(out_stats[:,1], 5))\n",
    "    \n",
    "    print \"Plim: %.2f %.2f %.2f\\n\"%(np.percentile(out_stats[:,2], 95), np.median(out_stats[:,2]), \n",
    "                                  np.percentile(out_stats[:,2], 5))\n",
    "    \n",
    "    clim[i] = np.percentile(out_stats[:,1], 5)\n",
    "    plim[i] = np.percentile(out_stats[:,2], 5)\n",
    "    "
   ]
  },
  {
   "cell_type": "markdown",
   "metadata": {
    "collapsed": true
   },
   "source": [
    "Bhattacharrya distance ($D_{B}$) for different selections"
   ]
  },
  {
   "cell_type": "code",
   "execution_count": 28,
   "metadata": {},
   "outputs": [
    {
     "name": "stdout",
     "output_type": "stream",
     "text": [
      "sfr_z3p95_r10_dc10: 0.662 \n",
      "\n",
      "sfr_z3p95_r6_dc6: 0.765 \n",
      "\n",
      "sfr_z3p95_r14_dc14: 0.509 \n",
      "\n",
      "sfr_z3p95_r6_dc14: 0.678 \n",
      "\n",
      "sfr_z3p95_r10_dc14: 0.585 \n",
      "\n",
      "sfr_z3p10_r10_dc10: 0.666 \n",
      "\n",
      "sfr_z5p03_r10_dc10: 0.647 \n",
      "\n",
      "mstar_z2p07_r10_dc10: 0.617 \n",
      "\n",
      "mstar10_z2p07_r10_dc10: 0.536 \n",
      "\n"
     ]
    }
   ],
   "source": [
    "N = 18\n",
    "\n",
    "print \"sfr_z3p95_r10_dc10:\", plotit(1, out_stats_sfr_z3p95_r10_dc10, axb=1, N=N, clim=clim[0], plim=plim[0], noplot=True)[0], \\\n",
    "\"\\n\\nsfr_z3p95_r6_dc6:\", plotit(1, out_stats_sfr_z3p95_r6_dc6, axb=1, N=N, clim=clim[1], plim=plim[1], noplot=True)[0], \\\n",
    "\"\\n\\nsfr_z3p95_r14_dc14:\", plotit(1, out_stats_sfr_z3p95_r14_dc14, axb=1, N=N, clim=clim[2], plim=plim[2], noplot=True)[0],\"\\n\"\n",
    "\n",
    "print \"sfr_z3p95_r6_dc14:\", plotit(1, out_stats_sfr_z3p95_r6_dc14, axb=1, N=N, clim=clim[3], plim=plim[3], noplot=True)[0], \\\n",
    "\"\\n\\nsfr_z3p95_r10_dc14:\", plotit(1, out_stats_sfr_z3p95_r10_dc14, axb=1, N=N, clim=clim[4], plim=plim[4], noplot=True)[0],\"\\n\"\n",
    "\n",
    "print \"sfr_z3p10_r10_dc10:\", plotit(1, out_stats_sfr_z3p10_r10_dc10, axb=1, N=N, clim=clim[5], plim=plim[5], noplot=True)[0],\\\n",
    "\"\\n\\nsfr_z5p03_r10_dc10:\", plotit(1, out_stats_sfr_z5p03_r10_dc10, axb=1, N=N, clim=clim[6], plim=plim[6], noplot=True)[0], \"\\n\"\n",
    "\n",
    "print \"mstar_z2p07_r10_dc10:\", plotit(1, out_stats_mstar_z2p07_r10_dc10, axb=1, N=N, clim=clim[7], plim=plim[7], noplot=True)[0],\\\n",
    "\"\\n\\nmstar10_z2p07_r10_dc10:\", plotit(1, out_stats_mstar10_z2p07_r10_dc10, axb=1, N=N, clim=clim[8], plim=plim[8], noplot=True)[0], \"\\n\""
   ]
  },
  {
   "cell_type": "markdown",
   "metadata": {
    "collapsed": true
   },
   "source": [
    "Example plot showing both axes."
   ]
  },
  {
   "cell_type": "code",
   "execution_count": 29,
   "metadata": {},
   "outputs": [
    {
     "data": {
      "image/png": "[encoded data removed]",
      "text/plain": [
       "<matplotlib.figure.Figure at 0x2aabd0783ad0>"
      ]
     },
     "metadata": {},
     "output_type": "display_data"
    }
   ],
   "source": [
    "fig, ax = plt.subplots(2,1, figsize=(3,5))\n",
    "\n",
    "plotit(ax[0], out_stats_sfr_z3p95_r10_dc10, axb=ax[1], N=18, clim=0.5, plim=0.5)"
   ]
  },
  {
   "cell_type": "markdown",
   "metadata": {
    "collapsed": true
   },
   "source": [
    "Eample without bottom axis"
   ]
  },
  {
   "cell_type": "code",
   "execution_count": 30,
   "metadata": {},
   "outputs": [
    {
     "data": {
      "image/png": "[encoded data removed]",
      "text/plain": [
       "<matplotlib.figure.Figure at 0x2aabcfd9ced0>"
      ]
     },
     "metadata": {},
     "output_type": "display_data"
    }
   ],
   "source": [
    "fig, ax = plt.subplots(1,1, figsize=(4,3))\n",
    "\n",
    "plotit(ax, out_stats_sfr_z3p95_r10_dc10, axb=None, N=18, clim=0.4, plim=0.5, minimum=10)"
   ]
  },
  {
   "cell_type": "markdown",
   "metadata": {
    "collapsed": true
   },
   "source": [
    "## Paper figures\n",
    "\n",
    "Figure 6"
   ]
  },
  {
   "cell_type": "code",
   "execution_count": null,
   "metadata": {
    "collapsed": true
   },
   "outputs": [],
   "source": []
  },
  {
   "cell_type": "code",
   "execution_count": 39,
   "metadata": {},
   "outputs": [
    {
     "data": {
      "image/png": "[encoded data removed]",
      "text/plain": [
       "<matplotlib.figure.Figure at 0x2aabd06fc2d0>"
      ]
     },
     "metadata": {},
     "output_type": "display_data"
    }
   ],
   "source": [
    "fig = plt.figure(figsize=(9, 13))\n",
    "\n",
    "gs1 = gridspec.GridSpec(18, 3)\n",
    "gs1.update(wspace=0.06, hspace=0.)\n",
    "\n",
    "ax1 = fig.add_subplot(gs1[0:3,0])\n",
    "ax1b = fig.add_subplot(gs1[3:5,0])\n",
    "\n",
    "ax2 = fig.add_subplot(gs1[0:3,1])\n",
    "ax2b = fig.add_subplot(gs1[3:5,1])\n",
    "\n",
    "ax3 = fig.add_subplot(gs1[0:3,2])\n",
    "ax3b = fig.add_subplot(gs1[3:5,2])\n",
    "\n",
    "N = 18\n",
    "minimum = 5\n",
    "\n",
    "plotit(ax1, out_stats_sfr_z3p95_r6_dc6, axb=ax1b, N=N, clim=clim[1], plim=plim[1], minimum=minimum)\n",
    "ax1.text(0.05,1.05,'$R = 6, D = 12 \\,\\mathrm{cMpc}$', transform=ax1.transAxes)\n",
    "\n",
    "for ax in [ax1,ax1b]:\n",
    "    ax.set_xlim(0, out_stats_sfr_z3p95_r6_dc6[:,0].max() * 0.8)\n",
    "    \n",
    "\n",
    "plotit(ax2, out_stats_sfr_z3p95_r10_dc10, axb=ax2b, N=N, clim=clim[0], plim=plim[0], minimum=minimum)\n",
    "ax2.text(0.05,1.05,'$R = 10, D = 20 \\,\\mathrm{cMpc}$', transform=ax2.transAxes)\n",
    "\n",
    "for ax in [ax2,ax2b]:\n",
    "    ax.set_xlim(0, out_stats_sfr_z3p95_r10_dc10[:,0].max() * 0.8)\n",
    "    \n",
    "\n",
    "plotit(ax3, out_stats_sfr_z3p95_r14_dc14, axb=ax3b, N=N, clim=clim[2], plim=plim[2], minimum=minimum)\n",
    "ax3.text(0.05,1.05,'$R = 14, D = 28 \\,\\mathrm{cMpc}$', transform=ax3.transAxes)\n",
    "\n",
    "for ax in [ax3,ax3b]:\n",
    "    ax.set_xlim(0, out_stats_sfr_z3p95_r14_dc14[:,0].max() * 0.8)\n",
    "    \n",
    "\n",
    "ax3.yaxis.tick_right()\n",
    "ax3b.yaxis.tick_right()\n",
    "\n",
    "ax2.set_yticks([])\n",
    "ax2b.set_yticks([])\n",
    "\n",
    "for ax in ([ax1b,ax2b,ax3b]):\n",
    "#     ax.set_yticks([])\n",
    "    ax.set_xlabel('$\\delta_{gal} + 1$', size=15)\n",
    "#     ax.set_ylim([0., .65])\n",
    "    \n",
    "\n",
    "ax1b.set_ylabel('$\\mathrm{Norm. \\; PDF}$', size=14)\n",
    "ax1.set_ylabel('$f$', size=14)\n",
    "    \n",
    "for ax in [ax1,ax2,ax3]:\n",
    "    ax.set_xticklabels([])\n",
    "    \n",
    "    \n",
    "# Legend 1\n",
    "pat1 = mpatches.Patch(color='lightgrey',label='Field')\n",
    "pat2 = mpatches.Patch(color='lightseagreen',label='Proto')\n",
    "pat3 = mpatches.Patch(color='lightcoral',label='ProtoField')\n",
    "pat4 = mpatches.Patch(color='y',label='PartProto')\n",
    "patM1 = mpatches.Patch(color='white', hatch='///',label='$M_{200} / M_{\\odot}$ \\n $\\geq 5 \\\\times 10^{14}$')\n",
    "patM2 = mpatches.Patch(color='white', hatch='',label='$M_{200} / M_{\\odot}$ \\n $< 5 \\\\times 10^{14}$')\n",
    "colors = ['dimgrey','lightseagreen','lightcoral', 'y']\n",
    "    \n",
    "legend = ax3.legend(handles = [pat1,pat2,patM1,pat3,pat4,patM2], bbox_to_anchor=(1.328, .59),\n",
    "                    ncol=2, prop={'size': 12}, labelspacing=0.9)\n",
    "\n",
    "legend.get_frame().set_facecolor('white')\n",
    "legend.get_frame().set_edgecolor('white')\n",
    "\n",
    "for patch in legend.get_patches():\n",
    "    patch.set_edgecolor('black')\n",
    "    \n",
    "\n",
    "# Legend 2\n",
    "line_field = plt.Line2D((0,1.5),(0,0), color='dimgrey', linestyle='solid', linewidth=3)\n",
    "line_proto1 = plt.Line2D((0,1.5),(0,0), color='lightseagreen', linestyle='solid', linewidth=3)\n",
    "line_proto2= plt.Line2D((0,1.5),(0,0), color='lightseagreen', linestyle='dashed', linewidth=3)\n",
    "line_part = plt.Line2D((0,1.5),(0,0), color='y', linestyle='dashed', linewidth=3)\n",
    "\n",
    "line_comb1 = plt.Line2D((0,1.5),(0,0), color='lightseagreen', linestyle='solid', linewidth=3)\n",
    "line_comb2 = plt.Line2D((0,1.5),(0,0), color='y', linestyle='dashed', linewidth=3)\n",
    "\n",
    "legend = ax3b.legend(handles = [line_field,line_proto1,line_proto2,(line_comb1, line_comb2),line_part],\n",
    "                     labels=['Field','Proto \\n $M_{200} / M_{\\odot}$\\n$< 5 \\\\times 10^{14}$',\n",
    "                             'Proto \\n$M_{200} / M_{\\odot}$\\n$\\geq 5 \\\\times 10^{14}$',\n",
    "                              'Proto + \\n PartProto',\n",
    "                            'PartProto \\n$M_{200} / M_{\\odot}$\\n$\\geq 5 \\\\times 10^{14}$)'],\n",
    "                     bbox_to_anchor=(2.72, 1.45), ncol=2, prop={'size': 12}, labelspacing=1.0)\n",
    "\n",
    "legend.get_frame().set_facecolor('white')\n",
    "legend.get_frame().set_edgecolor('white')\n",
    "\n",
    "# plt.savefig(out_directory+'probabilities_A.png', bbox_inches='tight', dpi=300)"
   ]
  },
  {
   "cell_type": "markdown",
   "metadata": {},
   "source": [
    "Appendix figure"
   ]
  },
  {
   "cell_type": "code",
   "execution_count": 40,
   "metadata": {
    "scrolled": false
   },
   "outputs": [
    {
     "data": {
      "image/png": "[encoded data removed]",
      "text/plain": [
       "<matplotlib.figure.Figure at 0x2aabced17e10>"
      ]
     },
     "metadata": {},
     "output_type": "display_data"
    }
   ],
   "source": [
    "fig = plt.figure(figsize=(7, 8))\n",
    "\n",
    "gs = gridspec.GridSpec(3, 3)\n",
    "gs.update(wspace=0.1, hspace=0.4) # bottom = 0.57, top = 1, , wspace=0\n",
    "\n",
    "N = 18\n",
    "\n",
    "ax1 = fig.add_subplot(gs[0,0])\n",
    "ax2 = fig.add_subplot(gs[1,0])\n",
    "ax3 = fig.add_subplot(gs[2,0])\n",
    "\n",
    "for cl, ax in zip([0.3, 0.5, 0.7], [ax1,ax2,ax3]):\n",
    "    plotit(ax, out_stats_sfr_z3p95_r10_dc10, plim=0.3, clim=cl, N=N, minimum=10)\n",
    "    ax.text(0.05,1.05,'$P = 0.3$, $C = %s$'%cl, transform=ax.transAxes)\n",
    "    ax.set_ylabel('$f$', size=15)\n",
    "    \n",
    "\n",
    "ax4 = fig.add_subplot(gs[0,1])\n",
    "ax5 = fig.add_subplot(gs[1,1])\n",
    "ax6 = fig.add_subplot(gs[2,1])\n",
    "\n",
    "for cl, ax in zip([0.3, 0.5, 0.7], [ax4, ax5, ax6]):\n",
    "    plotit(ax, out_stats_sfr_z3p95_r10_dc10, plim=0.5, clim=cl, N=N, minimum=10)\n",
    "    ax.text(0.05,1.05,'$P = 0.5$, $C = %s$'%cl, transform=ax.transAxes)\n",
    "    ax.set_yticks([])\n",
    "    \n",
    "\n",
    "ax7 = fig.add_subplot(gs[0,2])\n",
    "ax8 = fig.add_subplot(gs[1,2])\n",
    "ax9 = fig.add_subplot(gs[2,2])\n",
    "\n",
    "for cl, ax in zip([0.3, 0.5, 0.7], [ax7, ax8, ax9]):\n",
    "    plotit(ax, out_stats_sfr_z3p95_r10_dc10, plim=0.7, clim=cl, N=N, minimum=10)\n",
    "    ax.text(0.05,1.05,'$P = 0.7$, $C = %s$'%cl, transform=ax.transAxes)\n",
    "    ax.yaxis.tick_right()\n",
    "    \n",
    "\n",
    "for ax in [ax3, ax6, ax9]:\n",
    "    ax.set_xlabel('$\\delta_{\\mathrm{gal}} + 1$', size=15)\n",
    "\n",
    "\n",
    "# # Legend\n",
    "# pat1 = mpatches.Patch(color='lightgrey',label='Field')\n",
    "# pat2 = mpatches.Patch(color='lightseagreen',label='Proto')\n",
    "# pat3 = mpatches.Patch(color='lightcoral',label='ProtoField')\n",
    "# pat4 = mpatches.Patch(color='y',label='PartProto')\n",
    "# patM1 = mpatches.Patch(color='white', hatch='///',label='$M_{200} / M_{\\odot}$ \\n $\\geq 5 \\\\times 10^{14}$')\n",
    "# patM2 = mpatches.Patch(color='white', hatch='',label='$M_{200} / M_{\\odot}$ \\n $< 5 \\\\times 10^{14}$')\n",
    "# colors = ['dimgrey','lightseagreen','lightcoral', 'y']\n",
    "    \n",
    "# legend = ax6.legend(handles = [pat1,pat2,pat3,pat4,patM1,patM2], bbox_to_anchor=(1.7, -0.4),\n",
    "#                     ncol=3, prop={'size': 12}, labelspacing=0.9)\n",
    "\n",
    "# legend.get_frame().set_facecolor('white')\n",
    "# legend.get_frame().set_edgecolor('white')\n",
    "\n",
    "# for patch in legend.get_patches():\n",
    "#     patch.set_edgecolor('black')\n",
    "    \n",
    "# # Legend\n",
    "# line_field = plt.Line2D((0,1.5),(0,0), color='dimgrey', linestyle='solid', linewidth=1)\n",
    "# line_proto1 = plt.Line2D((0,1.5),(0,0), color='lightseagreen', linestyle='solid', linewidth=1)\n",
    "# line_proto2= plt.Line2D((0,1.5),(0,0), color='lightseagreen', linestyle='dashed', linewidth=1)\n",
    "# line_part = plt.Line2D((0,1.5),(0,0), color='y', linestyle='dashed', linewidth=1)\n",
    "\n",
    "# line_comb1 = plt.Line2D((0,1.5),(0,0), color='lightseagreen', linestyle='solid', linewidth=3)\n",
    "# line_comb2 = plt.Line2D((0,1.5),(0,0), color='y', linestyle='dashed', linewidth=3)\n",
    "\n",
    "# legend = ax9.legend(handles = [line_field,line_proto1,line_proto2,(line_comb1, line_comb2),line_part],\n",
    "#                      labels=['Field','Proto \\n $M_{200} / M_{\\odot}$\\n$< 5 \\\\times 10^{14}$',\n",
    "#                              'Proto \\n$M_{200} / M_{\\odot}$\\n$\\geq 5 \\\\times 10^{14}$',\n",
    "#                               'Proto + \\n PartProto',\n",
    "#                             'PartProto \\n$M_{200} / M_{\\odot}$\\n$\\geq 5 \\\\times 10^{14}$)'],\n",
    "#                      bbox_to_anchor=(0.7, -1.1), ncol=3, prop={'size': 12}, labelspacing=1.0)\n",
    "\n",
    "# legend.get_frame().set_facecolor('white')\n",
    "# legend.get_frame().set_edgecolor('white')\n",
    "\n",
    "for ax in [ax1,ax2,ax3,ax4,ax5,ax6,ax7,ax8,ax9]:\n",
    "    ax.set_xlim(0, 9)\n",
    "    \n",
    "    \n",
    "# plt.savefig(out_directory+'probabilities_C.png', bbox_inches='tight', dpi=300)"
   ]
  },
  {
   "cell_type": "markdown",
   "metadata": {},
   "source": [
    "Deprecated"
   ]
  },
  {
   "cell_type": "code",
   "execution_count": null,
   "metadata": {
    "collapsed": true
   },
   "outputs": [],
   "source": [
    "fig = plt.figure(figsize=(5, 12))\n",
    "\n",
    "gs = gridspec.GridSpec(19, 2)\n",
    "gs.update(wspace=0.1, hspace=0)\n",
    "\n",
    "ax1 = fig.add_subplot(gs[0:3,0])\n",
    "ax1b = fig.add_subplot(gs[3:5,0])\n",
    "\n",
    "ax2 = fig.add_subplot(gs[0:3,1])\n",
    "ax2b = fig.add_subplot(gs[3:5,1])\n",
    "\n",
    "ax3 = fig.add_subplot(gs[7:10,0])\n",
    "ax3b = fig.add_subplot(gs[10:12,0])\n",
    "\n",
    "ax4 = fig.add_subplot(gs[7:10,1])\n",
    "ax4b = fig.add_subplot(gs[10:12,1])\n",
    "\n",
    "ax5 = fig.add_subplot(gs[14:17,0])\n",
    "ax5b = fig.add_subplot(gs[17:19,0])\n",
    "\n",
    "ax6 = fig.add_subplot(gs[14:17,1])\n",
    "ax6b = fig.add_subplot(gs[17:19,1])\n",
    "\n",
    "N = 19\n",
    "\n",
    "plotit(ax1, out_stats_sfr_z3p95_r6_dc14, axb=ax1b, N=N, clim=0.6, plim=0.4)\n",
    "ax1.text(0.05,1.05,'$R = 6, D/2 = 14 \\,\\mathrm{cMpc}$', transform=ax1.transAxes, size=10)\n",
    "\n",
    "plotit(ax2, out_stats_sfr_z3p95_r10_dc14, axb=ax2b, N=N, clim=0.6, plim=0.4)\n",
    "ax2.text(0.05,1.05,'$R = 10, D/2 = 14\\,\\mathrm{cMpc}$', transform=ax2.transAxes, size=10)\n",
    "\n",
    "plotit(ax3, out_stats_sfr_z3p10_r10_dc10, clim=0.6, plim=0.3, N=N, axb = ax3b)\n",
    "ax3.text(0.05,1.05,'$z = 3.10$', transform=ax3.transAxes, size=12)\n",
    "\n",
    "plotit(ax4, out_stats_sfr_z5p03_r10_dc10, clim=0.7, plim=0.6, N=N, axb = ax4b)\n",
    "ax4.text(0.05,1.05,'$z = 5.92$', transform=ax4.transAxes, size=12)\n",
    "\n",
    "plotit(ax5, out_stats_mstar_z2p07_r10_dc10, N=N, clim=0.8, plim=0.4, axb=ax5b)\n",
    "ax5.text(0.05,1.05,'$\\mathrm{S}_9$', transform=ax5.transAxes, size=12)\n",
    "\n",
    "plotit(ax6, out_stats_mstar10_z2p07_r10_dc10, N=N, clim=0.8, plim=0.5, axb=ax6b)\n",
    "ax6.text(0.05,1.05,'$\\mathrm{S}_{10}$', transform=ax6.transAxes, size=12)\n",
    "\n",
    "\n",
    "for ax in [ax2,ax4,ax6]:\n",
    "    ax.yaxis.tick_right()\n",
    "    \n",
    "for ax in [ax1b,ax2b,ax3b,ax4b,ax5b,ax6b]:\n",
    "    ax.set_yticks([])\n",
    "    ax.set_xlabel('$\\delta_{\\mathrm{gal}} + 1$', size=15)\n",
    "\n",
    "for ax in [ax1,ax2,ax3,ax4,ax5,ax6]:\n",
    "    ax.set_xticklabels([])\n",
    "\n",
    "\n",
    "# plt.savefig(out_directory+'probabilities_depth.png', bbox_inches='tight', dpi=300)"
   ]
  },
  {
   "cell_type": "code",
   "execution_count": null,
   "metadata": {
    "collapsed": true
   },
   "outputs": [],
   "source": []
  }
 ],
 "metadata": {
  "kernelspec": {
   "display_name": "Python 2",
   "language": "python",
   "name": "python2"
  },
  "language_info": {
   "codemirror_mode": {
    "name": "ipython",
    "version": 2
   },
   "file_extension": ".py",
   "mimetype": "text/x-python",
   "name": "python",
   "nbconvert_exporter": "python",
   "pygments_lexer": "ipython2",
   "version": "2.7.12"
  }
 },
 "nbformat": 4,
 "nbformat_minor": 1
}
